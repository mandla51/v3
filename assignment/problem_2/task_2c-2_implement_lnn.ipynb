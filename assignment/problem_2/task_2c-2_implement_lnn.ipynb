{
 "cells": [
  {
   "cell_type": "markdown",
   "id": "ac408b5e",
   "metadata": {
    "deletable": false,
    "editable": false,
    "nbgrader": {
     "cell_type": "markdown",
     "checksum": "7619294def77410a539e618e2428f0d5",
     "grade": false,
     "grade_id": "cell-b00828259c8e42e8",
     "locked": true,
     "schema_version": 3,
     "solution": false,
     "task": false
    }
   },
   "source": [
    "# RO47019: Intelligent Control Systems Practical Assignment\n",
    "* Period: 2023-2024, Q3\n",
    "* Course homepage: https://brightspace.tudelft.nl/d2l/home/500969\n",
    "* Instructor: Cosimo Della Santina (C.DellaSantina@tudelft.nl)\n",
    "* Teaching assistant: Maria de Neves de Fonseca (M.deNevesdeFonseca-1@student.tudelft.nl)\n",
    "* (c) TU Delft, 2024\n",
    "\n",
    "Make sure you fill in any place that says `YOUR CODE HERE` or `YOUR ANSWER HERE`. Remove `raise NotImplementedError()` afterwards. Moreover, if you see an empty cell, please DO NOT delete it, instead run that cell as you would run all other cells. Please fill in your name(s) and other required details below:"
   ]
  },
  {
   "cell_type": "code",
   "execution_count": null,
   "id": "4f9e220c",
   "metadata": {},
   "outputs": [],
   "source": [
    "# Please fill in your names, student numbers, netID, and emails below.\n",
    "STUDENT_1_NAME = \"\"\n",
    "STUDENT_1_STUDENT_NUMBER = \"\"\n",
    "STUDENT_1_NETID = \"\"\n",
    "STUDENT_1_EMAIL = \"\""
   ]
  },
  {
   "cell_type": "code",
   "execution_count": null,
   "id": "8ba32571",
   "metadata": {
    "deletable": false,
    "editable": false,
    "nbgrader": {
     "cell_type": "code",
     "checksum": "042927213b84aa368aa3ea72caa4cb60",
     "grade": true,
     "grade_id": "cell-9f148ec62e0de49c",
     "locked": true,
     "points": 0,
     "schema_version": 3,
     "solution": false,
     "task": false
    }
   },
   "outputs": [],
   "source": [
    "# Note: this block is a check that you have filled in the above information.\n",
    "# It will throw an AssertionError until all fields are filled\n",
    "assert STUDENT_1_NAME != \"\"\n",
    "assert STUDENT_1_STUDENT_NUMBER != \"\"\n",
    "assert STUDENT_1_NETID != \"\"\n",
    "assert STUDENT_1_EMAIL != \"\""
   ]
  },
  {
   "cell_type": "markdown",
   "id": "af317a94",
   "metadata": {
    "deletable": false,
    "editable": false,
    "nbgrader": {
     "cell_type": "markdown",
     "checksum": "95c5b11f9ac3896252d342cabb38d867",
     "grade": false,
     "grade_id": "cell-4ea391677951116c",
     "locked": true,
     "schema_version": 3,
     "solution": false,
     "task": false
    }
   },
   "source": [
    "### General announcements\n",
    "\n",
    "* Do *not* share your solutions (also after the course is finished), and do *not* copy solutions from others. By submitting your solutions, you claim that you alone are responsible for this code.\n",
    "\n",
    "* Do *not* email questions directly, since we want to provide everybody with the same information and avoid repeating the same answers. Instead, please post your questions regarding this assignment in the correct support forum on Brightspace, this way everybody can benefit from the response. If you do have a particular question that you want to ask directly, please use the scheduled Q&A hours to ask the TA.\n",
    "\n",
    "* There is a strict deadline for each assignment. Students are responsible to ensure that they have uploaded their work in time. So, please double check that your upload succeeded to the Brightspace and avoid any late penalties.\n",
    "\n",
    "* This [Jupyter notebook](https://jupyter.org/) uses `nbgrader` to help us with automated tests. `nbgrader` will make various cells in this notebook \"uneditable\" or \"unremovable\" and gives them a special id in the cell metadata. This way, when we run our checks, the system will check the existence of the cell ids and verify the number of points and which checks must be run. While there are ways that you can edit the metadata and work around the restrictions to delete or modify these special cells, you should not do that since then our nbgrader backend will not be able to parse your notebook and give you points for the assignment. You are free to add additional cells, but if you find a cell that you cannot modify or remove, please know that this is on purpose.\n",
    "\n",
    "* This notebook will have in various places a line that throws a `NotImplementedError` exception. These are locations where the assignment requires you to adapt the code! These lines are just there as a reminder for you that you have not yet adapted that particular piece of code, especially when you execute all the cells. Once your solution code replaced these lines, it should accordingly *not* throw any exceptions anymore.\n",
    "\n",
    "Before you turn this problem in, make sure everything runs as expected. First, **restart the kernel** (in the menubar, select Kernel$\\rightarrow$Restart) and then **run all cells** (in the menubar, select Cell$\\rightarrow$Run All)."
   ]
  },
  {
   "cell_type": "code",
   "execution_count": null,
   "id": "3c956945",
   "metadata": {},
   "outputs": [],
   "source": []
  },
  {
   "cell_type": "markdown",
   "id": "387d2c60",
   "metadata": {
    "deletable": false,
    "editable": false,
    "nbgrader": {
     "cell_type": "markdown",
     "checksum": "59e3f6f57889f90311d93b08aeeec19c",
     "grade": false,
     "grade_id": "cell-ed88010142fb94bb",
     "locked": true,
     "schema_version": 3,
     "solution": false,
     "task": false
    }
   },
   "source": [
    "# Task 2c.2 - Implementation of a Lagrangian Neural Network (LNN) (9p)\n",
    "\n",
    "**Author:** Maximilian Stölzle (M.W.Stolzle@tudelft.nl)\n",
    "\n",
    "This notebook will guide you through the implementation of a Lagrangian neural network."
   ]
  },
  {
   "cell_type": "code",
   "execution_count": null,
   "id": "c3dacc9a",
   "metadata": {
    "deletable": false,
    "editable": false,
    "nbgrader": {
     "cell_type": "code",
     "checksum": "3af44be57abfbb907c0601a46c40d504",
     "grade": false,
     "grade_id": "cell-d7243ceefb433f94",
     "locked": true,
     "schema_version": 3,
     "solution": false,
     "task": false
    }
   },
   "outputs": [],
   "source": [
    "# Reloads the python files outside of this notebook automatically\n",
    "%load_ext autoreload\n",
    "%autoreload 2\n",
    "\n",
    "# import all Python modules\n",
    "from distutils.util import strtobool\n",
    "from functools import partial\n",
    "from jax import config as jax_config\n",
    "\n",
    "jax_config.update(\"jax_platform_name\", \"cpu\")  # set default device to 'cpu'\n",
    "jax_config.update(\"jax_enable_x64\", True)  # double precision\n",
    "import jax\n",
    "from jax import random\n",
    "from jax import numpy as jnp\n",
    "import os\n",
    "from pathlib import Path\n",
    "import warnings\n",
    "\n",
    "from jax_double_pendulum.integrators import rk4_step\n",
    "from jax_double_pendulum.utils import normalize_link_angles\n",
    "\n",
    "# define boolean to check if the notebook is run for the purposes of autograding\n",
    "AUTOGRADING = strtobool(os.environ.get(\"AUTOGRADING\", \"false\"))\n",
    "# define tolerances for grading\n",
    "RTOL = float(os.environ.get(\"RTOL\", \"1e-4\"))  # relative tolerance\n",
    "ATOL = float(os.environ.get(\"ATOL\", \"1e-7\"))  # absolute tolerance"
   ]
  },
  {
   "cell_type": "markdown",
   "id": "3edaaff6",
   "metadata": {
    "deletable": false,
    "editable": false,
    "nbgrader": {
     "cell_type": "markdown",
     "checksum": "b67116fcdb29646c76b0ce531dc7d221",
     "grade": false,
     "grade_id": "cell-dd988f302f1e2593",
     "locked": true,
     "schema_version": 3,
     "solution": false,
     "task": false
    }
   },
   "source": [
    "## Neural networks (2p)\n",
    "\n",
    "First, please finish the implementation of the neural networks `MassMatrixNN` and `PotentialEnergyNN`. Both neural networks should consist of four layers and have the following structure:\n",
    "\n",
    "1. A linear layer mapping from the input dimension to the hidden state dimension $n_\\mathrm{hidden}$.\n",
    "\n",
    "2. A softplus activation function.\n",
    "\n",
    "3. A linear layer with $n_\\mathrm{hidden}$ as both the input and output dimension.\n",
    "\n",
    "4. A softplus activation function.\n",
    "\n",
    "5. A linear layer with $n_\\mathrm{hidden}$ as both the input and output dimension.\n",
    "\n",
    "6. A softplus activation function.\n",
    "\n",
    "7. A linear layer with $n_\\mathrm{hidden}$ as both the input and output dimension.\n",
    "\n",
    "8. A softplus activation function.\n",
    "\n",
    "9. A linear layer mapping from $n_\\mathrm{hidden}$ to the output dimension.\n",
    "\n",
    "\n",
    "The hidden state dimension is set by the `num_hidden` attribute of the class to $32$. The softplus activation function is a smooth approximation of the Rectified Linear Unit (ReLU) function.\n",
    "\n",
    "The mass matrix $M$ (sometimes also denoted as $B$) of mechanical systems has two important characteristics, which we want to enforce for our learned mass matrix as well:\n",
    "\n",
    "- The diagonal values are always positive\n",
    "- The matrix is symmetric\n",
    "\n",
    "The symmetry is given automatically by the fact that we only learn a triangular matrix and then derive the complete mass matrix from that triangular matrix. We can induce the first characteristic by applying a softplus activation function in conjunction with a shifting of the diagonals."
   ]
  },
  {
   "cell_type": "code",
   "execution_count": null,
   "id": "195c5a7c",
   "metadata": {
    "deletable": false,
    "editable": false,
    "nbgrader": {
     "cell_type": "code",
     "checksum": "477856434d25b95cd7fe1e553c914a1a",
     "grade": true,
     "grade_id": "cell-eb09c2699bae145a",
     "locked": true,
     "points": 2,
     "schema_version": 3,
     "solution": false,
     "task": false
    }
   },
   "outputs": [],
   "source": [
    "# DO NOT REMOVE OR MODIFY THIS CELL\n",
    "\n",
    "# import MassMatrixNN and PotentialEnergyNN from lnn.ipynb\n",
    "from ipynb.fs.full.lnn import MassMatrixNN, PotentialEnergyNN\n",
    "\n",
    "# initialize the PRNG key at seed 0\n",
    "_rng = random.PRNGKey(seed=0)\n",
    "\n",
    "# initialize parameters of MassMatrixNN by passing a dummy input of ones through the network\n",
    "_mass_matrix_nn_params = MassMatrixNN().init(_rng, jnp.ones((2,)))[\"params\"]\n",
    "\n",
    "# initialize parameters of PotentialEnergyNN by passing a dummy input of ones through the network\n",
    "_potential_energy_nn_params = PotentialEnergyNN().init(_rng, jnp.ones((2,)))[\"params\"]\n",
    "\n",
    "# some dummy system state\n",
    "_th = 0 * jnp.ones((2,))\n",
    "\n",
    "_M_nn = MassMatrixNN().apply({\"params\": _mass_matrix_nn_params}, _th)\n",
    "print(\"Computed mass matrix (output from neural network):\\n\", _M_nn)\n",
    "\n",
    "_M_nn_target = jnp.array([[0.54595144, -0.53372961], [-0.53372961, 0.97476694]])\n",
    "print(\"Target mass matrix (output from neural network):\\n\", _M_nn_target)\n",
    "if not jnp.allclose(_M_nn, _M_nn_target, rtol=RTOL, atol=ATOL):\n",
    "    warnings.warn(\"The output of the mass matrix neural network is not correct.\")\n",
    "\n",
    "_U = PotentialEnergyNN().apply({\"params\": _potential_energy_nn_params}, _th)\n",
    "print(\"Computed potential energy:\\n\", _U)\n",
    "\n",
    "_U_target = jnp.array(-0.3061547720368191)\n",
    "print(\"Target potential energy:\\n\", _U_target)\n",
    "if not jnp.allclose(_U, _U_target, rtol=RTOL, atol=ATOL):\n",
    "    warnings.warn(\"The output of the potential energy neural network is not correct.\")\n"
   ]
  },
  {
   "cell_type": "markdown",
   "id": "020a6a94",
   "metadata": {
    "deletable": false,
    "editable": false,
    "nbgrader": {
     "cell_type": "markdown",
     "checksum": "ada1a6a1aafd5794fe2084c7ea7af4d1",
     "grade": false,
     "grade_id": "cell-b087027aa5491ee8",
     "locked": true,
     "schema_version": 3,
     "solution": false,
     "task": false
    }
   },
   "source": [
    "## Lagrangian (1p)\n",
    "\n",
    "First, please implement the two functions `kinetic_energy_fn` and `potential_energy_fn` which compute the (estimated) kinetic energy and potential energy of the system respectively:\n",
    "\n",
    "\\begin{equation}\n",
    "    \\mathcal{T} = \\frac{1}{2} \\: \\dot{\\theta}^\\mathrm{T} \\: f_\\mathrm{M}(\\theta, \\pi_\\mathrm{M}) \\: \\dot{\\theta}, \n",
    "    \\qquad \n",
    "    \\mathcal{U} = f_\\mathcal{U}(\\theta, \\pi_\\mathcal{U}),\n",
    "\\end{equation}\n",
    "\n",
    "where $f_\\mathrm{M}(\\theta, \\pi_\\mathrm{M})$ and $f_\\mathcal{U}(\\theta, \\pi_\\mathcal{U})$ are the two neural network forward functions respectively.\n",
    "\n",
    "The Lagrangian $\\mathcal{L}$ is then defined as\n",
    "\n",
    "\\begin{equation}\n",
    "    \\mathcal{L} = \\mathcal{T} - \\mathcal{U},\n",
    "\\end{equation}\n",
    "\n",
    "and needs to be implemented into `lagrangian_fn`."
   ]
  },
  {
   "cell_type": "code",
   "execution_count": null,
   "id": "c8eda369",
   "metadata": {
    "deletable": false,
    "editable": false,
    "nbgrader": {
     "cell_type": "code",
     "checksum": "3ad92b9b5c019532268775bed0e60e18",
     "grade": true,
     "grade_id": "cell-16a7f1ab8bb47b51",
     "locked": true,
     "points": 1,
     "schema_version": 3,
     "solution": false,
     "task": false
    }
   },
   "outputs": [],
   "source": [
    "# DO NOT REMOVE OR MODIFY THIS CELL\n",
    "\n",
    "# import lagrangian_fn from lnn.ipynb\n",
    "from ipynb.fs.full.lnn import lagrangian_fn\n",
    "\n",
    "# dummy link velocity\n",
    "_th_d = jnp.pi * jnp.ones((2,))\n",
    "\n",
    "_L = lagrangian_fn(\n",
    "    _mass_matrix_nn_params,\n",
    "    _potential_energy_nn_params,\n",
    "    _th,\n",
    "    _th_d,\n",
    ")\n",
    "print(\"Computed Lagrangian:\", _L)\n",
    "\n",
    "_L_target = jnp.array(2.542899071686838)\n",
    "print(\"Target Lagrangian:\", _L_target)\n",
    "if not jnp.allclose(_L, _L_target, rtol=RTOL, atol=ATOL):\n",
    "    warnings.warn(\"The computed Lagrangian is not correct.\")\n"
   ]
  },
  {
   "cell_type": "markdown",
   "id": "0eecd5e9",
   "metadata": {
    "deletable": false,
    "editable": false,
    "nbgrader": {
     "cell_type": "markdown",
     "checksum": "70e51a2be64ce0269deefc87ee5b3152",
     "grade": false,
     "grade_id": "cell-ffd594115584c003",
     "locked": true,
     "schema_version": 3,
     "solution": false,
     "task": false
    }
   },
   "source": [
    "## Continuous forward dynamics (4p)\n",
    "\n",
    "Next, please take the various partial derivatives of the Lagrangian to compute the dynamical matrices (i.e. the components of the equations of motion) in the function `dynamical_matrices`\n",
    "\n",
    "\\begin{equation}\n",
    "    M = \\frac{\\partial^2 \\mathcal{L}}{\\partial \\dot{\\theta}^2},\n",
    "    \\qquad\n",
    "    C = \\frac{\\partial^2 \\mathcal{L}}{\\partial \\theta \\partial \\dot{\\theta}},\n",
    "    \\qquad\n",
    "    G = - \\frac{\\partial \\mathcal{L}}{\\partial \\theta}.\n",
    "\\end{equation}\n",
    "\n",
    "Make sure that before you evaluate the Lagrangian, you normalize the link angles $\\theta$ to the interval $[-\\pi, \\pi]$. If we were not to implement this normalization, we would (likely) get a different behaviour for $\\theta = a$ or $\\theta = a + 2 \\: \\pi$, which is not desired. This would also drastically increase the amount of training data we would require.\n",
    "\n",
    "Then, please compute the continuous forward dynamics (i.e. determining $\\ddot{\\theta}$ for a given state $(\\theta, \\dot{\\theta})$ and input $\\tau$) in the function `continuous_forward_dynamics`. For this implementation, you can take inspiration from the analytical solution in `jax_double_pendulum.dynamics.continuous_forward_dynamics`."
   ]
  },
  {
   "cell_type": "code",
   "execution_count": null,
   "id": "82dc19a6",
   "metadata": {
    "deletable": false,
    "editable": false,
    "nbgrader": {
     "cell_type": "code",
     "checksum": "18df3ea94dc12ae4e08edf78fe8f533d",
     "grade": true,
     "grade_id": "cell-3604fa447bb6bff9",
     "locked": true,
     "points": 4,
     "schema_version": 3,
     "solution": false,
     "task": false
    }
   },
   "outputs": [],
   "source": [
    "# DO NOT REMOVE OR MODIFY THIS CELL\n",
    "\n",
    "# import dynamical_matrices from lnn.ipynb\n",
    "from ipynb.fs.full.lnn import dynamical_matrices, continuous_forward_dynamics\n",
    "\n",
    "_M, _C, _G = dynamical_matrices(\n",
    "    _mass_matrix_nn_params,\n",
    "    _potential_energy_nn_params,\n",
    "    _th,\n",
    "    _th_d,\n",
    ")\n",
    "\n",
    "_M_target = jnp.array([[0.54595144, -0.53372961], [-0.53372961, 0.97476694]])\n",
    "_C_target = jnp.array([[0.25423738, 0.00539128], [-0.069986, 0.09831604]])\n",
    "_G_target = jnp.array([-0.24982781, -0.21771264])\n",
    "\n",
    "print(\"Computed M:\\n\", _M)\n",
    "\n",
    "# the mass matrix estimated by the neural network should be the same as d2L_d2thd\n",
    "if not jnp.allclose(_M_nn, _M, rtol=RTOL, atol=ATOL):\n",
    "    warnings.warn(\n",
    "        \"The mass matrix computed from the Lagrangian needs to match the output of the neural network.\"\n",
    "    )\n",
    "\n",
    "print(\"Target M:\\n\", _M_target)\n",
    "if not jnp.allclose(_M, _M_target, rtol=RTOL, atol=ATOL):\n",
    "    warnings.warn(\"The computed mass matrix is not correct.\")\n",
    "\n",
    "print(\"Computed C:\\n\", _C)\n",
    "print(\"Target C:\\n\", _C_target)\n",
    "if not jnp.allclose(_C, _C_target, rtol=RTOL, atol=ATOL):\n",
    "    warnings.warn(\"The computed coriolis matrix is not correct.\")\n",
    "\n",
    "print(\"Computed G:\\n\", _G)\n",
    "print(\"Target G:\\n\", _G_target)\n",
    "if not jnp.allclose(_G, _G_target, rtol=RTOL, atol=ATOL):\n",
    "    warnings.warn(\"The computed gravity vector is not correct.\")\n",
    "\n",
    "# zero applied torque\n",
    "_tau = jnp.ones((2,))\n",
    "\n",
    "_th_dd = continuous_forward_dynamics(\n",
    "    _mass_matrix_nn_params,\n",
    "    _potential_energy_nn_params,\n",
    "    _th,\n",
    "    _th_d,\n",
    "    _tau,\n",
    ")\n",
    "\n",
    "_th_dd_target = jnp.array([4.14726048, 3.42874464])\n",
    "\n",
    "print(\"Computed th_dd:\\n\", _th_dd)\n",
    "print(\"Target th_dd:\\n\", _th_dd_target)\n",
    "if not jnp.allclose(_th_dd, _th_dd_target, rtol=RTOL, atol=ATOL):\n",
    "    warnings.warn(\"The computed angular link acceleration is not correct.\")\n"
   ]
  },
  {
   "cell_type": "markdown",
   "id": "cb68589a",
   "metadata": {
    "deletable": false,
    "editable": false,
    "nbgrader": {
     "cell_type": "markdown",
     "checksum": "919e79cf4f54f991c5c4da2da3acfb2c",
     "grade": false,
     "grade_id": "cell-26ec37e3e31046a2",
     "locked": true,
     "schema_version": 3,
     "solution": false,
     "task": false
    }
   },
   "source": [
    "## State-space dynamics (1p)\n",
    "\n",
    "Please implement dynamics in a nonlinear state-space representation into the function `continuous_state_space_dynamics`. The state-space representation needs to have the following structure\n",
    "\n",
    "\\begin{equation}\n",
    "    \\frac{\\mathrm{d}x}{\\mathrm{d}t} = f(x, \\tau),\\\\\n",
    "    y = g(x, \\tau),\n",
    "\\end{equation}\n",
    "\n",
    "where $x \\in \\mathbb{R}^4$ is the state of the system. For implementing this function, you can take inspiration from `jax_double_pendulum.dynamics.continuous_state_space_dynamics`.\n",
    "\n",
    "Having the EoM in this structure will allow us in the next step to use standard methods such as [RK4](https://en.wikipedia.org/wiki/Runge–Kutta_methods) to integrate the ODE in time."
   ]
  },
  {
   "cell_type": "code",
   "execution_count": null,
   "id": "31aab7cf",
   "metadata": {
    "deletable": false,
    "editable": false,
    "nbgrader": {
     "cell_type": "code",
     "checksum": "7533f2f0304481b6f02971b27dd88f8c",
     "grade": true,
     "grade_id": "cell-82477ae2e15f5b3b",
     "locked": true,
     "points": 1,
     "schema_version": 3,
     "solution": false,
     "task": false
    }
   },
   "outputs": [],
   "source": [
    "# DO NOT REMOVE OR MODIFY THIS CELL\n",
    "\n",
    "# import continuous_state_space_dynamics from lnn.ipynb\n",
    "from ipynb.fs.full.lnn import continuous_state_space_dynamics\n",
    "\n",
    "# define a dummy state\n",
    "_x = jnp.concatenate([_th, _th_d])\n",
    "\n",
    "_dx_dt, _y = continuous_state_space_dynamics(\n",
    "    _mass_matrix_nn_params,\n",
    "    _potential_energy_nn_params,\n",
    "    _x,\n",
    "    _tau,\n",
    ")\n",
    "\n",
    "_dx_dt_target = jnp.array([3.14159265, 3.14159265, 4.14726048, 3.42874464])\n",
    "_y_target = jnp.array([[0.0, 0.0]])\n",
    "\n",
    "print(\"Computed dx_dt:\\n\", _dx_dt)\n",
    "print(\"Target dx_dt:\\n\", _dx_dt_target)\n",
    "if not jnp.allclose(_dx_dt, _dx_dt_target, rtol=RTOL, atol=ATOL):\n",
    "    warnings.warn(\"The computed time derivative of the state is not correct.\")\n",
    "\n",
    "print(\"Computed y:\", _y, \"target y:\", _y_target)\n",
    "if not jnp.allclose(_y, _y_target, rtol=RTOL, atol=ATOL):\n",
    "    warnings.warn(\"The computed system output is not correct.\")\n"
   ]
  },
  {
   "cell_type": "markdown",
   "id": "f2144026",
   "metadata": {
    "deletable": false,
    "editable": false,
    "nbgrader": {
     "cell_type": "markdown",
     "checksum": "9a0e4578b2bc15f06412687a707cbc25",
     "grade": false,
     "grade_id": "cell-1fc881f602dd36ba",
     "locked": true,
     "schema_version": 3,
     "solution": false,
     "task": false
    }
   },
   "source": [
    "## Discrete-time forward dynamics (1p)\n",
    "\n",
    "Now, we move on to implementing the discrete-time forward dynamics into `discrete_forward_dynamics`.\n",
    "Please use the `jax_double_pendulum.integrators.rk4_step` function to integrate the continuous state-space dynamics for one time-step of duration `dt`. The `rk4_step` expects as its first argument an `ode_fun`, which needs to conform to the following syntax: `rk4_step(x) -> dx_dt` (i.e. a mapping from the state $x$ to its time-derivative $\\dot{x}$). For implementing this function, you can take inspiration from `jax_double_pendulum.dynamics.discrete_forward_dynamics`."
   ]
  },
  {
   "cell_type": "code",
   "execution_count": null,
   "id": "2ab7b6a9",
   "metadata": {
    "deletable": false,
    "editable": false,
    "nbgrader": {
     "cell_type": "code",
     "checksum": "908a7e0dc19cb61bad75fea1bb1192a3",
     "grade": true,
     "grade_id": "cell-d635ffa07cc2e768",
     "locked": true,
     "points": 1,
     "schema_version": 3,
     "solution": false,
     "task": false
    }
   },
   "outputs": [],
   "source": [
    "# DO NOT REMOVE OR MODIFY THIS CELL\n",
    "\n",
    "# import discrete_forward_dynamics from lnn.ipynb\n",
    "from ipynb.fs.full.lnn import discrete_forward_dynamics\n",
    "\n",
    "_dt = 1e-2  # time-step [s]\n",
    "_th_next, _th_d_next, _th_dd = discrete_forward_dynamics(\n",
    "    _mass_matrix_nn_params,\n",
    "    _potential_energy_nn_params,\n",
    "    _dt,\n",
    "    _th,\n",
    "    _th_d,\n",
    "    _tau,\n",
    ")\n",
    "\n",
    "_th_next_target = jnp.array([0.03162163, 0.0315865])\n",
    "_th_d_next_target = jnp.array([3.18256705, 3.17561977])\n",
    "_th_dd_target = jnp.array([4.14726048, 3.42874464])\n",
    "\n",
    "print(\"Computed th_next:\\n\", _th_next)\n",
    "print(\"Target th_next:\\n\", _th_next_target)\n",
    "if not jnp.allclose(_th_next, _th_next_target, rtol=RTOL, atol=ATOL):\n",
    "    warnings.warn(\"The computed next link angles are not correct.\")\n",
    "\n",
    "print(\"Computed th_d_next:\\n\", _th_d_next)\n",
    "print(\"Target th_d_next:\\n\", _th_d_next_target)\n",
    "if not jnp.allclose(_th_d_next, _th_d_next_target, rtol=RTOL, atol=ATOL):\n",
    "    warnings.warn(\"The computed next angular link velocities are not correct.\")\n",
    "\n",
    "print(\"Computed th_d_next:\\n\", _th_dd)\n",
    "print(\"Target th_d_next:\\n\", _th_dd_target)\n",
    "if not jnp.allclose(_th_dd, _th_dd_target, rtol=RTOL, atol=ATOL):\n",
    "    warnings.warn(\"The computed angular link accelerations are not correct.\")\n",
    "\n"
   ]
  },
  {
   "cell_type": "code",
   "execution_count": null,
   "id": "fa804051",
   "metadata": {},
   "outputs": [],
   "source": []
  }
 ],
 "metadata": {
  "kernelspec": {
   "display_name": "Python 3 (ipykernel)",
   "language": "python",
   "name": "python3"
  },
  "language_info": {
   "codemirror_mode": {
    "name": "ipython",
    "version": 3
   },
   "file_extension": ".py",
   "mimetype": "text/x-python",
   "name": "python",
   "nbconvert_exporter": "python",
   "pygments_lexer": "ipython3",
   "version": "3.11.6"
  }
 },
 "nbformat": 4,
 "nbformat_minor": 5
}
