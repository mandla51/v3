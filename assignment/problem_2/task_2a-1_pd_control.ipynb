{
 "cells": [
  {
   "cell_type": "markdown",
   "id": "ac408b5e",
   "metadata": {
    "deletable": false,
    "editable": false,
    "nbgrader": {
     "cell_type": "markdown",
     "checksum": "7619294def77410a539e618e2428f0d5",
     "grade": false,
     "grade_id": "cell-b00828259c8e42e8",
     "locked": true,
     "schema_version": 3,
     "solution": false,
     "task": false
    }
   },
   "source": [
    "# RO47019: Intelligent Control Systems Practical Assignment\n",
    "* Period: 2023-2024, Q3\n",
    "* Course homepage: https://brightspace.tudelft.nl/d2l/home/500969\n",
    "* Instructor: Cosimo Della Santina (C.DellaSantina@tudelft.nl)\n",
    "* Teaching assistant: Maria de Neves de Fonseca (M.deNevesdeFonseca-1@student.tudelft.nl)\n",
    "* (c) TU Delft, 2024\n",
    "\n",
    "Make sure you fill in any place that says `YOUR CODE HERE` or `YOUR ANSWER HERE`. Remove `raise NotImplementedError()` afterwards. Moreover, if you see an empty cell, please DO NOT delete it, instead run that cell as you would run all other cells. Please fill in your name(s) and other required details below:"
   ]
  },
  {
   "cell_type": "code",
   "execution_count": null,
   "id": "4f9e220c",
   "metadata": {},
   "outputs": [],
   "source": [
    "# Please fill in your names, student numbers, netID, and emails below.\n",
    "STUDENT_1_NAME = \"\"\n",
    "STUDENT_1_STUDENT_NUMBER = \"\"\n",
    "STUDENT_1_NETID = \"\"\n",
    "STUDENT_1_EMAIL = \"\""
   ]
  },
  {
   "cell_type": "code",
   "execution_count": null,
   "id": "8ba32571",
   "metadata": {
    "deletable": false,
    "editable": false,
    "nbgrader": {
     "cell_type": "code",
     "checksum": "042927213b84aa368aa3ea72caa4cb60",
     "grade": true,
     "grade_id": "cell-9f148ec62e0de49c",
     "locked": true,
     "points": 0,
     "schema_version": 3,
     "solution": false,
     "task": false
    }
   },
   "outputs": [],
   "source": [
    "# Note: this block is a check that you have filled in the above information.\n",
    "# It will throw an AssertionError until all fields are filled\n",
    "assert STUDENT_1_NAME != \"\"\n",
    "assert STUDENT_1_STUDENT_NUMBER != \"\"\n",
    "assert STUDENT_1_NETID != \"\"\n",
    "assert STUDENT_1_EMAIL != \"\""
   ]
  },
  {
   "cell_type": "markdown",
   "id": "af317a94",
   "metadata": {
    "deletable": false,
    "editable": false,
    "nbgrader": {
     "cell_type": "markdown",
     "checksum": "95c5b11f9ac3896252d342cabb38d867",
     "grade": false,
     "grade_id": "cell-4ea391677951116c",
     "locked": true,
     "schema_version": 3,
     "solution": false,
     "task": false
    }
   },
   "source": [
    "### General announcements\n",
    "\n",
    "* Do *not* share your solutions (also after the course is finished), and do *not* copy solutions from others. By submitting your solutions, you claim that you alone are responsible for this code.\n",
    "\n",
    "* Do *not* email questions directly, since we want to provide everybody with the same information and avoid repeating the same answers. Instead, please post your questions regarding this assignment in the correct support forum on Brightspace, this way everybody can benefit from the response. If you do have a particular question that you want to ask directly, please use the scheduled Q&A hours to ask the TA.\n",
    "\n",
    "* There is a strict deadline for each assignment. Students are responsible to ensure that they have uploaded their work in time. So, please double check that your upload succeeded to the Brightspace and avoid any late penalties.\n",
    "\n",
    "* This [Jupyter notebook](https://jupyter.org/) uses `nbgrader` to help us with automated tests. `nbgrader` will make various cells in this notebook \"uneditable\" or \"unremovable\" and gives them a special id in the cell metadata. This way, when we run our checks, the system will check the existence of the cell ids and verify the number of points and which checks must be run. While there are ways that you can edit the metadata and work around the restrictions to delete or modify these special cells, you should not do that since then our nbgrader backend will not be able to parse your notebook and give you points for the assignment. You are free to add additional cells, but if you find a cell that you cannot modify or remove, please know that this is on purpose.\n",
    "\n",
    "* This notebook will have in various places a line that throws a `NotImplementedError` exception. These are locations where the assignment requires you to adapt the code! These lines are just there as a reminder for you that you have not yet adapted that particular piece of code, especially when you execute all the cells. Once your solution code replaced these lines, it should accordingly *not* throw any exceptions anymore.\n",
    "\n",
    "Before you turn this problem in, make sure everything runs as expected. First, **restart the kernel** (in the menubar, select Kernel$\\rightarrow$Restart) and then **run all cells** (in the menubar, select Cell$\\rightarrow$Run All)."
   ]
  },
  {
   "cell_type": "code",
   "execution_count": null,
   "id": "3c956945",
   "metadata": {},
   "outputs": [],
   "source": []
  },
  {
   "cell_type": "markdown",
   "id": "387d2c60",
   "metadata": {
    "deletable": false,
    "editable": false,
    "nbgrader": {
     "cell_type": "markdown",
     "checksum": "6622874473a373a6f78bbca56d36e439",
     "grade": false,
     "grade_id": "cell-ed88010142fb94bb",
     "locked": true,
     "schema_version": 3,
     "solution": false,
     "task": false
    }
   },
   "source": [
    "# Task 2a.1 - PD control (4p)\n",
    "\n",
    "**Author:** Maximilian Stölzle (M.W.Stolzle@tudelft.nl)"
   ]
  },
  {
   "cell_type": "code",
   "execution_count": null,
   "id": "35339f62",
   "metadata": {
    "deletable": false,
    "editable": false,
    "nbgrader": {
     "cell_type": "code",
     "checksum": "24c583c15b11196995c1296af23e07ee",
     "grade": false,
     "grade_id": "cell-e33520fa3a4d3861",
     "locked": true,
     "schema_version": 3,
     "solution": false,
     "task": false
    }
   },
   "outputs": [],
   "source": [
    "# Reloads the python files outside of this notebook automatically\n",
    "%load_ext autoreload\n",
    "%autoreload 2\n",
    "\n",
    "# import all Python modules\n",
    "from distutils.util import strtobool\n",
    "from functools import partial\n",
    "from IPython.display import display, HTML  # For animations in the notebook\n",
    "from jax import config as jax_config\n",
    "\n",
    "jax_config.update(\"jax_platform_name\", \"cpu\")  # set default device to 'cpu'\n",
    "jax_config.update(\"jax_enable_x64\", True)  # double precision\n",
    "from jax import numpy as jnp\n",
    "import os\n",
    "from pathlib import Path\n",
    "\n",
    "# define boolean to check if the notebook is run for the purposes of autograding\n",
    "AUTOGRADING = strtobool(os.environ.get(\"AUTOGRADING\", \"false\"))\n",
    "# define tolerances for grading\n",
    "RTOL = float(os.environ.get(\"RTOL\", \"1e-4\"))  # relative tolerance\n",
    "ATOL = float(os.environ.get(\"ATOL\", \"1e-7\"))  # absolute tolerance\n",
    "\n",
    "# define folder where to save animations and plots\n",
    "outputs_dir = Path(\"outputs\")\n",
    "outputs_dir.mkdir(parents=True, exist_ok=True)"
   ]
  },
  {
   "cell_type": "markdown",
   "id": "e55c86e8",
   "metadata": {
    "deletable": false,
    "editable": false,
    "nbgrader": {
     "cell_type": "markdown",
     "checksum": "106e40dc38625851a6c26c7ed2499cff",
     "grade": false,
     "grade_id": "cell-64d8b35b3e5c9b1f",
     "locked": true,
     "schema_version": 3,
     "solution": false,
     "task": false
    }
   },
   "source": [
    "## Task 2a.1.1 - Implementation and simulation of a PD feedback controller acting on the link angles (2p)\n",
    "In this task, we regulate the link angles and angular velocities $\\theta \\in \\mathbb{R}^2$, $\\dot{\\theta} \\in \\mathbb{R}^2$ towards the desired trajectory $\\theta^\\mathrm{d} \\in \\mathbb{R}^2$, $\\dot{\\theta}^\\mathrm{d} \\in \\mathbb{R}^2$. The PD control law is given by:\n",
    "\n",
    "\\begin{equation}\n",
    "\\tau_\\mathrm{fb} = k_\\mathrm{p} \\, (\\theta^\\mathrm{d}-\\theta) + k_\\mathrm{d} \\, (\\dot{\\theta}^\\mathrm{d}-\\dot{\\theta})\n",
    "\\end{equation}\n",
    "\n",
    "### Implementing `ctrl_fb_pd` (0.5p)\n",
    "Please implement the specified PD controller into the function `ctrl_fb_pd` in the notebook `controllers.ipynb`. "
   ]
  },
  {
   "cell_type": "code",
   "execution_count": null,
   "id": "5bc6a16a",
   "metadata": {
    "deletable": false,
    "editable": false,
    "nbgrader": {
     "cell_type": "code",
     "checksum": "7542765fbacb820fa0d2fb99a79c2fcb",
     "grade": true,
     "grade_id": "A-ctr_fb_pd",
     "locked": true,
     "points": 0.5,
     "schema_version": 3,
     "solution": false,
     "task": false
    }
   },
   "outputs": [],
   "source": [
    "# DO NOT REMOVE OR MODIFY THIS CELL\n",
    "\n",
    "# import ctrl_fb_pd function from controllers.ipynb\n",
    "from ipynb.fs.full.controllers import ctrl_fb_pd\n",
    "\n",
    "# test output shape of ctrl_fb_pd\n",
    "_tau_dummy = ctrl_fb_pd(\n",
    "    jnp.ones((2,)),\n",
    "    jnp.ones((2,)),\n",
    "    jnp.zeros((2,)),\n",
    "    jnp.zeros((2,)),\n",
    "    kp=jnp.eye(2),\n",
    "    kd=jnp.eye(2),\n",
    ")\n",
    "print(\"Computed torque:\", _tau_dummy, \"Nm\")\n",
    "assert _tau_dummy.shape == (2,), \"The computed torque needs to be of shape (2, )\"\n"
   ]
  },
  {
   "cell_type": "markdown",
   "id": "ae56f654",
   "metadata": {
    "deletable": false,
    "editable": false,
    "nbgrader": {
     "cell_type": "markdown",
     "checksum": "05fb6ce8b2127e7a69b572784a70bcec",
     "grade": false,
     "grade_id": "cell-fe12b8de9b7c8711",
     "locked": true,
     "schema_version": 3,
     "solution": false,
     "task": false
    }
   },
   "source": [
    "### Simulating the closed-loop system (1.5p)\n",
    "\n",
    "In this section, we apply the implemented PD controller to a closed-loop simulation. The goal is achieve an RMSE error for the end-effector position of just lower than 0.1m. Please tune the gain matrices `kp` and `kd` accordingly."
   ]
  },
  {
   "cell_type": "code",
   "execution_count": null,
   "id": "17e71a9c",
   "metadata": {
    "deletable": false,
    "editable": false,
    "nbgrader": {
     "cell_type": "code",
     "checksum": "983b0bd8dcc3f86a58ba4877bd22be3e",
     "grade": false,
     "grade_id": "cell-5dcd52f754d55bd1",
     "locked": true,
     "schema_version": 3,
     "solution": false,
     "task": false
    }
   },
   "outputs": [],
   "source": [
    "from jax_double_pendulum.analysis import *\n",
    "from jax_double_pendulum.motion_planning import (\n",
    "    generate_ellipse_trajectory,\n",
    "    ELLIPSE_PARAMS,\n",
    ")\n",
    "from jax_double_pendulum.robot_parameters import ROBOT_PARAMS\n",
    "from jax_double_pendulum.robot_simulation import simulate_robot\n",
    "from jax_double_pendulum.visualization import animate_robot\n",
    "\n",
    "# simulation parameters\n",
    "sim_duration = 10.0  # [s]\n",
    "sim_dt = 1e-2  # [s]\n",
    "\n",
    "# define time steps\n",
    "t_ts = sim_dt * jnp.arange(int(sim_duration / sim_dt))\n",
    "\n",
    "# generate trajectory\n",
    "traj_ts = generate_ellipse_trajectory(\n",
    "    rp=ROBOT_PARAMS,\n",
    "    t_ts=t_ts,\n",
    "    **ELLIPSE_PARAMS,\n",
    ")\n",
    "\n",
    "# initial link angles (i.e. at the first time-step)\n",
    "th_0 = traj_ts[\"th_ts\"][0] - jnp.array([0.1, 0.2])"
   ]
  },
  {
   "cell_type": "code",
   "execution_count": null,
   "id": "c30430d1",
   "metadata": {
    "deletable": false,
    "nbgrader": {
     "cell_type": "code",
     "checksum": "67499377113904178b33772cb447afd5",
     "grade": false,
     "grade_id": "cell-5d3c55e8d279f2d6",
     "locked": false,
     "schema_version": 3,
     "solution": true,
     "task": false
    }
   },
   "outputs": [],
   "source": [
    "# controller parameters\n",
    "# define the proportional gain matrix kp and the derivative gain matrix kd\n",
    "kp = jnp.zeros((2, 2))\n",
    "kd = jnp.zeros((2, 2))\n",
    "\n",
    "# YOUR CODE HERE\n",
    "raise NotImplementedError()"
   ]
  },
  {
   "cell_type": "markdown",
   "id": "cbcdf1a9",
   "metadata": {
    "deletable": false,
    "editable": false,
    "nbgrader": {
     "cell_type": "markdown",
     "checksum": "88858cb677b4bc9f0bad47edcbebc10b",
     "grade": false,
     "grade_id": "cell-a939d6318b227155",
     "locked": true,
     "schema_version": 3,
     "solution": false,
     "task": false
    }
   },
   "source": [
    "Now, we simulate the robot for 10s and save the states and inputs throughout the simulation in the `sim_ts` dictionary. **Please make sure to study the usage and behaviour of the `partial` function, as it will be very relevant and often-used throughout the entire assignment.** You can find a nice tutorial for example [here](https://www.pythontutorial.net/python-basics/python-partial-functions/)."
   ]
  },
  {
   "cell_type": "code",
   "execution_count": null,
   "id": "20bef4f6",
   "metadata": {
    "deletable": false,
    "editable": false,
    "nbgrader": {
     "cell_type": "code",
     "checksum": "fa53341c154adb78a10a0b953a94f9f2",
     "grade": false,
     "grade_id": "cell-8210b22e8d95b3b6",
     "locked": true,
     "schema_version": 3,
     "solution": false,
     "task": false
    }
   },
   "outputs": [],
   "source": [
    "# simulate the robot with the given controller\n",
    "sim_ts_link = simulate_robot(\n",
    "    rp=ROBOT_PARAMS,\n",
    "    t_ts=t_ts,\n",
    "    th_0=th_0,\n",
    "    th_d_0=traj_ts[\"th_d_ts\"][0],\n",
    "    th_des_ts=traj_ts[\"th_ts\"],\n",
    "    th_d_des_ts=traj_ts[\"th_d_ts\"],\n",
    "    th_dd_des_ts=traj_ts[\"th_dd_ts\"],\n",
    "    ctrl_fb=partial(ctrl_fb_pd, kp=kp, kd=kd),\n",
    ")\n",
    "\n",
    "# evaluate the control performance quantitatively\n",
    "rmse_th, rmse_th_d, rmse_th_dd = compute_configuration_space_rmse(traj_ts, sim_ts_link)\n",
    "rmse_x, rmse_x_d, rmse_x_dd = compute_operational_space_rmse(traj_ts, sim_ts_link)\n",
    "with jnp.printoptions(precision=3):\n",
    "    print(\n",
    "        \"RMSE theta:\",\n",
    "        rmse_th,\n",
    "        \"rad, RMSE theta_d:\",\n",
    "        rmse_th_d,\n",
    "        \"rad/s, RMSE theta_dd:\",\n",
    "        rmse_th_dd,\n",
    "        \"rad/s^2\",\n",
    "    )\n",
    "    print(\n",
    "        \"RMSE x:\",\n",
    "        f\"{jnp.linalg.norm(rmse_x):.4f}\",\n",
    "        \"m, RMSE x_d:\",\n",
    "        f\"{jnp.linalg.norm(rmse_x_d):.3f}\",\n",
    "        \"m/s, RMSE x_dd:\",\n",
    "        f\"{jnp.linalg.norm(rmse_x_dd):.2f}\",\n",
    "        \"m/s^2\",\n",
    "    )"
   ]
  },
  {
   "cell_type": "code",
   "execution_count": null,
   "id": "b7fc7e62",
   "metadata": {
    "deletable": false,
    "editable": false,
    "nbgrader": {
     "cell_type": "code",
     "checksum": "4cee479a032c052221d61d3a5acd0779",
     "grade": true,
     "grade_id": "A_rmse_x",
     "locked": true,
     "points": 1.5,
     "schema_version": 3,
     "solution": false,
     "task": false
    }
   },
   "outputs": [],
   "source": [
    "# DO NOT REMOVE OR MODIFY THIS CELL\n",
    "\n",
    "rmse_x, rmse_x_d, rmse_x_dd = compute_operational_space_rmse(traj_ts, sim_ts_link)\n",
    "print(\"Euclidean norm of RMSE x:\\n\", jnp.linalg.norm(rmse_x))\n",
    "\n",
    "assert (\n",
    "    jnp.linalg.norm(rmse_x) < 0.1\n",
    "), \"The end-effector position needs to be smaller than 0.1m.\""
   ]
  },
  {
   "cell_type": "code",
   "execution_count": null,
   "id": "d672e713",
   "metadata": {
    "deletable": false,
    "editable": false,
    "nbgrader": {
     "cell_type": "code",
     "checksum": "31e754760630cd64047f6d3a6f94162d",
     "grade": false,
     "grade_id": "cell-7aacd2a5dfff0085",
     "locked": true,
     "schema_version": 3,
     "solution": false,
     "task": false
    }
   },
   "outputs": [],
   "source": [
    "# plot the configuration-space evolution\n",
    "plot_configuration_space_trajectory_following(\n",
    "    traj_ts,\n",
    "    sim_ts_link,\n",
    "    filepath=str(\n",
    "        outputs_dir / \"task_2a-1-1_configuration_space_trajectory_following.pdf\"\n",
    "    ),\n",
    ")"
   ]
  },
  {
   "cell_type": "code",
   "execution_count": null,
   "id": "66e13585",
   "metadata": {
    "deletable": false,
    "editable": false,
    "nbgrader": {
     "cell_type": "code",
     "checksum": "db19f7cc812f13c2907d0e4b4eb59280",
     "grade": false,
     "grade_id": "cell-59523b8231c27db0",
     "locked": true,
     "schema_version": 3,
     "solution": false,
     "task": false
    }
   },
   "outputs": [],
   "source": [
    "# plot the operational-space evolution\n",
    "plot_operational_space_trajectory_following(\n",
    "    traj_ts,\n",
    "    sim_ts_link,\n",
    "    filepath=str(\n",
    "        outputs_dir / \"task_2a-1-1_operational_space_trajectory_following.pdf\"\n",
    "    ),\n",
    ")"
   ]
  },
  {
   "cell_type": "code",
   "execution_count": null,
   "id": "eef0a906",
   "metadata": {
    "deletable": false,
    "editable": false,
    "nbgrader": {
     "cell_type": "code",
     "checksum": "db8aeff9dfadb00926e866a95c490fc7",
     "grade": false,
     "grade_id": "cell-3414576f6ff34f97",
     "locked": true,
     "schema_version": 3,
     "solution": false,
     "task": false
    }
   },
   "outputs": [],
   "source": [
    "# plot the actuation sequence\n",
    "plot_actuation(sim_ts_link, filepath=str(outputs_dir / \"task_2a-1-1_actuation.pdf\"))"
   ]
  },
  {
   "cell_type": "code",
   "execution_count": null,
   "id": "7a9b3c7a",
   "metadata": {
    "deletable": false,
    "editable": false,
    "nbgrader": {
     "cell_type": "code",
     "checksum": "cbf77b7fe30d790c3992aa531ddfd6eb",
     "grade": false,
     "grade_id": "cell-14798fd8a1c2f5e8",
     "locked": true,
     "schema_version": 3,
     "solution": false,
     "task": false
    }
   },
   "outputs": [],
   "source": [
    "if not AUTOGRADING:\n",
    "    ani = animate_robot(\n",
    "        ROBOT_PARAMS,\n",
    "        traj_ts=traj_ts,\n",
    "        sim_ts=sim_ts_link,\n",
    "        step_skip=5,\n",
    "        show=False,\n",
    "        filepath=str(outputs_dir / \"task_2a-1-1_controlled_robot.mp4\"),\n",
    "    )\n",
    "    display(HTML(ani.to_html5_video()))"
   ]
  },
  {
   "cell_type": "markdown",
   "id": "4fa1b5b3-c028-47b6-9f30-796bcceca4e9",
   "metadata": {
    "deletable": false,
    "editable": false,
    "nbgrader": {
     "cell_type": "markdown",
     "checksum": "e63c88580253ed893fe7e426501eed8c",
     "grade": false,
     "grade_id": "cell-0ri0sh0mm83e3ovo",
     "locked": true,
     "schema_version": 3,
     "solution": false,
     "task": false
    }
   },
   "source": [
    "## Task 2a.1.2 - Implementation and simulation of a PD feedback controller acting on the joint angles (1.5p)\n",
    "In this task, we regulate the angles and angular velocities of the joints towards the desired values.\n",
    "The joint angles describe the relative rotation between links. In the case of the double pendulum, they can be defined as\n",
    "\n",
    "\\begin{equation}\n",
    "\\theta_\\mathrm{rel} = \\begin{bmatrix}\\theta_1\\\\ \\theta_2 - \\theta_1\\end{bmatrix} \\qquad \\dot{\\theta}_\\mathrm{rel} = \\begin{bmatrix}\\dot{\\theta}_1\\\\ \\dot{\\theta}_2 - \\dot{\\theta}_1\\end{bmatrix}.\n",
    "\\end{equation}\n",
    "\n",
    "The PD control law is then given by:\n",
    "\n",
    "\\begin{equation}\n",
    "\\tau_\\mathrm{fb} = k_\\mathrm{p} \\, (\\theta^\\mathrm{d}_\\mathrm{rel}-\\theta_\\mathrm{rel}) + k_\\mathrm{d} \\, (\\dot{\\theta}^\\mathrm{d}_\\mathrm{rel}-\\dot{\\theta}_\\mathrm{rel})\n",
    "\\end{equation}\n",
    "\n",
    "### Implementing `ctrl_fb_pd_rel` (1.5p)\n",
    "Please implement the specified PD controller into the function `ctrl_fb_pd_rel` in the notebook `controllers.ipynb`. \n",
    "**Hint:** Do not use `jnp.array()` in your implementation, but instead `jnp.stack`."
   ]
  },
  {
   "cell_type": "code",
   "execution_count": null,
   "id": "414fb806-1463-4c33-9af9-c40bb1dceb47",
   "metadata": {
    "deletable": false,
    "editable": false,
    "nbgrader": {
     "cell_type": "code",
     "checksum": "d8868132970f580207aa085c5d9688f0",
     "grade": true,
     "grade_id": "A-ctrl_fb_pd_rel",
     "locked": true,
     "points": 1.5,
     "schema_version": 3,
     "solution": false,
     "task": false
    }
   },
   "outputs": [],
   "source": [
    "# DO NOT REMOVE OR MODIFY THIS CELL\n",
    "\n",
    "# import ctrl_fb_pd_rel function from controllers.ipynb\n",
    "from ipynb.fs.full.controllers import ctrl_fb_pd_rel\n",
    "\n",
    "# test output shape of ctrl_fb_pd_rel\n",
    "_tau_dummy = ctrl_fb_pd_rel(\n",
    "    jnp.ones((2,)),\n",
    "    jnp.ones((2,)),\n",
    "    jnp.zeros((2,)),\n",
    "    jnp.zeros((2,)),\n",
    "    kp=jnp.eye(2),\n",
    "    kd=jnp.eye(2),\n",
    ")\n",
    "print(\"Computed torque:\", _tau_dummy, \"Nm\")\n",
    "assert _tau_dummy.shape == (2,), \"The computed torque needs to be of shape (2, )\"\n"
   ]
  },
  {
   "cell_type": "markdown",
   "id": "7e60f429-3cbf-48db-a8a1-7e56229731ab",
   "metadata": {
    "deletable": false,
    "editable": false,
    "nbgrader": {
     "cell_type": "markdown",
     "checksum": "0c6d554adaf9d93bff97512cc1413c16",
     "grade": false,
     "grade_id": "cell1jnfnaodc1mt3wlr",
     "locked": true,
     "schema_version": 3,
     "solution": false,
     "task": false
    }
   },
   "source": [
    "### Simulating the closed-loop system (0p)\n",
    "\n",
    "In this section, we apply the implemented PD controller acting on the joint angles to a closed-loop simulation. Please use the same gain matrices `kp` and `kd` as in Task 2a.1.1."
   ]
  },
  {
   "cell_type": "code",
   "execution_count": null,
   "id": "995f2e6a-6d41-4d4d-b8e9-d3d2b89f4dfd",
   "metadata": {
    "deletable": false,
    "editable": false,
    "nbgrader": {
     "cell_type": "code",
     "checksum": "43dd9935d4139724d08671066c09715b",
     "grade": false,
     "grade_id": "cell-83catf71gcrcwa91",
     "locked": true,
     "schema_version": 3,
     "solution": false,
     "task": false
    }
   },
   "outputs": [],
   "source": [
    "# simulate the robot with the given controller\n",
    "sim_ts_joint = simulate_robot(\n",
    "    rp=ROBOT_PARAMS,\n",
    "    t_ts=t_ts,\n",
    "    th_0=th_0,\n",
    "    th_d_0=traj_ts[\"th_d_ts\"][0],\n",
    "    th_des_ts=traj_ts[\"th_ts\"],\n",
    "    th_d_des_ts=traj_ts[\"th_d_ts\"],\n",
    "    th_dd_des_ts=traj_ts[\"th_dd_ts\"],\n",
    "    ctrl_fb=partial(ctrl_fb_pd_rel, kp=kp, kd=kd),\n",
    ")\n",
    "\n",
    "# evaluate the control performance quantitatively\n",
    "rmse_th, rmse_th_d, rmse_th_dd = compute_configuration_space_rmse(traj_ts, sim_ts_link)\n",
    "rmse_x, rmse_x_d, rmse_x_dd = compute_operational_space_rmse(traj_ts, sim_ts_link)\n",
    "with jnp.printoptions(precision=3):\n",
    "    print(\n",
    "        \"RMSE theta:\",\n",
    "        rmse_th,\n",
    "        \"rad, RMSE theta_d:\",\n",
    "        rmse_th_d,\n",
    "        \"rad/s, RMSE theta_dd:\",\n",
    "        rmse_th_dd,\n",
    "        \"rad/s^2\",\n",
    "    )\n",
    "    print(\n",
    "        \"RMSE x:\",\n",
    "        f\"{jnp.linalg.norm(rmse_x):.4f}\",\n",
    "        \"m, RMSE x_d:\",\n",
    "        f\"{jnp.linalg.norm(rmse_x_d):.3f}\",\n",
    "        \"m/s, RMSE x_dd:\",\n",
    "        f\"{jnp.linalg.norm(rmse_x_dd):.2f}\",\n",
    "        \"m/s^2\",\n",
    "    )"
   ]
  },
  {
   "cell_type": "code",
   "execution_count": null,
   "id": "c8f71140-529a-49ea-b50c-32b06ad9be1a",
   "metadata": {
    "deletable": false,
    "editable": false,
    "nbgrader": {
     "cell_type": "code",
     "checksum": "0ba9a7ed676c386c4de65646b1f2dfc1",
     "grade": false,
     "grade_id": "cell-qh2ujdb9fxlap1jv",
     "locked": true,
     "schema_version": 3,
     "solution": false,
     "task": false
    }
   },
   "outputs": [],
   "source": [
    "# plot the configuration-space evolution\n",
    "plot_configuration_space_trajectory_following(\n",
    "    traj_ts,\n",
    "    sim_ts_joint,\n",
    "    filepath=str(\n",
    "        outputs_dir / \"task_2a-1-2_configuration_space_trajectory_following.pdf\"\n",
    "    ),\n",
    ")"
   ]
  },
  {
   "cell_type": "code",
   "execution_count": null,
   "id": "9a2278d2-3d54-43cf-a8e4-0165ad420cde",
   "metadata": {
    "deletable": false,
    "editable": false,
    "nbgrader": {
     "cell_type": "code",
     "checksum": "c1243affbc5387bfaf12664237073418",
     "grade": false,
     "grade_id": "cell-qx3l49u7ikn2p3rs",
     "locked": true,
     "schema_version": 3,
     "solution": false,
     "task": false
    }
   },
   "outputs": [],
   "source": [
    "# plot the operational-space evolution\n",
    "plot_operational_space_trajectory_following(\n",
    "    traj_ts,\n",
    "    sim_ts_joint,\n",
    "    filepath=str(\n",
    "        outputs_dir / \"task_2a-1-2_operational_space_trajectory_following.pdf\"\n",
    "    ),\n",
    ")"
   ]
  },
  {
   "cell_type": "code",
   "execution_count": null,
   "id": "acdc9c64-c5bf-4b7a-9c5e-d84a2d758e3d",
   "metadata": {
    "deletable": false,
    "editable": false,
    "nbgrader": {
     "cell_type": "code",
     "checksum": "b312b36071531e14e724b33c3f899584",
     "grade": false,
     "grade_id": "cell-r2k0m0yqwqgzk6b3",
     "locked": true,
     "schema_version": 3,
     "solution": false,
     "task": false
    }
   },
   "outputs": [],
   "source": [
    "# plot the actuation sequence\n",
    "plot_actuation(sim_ts_joint, filepath=str(outputs_dir / \"task_2a-1-2_actuation.pdf\"))"
   ]
  },
  {
   "cell_type": "code",
   "execution_count": null,
   "id": "a64b7e8f-4700-4a2d-afc3-0de9e8bdd5ee",
   "metadata": {
    "deletable": false,
    "editable": false,
    "nbgrader": {
     "cell_type": "code",
     "checksum": "323485bae5b91fcd2e691853702c2c6c",
     "grade": false,
     "grade_id": "cell-kwkq9vgbyzv7wcu0",
     "locked": true,
     "schema_version": 3,
     "solution": false,
     "task": false
    }
   },
   "outputs": [],
   "source": [
    "if not AUTOGRADING:\n",
    "    ani = animate_robot(\n",
    "        ROBOT_PARAMS,\n",
    "        traj_ts=traj_ts,\n",
    "        sim_ts=sim_ts_joint,\n",
    "        step_skip=5,\n",
    "        show=False,\n",
    "        filepath=str(outputs_dir / \"task_2a-1-2_controlled_robot.mp4\"),\n",
    "    )\n",
    "    display(HTML(ani.to_html5_video()))"
   ]
  },
  {
   "cell_type": "markdown",
   "id": "1d2d1150-67ab-43e5-b23b-7d26ccf48062",
   "metadata": {
    "deletable": false,
    "editable": false,
    "nbgrader": {
     "cell_type": "markdown",
     "checksum": "8019f935cca22541e0ceb515fa29aafd",
     "grade": false,
     "grade_id": "cell-52877f481941c31a",
     "locked": true,
     "schema_version": 3,
     "solution": false,
     "task": false
    }
   },
   "source": [
    "## Task 2a.1.3 - Comparison of performance between PDs acting on the link and joint angles (0.5p)\n",
    "Compare the performance between the two variants of the implemented PD law. Why is, for equal control gains, the performance of the PD acting on the joint (i.e., relative) angles better than the one acting on the link (i.e., absolute) angles?\n",
    "\n",
    "**A:** The dynamics of the second link are considerably slower than the dynamics of the first link. Therefore, a PD acting on the link angles exhibits a more pronounced oscillatory behavior for the second link.\n",
    "\n",
    "**B:** The dynamics of the second link are considerably faster than the dynamics of the first link. Therefore, a PD acting on the link angles exhibits a more pronounced oscillatory behavior for the second link.\n",
    "\n",
    "**C:** The dynamics of the second link are considerably slower than the dynamics of the first link. Therefore, a PD acting on the link angles exhibits a more pronounced oscillatory behavior for the first link.\n",
    "\n",
    "**D:** The dynamics of the second link are considerably faster than the dynamics of the first link. Therefore, a PD acting on the link angles exhibits a more pronounced oscillatory behavior for the first link."
   ]
  },
  {
   "cell_type": "code",
   "execution_count": null,
   "id": "5838249c-860e-4300-9f19-ea8d0f4bf33e",
   "metadata": {
    "deletable": false,
    "nbgrader": {
     "cell_type": "code",
     "checksum": "1cc29f209d47e9c2b63527cc298e92b5",
     "grade": false,
     "grade_id": "cell-e27ddd503cf632db",
     "locked": false,
     "schema_version": 3,
     "solution": true,
     "task": false
    }
   },
   "outputs": [],
   "source": [
    "# please write the answer (\"A\", \"B\", \"C\", or \"D\") into the `answer_1` variable\n",
    "answer_1 = None\n",
    "# YOUR CODE HERE\n",
    "raise NotImplementedError()"
   ]
  },
  {
   "cell_type": "code",
   "execution_count": null,
   "id": "fb8100db-3f1d-43e9-94ce-fcc7a2398c28",
   "metadata": {
    "deletable": false,
    "editable": false,
    "nbgrader": {
     "cell_type": "code",
     "checksum": "c51ca5d1eb78971a39fe986d5a016645",
     "grade": true,
     "grade_id": "cell-d5fff5146a63a1f1",
     "locked": true,
     "points": 0.5,
     "schema_version": 3,
     "solution": false,
     "task": false
    }
   },
   "outputs": [],
   "source": [
    "# DO NOT REMOVE OR MODIFY THIS CELL\n",
    "assert answer_1 in [\"A\", \"B\", \"C\", \"D\"], 'Please answer \"A\", \"B\", \"C\", or \"D\"'\n"
   ]
  },
  {
   "cell_type": "code",
   "execution_count": null,
   "id": "e95c6808-7a66-4ba1-81d7-9b90d0223740",
   "metadata": {},
   "outputs": [],
   "source": []
  }
 ],
 "metadata": {
  "kernelspec": {
   "display_name": "Python 3 (ipykernel)",
   "language": "python",
   "name": "python3"
  },
  "language_info": {
   "codemirror_mode": {
    "name": "ipython",
    "version": 3
   },
   "file_extension": ".py",
   "mimetype": "text/x-python",
   "name": "python",
   "nbconvert_exporter": "python",
   "pygments_lexer": "ipython3",
   "version": "3.11.7"
  }
 },
 "nbformat": 4,
 "nbformat_minor": 5
}
