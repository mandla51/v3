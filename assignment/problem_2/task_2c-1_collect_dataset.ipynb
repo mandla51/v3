{
 "cells": [
  {
   "cell_type": "markdown",
   "id": "ac408b5e",
   "metadata": {
    "deletable": false,
    "editable": false,
    "nbgrader": {
     "cell_type": "markdown",
     "checksum": "7619294def77410a539e618e2428f0d5",
     "grade": false,
     "grade_id": "cell-b00828259c8e42e8",
     "locked": true,
     "schema_version": 3,
     "solution": false,
     "task": false
    }
   },
   "source": [
    "# RO47019: Intelligent Control Systems Practical Assignment\n",
    "* Period: 2023-2024, Q3\n",
    "* Course homepage: https://brightspace.tudelft.nl/d2l/home/500969\n",
    "* Instructor: Cosimo Della Santina (C.DellaSantina@tudelft.nl)\n",
    "* Teaching assistant: Maria de Neves de Fonseca (M.deNevesdeFonseca-1@student.tudelft.nl)\n",
    "* (c) TU Delft, 2024\n",
    "\n",
    "Make sure you fill in any place that says `YOUR CODE HERE` or `YOUR ANSWER HERE`. Remove `raise NotImplementedError()` afterwards. Moreover, if you see an empty cell, please DO NOT delete it, instead run that cell as you would run all other cells. Please fill in your name(s) and other required details below:"
   ]
  },
  {
   "cell_type": "code",
   "execution_count": null,
   "id": "4f9e220c",
   "metadata": {},
   "outputs": [],
   "source": [
    "# Please fill in your names, student numbers, netID, and emails below.\n",
    "STUDENT_1_NAME = \"\"\n",
    "STUDENT_1_STUDENT_NUMBER = \"\"\n",
    "STUDENT_1_NETID = \"\"\n",
    "STUDENT_1_EMAIL = \"\""
   ]
  },
  {
   "cell_type": "code",
   "execution_count": null,
   "id": "8ba32571",
   "metadata": {
    "deletable": false,
    "editable": false,
    "nbgrader": {
     "cell_type": "code",
     "checksum": "042927213b84aa368aa3ea72caa4cb60",
     "grade": true,
     "grade_id": "cell-9f148ec62e0de49c",
     "locked": true,
     "points": 0,
     "schema_version": 3,
     "solution": false,
     "task": false
    }
   },
   "outputs": [],
   "source": [
    "# Note: this block is a check that you have filled in the above information.\n",
    "# It will throw an AssertionError until all fields are filled\n",
    "assert STUDENT_1_NAME != \"\"\n",
    "assert STUDENT_1_STUDENT_NUMBER != \"\"\n",
    "assert STUDENT_1_NETID != \"\"\n",
    "assert STUDENT_1_EMAIL != \"\""
   ]
  },
  {
   "cell_type": "markdown",
   "id": "af317a94",
   "metadata": {
    "deletable": false,
    "editable": false,
    "nbgrader": {
     "cell_type": "markdown",
     "checksum": "95c5b11f9ac3896252d342cabb38d867",
     "grade": false,
     "grade_id": "cell-4ea391677951116c",
     "locked": true,
     "schema_version": 3,
     "solution": false,
     "task": false
    }
   },
   "source": [
    "### General announcements\n",
    "\n",
    "* Do *not* share your solutions (also after the course is finished), and do *not* copy solutions from others. By submitting your solutions, you claim that you alone are responsible for this code.\n",
    "\n",
    "* Do *not* email questions directly, since we want to provide everybody with the same information and avoid repeating the same answers. Instead, please post your questions regarding this assignment in the correct support forum on Brightspace, this way everybody can benefit from the response. If you do have a particular question that you want to ask directly, please use the scheduled Q&A hours to ask the TA.\n",
    "\n",
    "* There is a strict deadline for each assignment. Students are responsible to ensure that they have uploaded their work in time. So, please double check that your upload succeeded to the Brightspace and avoid any late penalties.\n",
    "\n",
    "* This [Jupyter notebook](https://jupyter.org/) uses `nbgrader` to help us with automated tests. `nbgrader` will make various cells in this notebook \"uneditable\" or \"unremovable\" and gives them a special id in the cell metadata. This way, when we run our checks, the system will check the existence of the cell ids and verify the number of points and which checks must be run. While there are ways that you can edit the metadata and work around the restrictions to delete or modify these special cells, you should not do that since then our nbgrader backend will not be able to parse your notebook and give you points for the assignment. You are free to add additional cells, but if you find a cell that you cannot modify or remove, please know that this is on purpose.\n",
    "\n",
    "* This notebook will have in various places a line that throws a `NotImplementedError` exception. These are locations where the assignment requires you to adapt the code! These lines are just there as a reminder for you that you have not yet adapted that particular piece of code, especially when you execute all the cells. Once your solution code replaced these lines, it should accordingly *not* throw any exceptions anymore.\n",
    "\n",
    "Before you turn this problem in, make sure everything runs as expected. First, **restart the kernel** (in the menubar, select Kernel$\\rightarrow$Restart) and then **run all cells** (in the menubar, select Cell$\\rightarrow$Run All)."
   ]
  },
  {
   "cell_type": "code",
   "execution_count": null,
   "id": "3c956945",
   "metadata": {},
   "outputs": [],
   "source": []
  },
  {
   "cell_type": "markdown",
   "id": "387d2c60",
   "metadata": {
    "deletable": false,
    "editable": false,
    "nbgrader": {
     "cell_type": "markdown",
     "checksum": "2dce7b1195a2a19d6401276b88670f53",
     "grade": false,
     "grade_id": "cell-ed88010142fb94bb",
     "locked": true,
     "schema_version": 3,
     "solution": false,
     "task": false
    }
   },
   "source": [
    "# Task 2c.1 - Collect dataset (2p)\n",
    "\n",
    "**Author:** Maximilian Stölzle (M.W.Stolzle@tudelft.nl)\n",
    "\n",
    "Before we can learn the dynamics of the system, we need to collect a dataset. We do that by sampling evolutions of the double pendulum system. The final dataset will be saved in the path `datasets/dataset_double_pendulum.npz`. A well-distributed and sufficiently large dataset is a necessary pre-condition for successfully training the Lagrangian neural network in the following tasks."
   ]
  },
  {
   "cell_type": "code",
   "execution_count": null,
   "id": "3833a6e2",
   "metadata": {},
   "outputs": [],
   "source": []
  },
  {
   "cell_type": "code",
   "execution_count": null,
   "id": "35339f62",
   "metadata": {
    "deletable": false,
    "editable": false,
    "nbgrader": {
     "cell_type": "code",
     "checksum": "91e9b31e670a4a237b5cbb7138c8861a",
     "grade": false,
     "grade_id": "cell-e33520fa3a4d3861",
     "locked": true,
     "schema_version": 3,
     "solution": false,
     "task": false
    }
   },
   "outputs": [],
   "source": [
    "# Reloads the python files outside of this notebook automatically\n",
    "%load_ext autoreload\n",
    "%autoreload 2\n",
    "# for creating a responsive plot\n",
    "%matplotlib widget\n",
    "\n",
    "# import all Python modules\n",
    "from distutils.util import strtobool\n",
    "from functools import partial\n",
    "from IPython.display import display, HTML  # For animations in the notebook\n",
    "from jax import config as jax_config\n",
    "\n",
    "jax_config.update(\"jax_platform_name\", \"cpu\")  # set default device to 'cpu'\n",
    "jax_config.update(\"jax_enable_x64\", True)  # double precision\n",
    "from jax import Array, jit, lax, random\n",
    "from jax import numpy as jnp\n",
    "from matplotlib import rcParams\n",
    "import matplotlib.pyplot as plt\n",
    "import os\n",
    "from pathlib import Path\n",
    "from progressbar import progressbar\n",
    "from typing import Dict, Tuple\n",
    "\n",
    "from jax_double_pendulum.robot_parameters import ROBOT_PARAMS\n",
    "from jax_double_pendulum.robot_simulation import simulate_robot\n",
    "from jax_double_pendulum.visualization import animate_robot\n",
    "\n",
    "# define boolean to check if the notebook is run for the purposes of autograding\n",
    "AUTOGRADING = strtobool(os.environ.get(\"AUTOGRADING\", \"false\"))\n",
    "# define tolerances for grading\n",
    "RTOL = float(os.environ.get(\"RTOL\", \"1e-4\"))  # relative tolerance\n",
    "ATOL = float(os.environ.get(\"ATOL\", \"1e-7\"))  # absolute tolerance"
   ]
  },
  {
   "cell_type": "markdown",
   "id": "cf430ce9",
   "metadata": {
    "deletable": false,
    "editable": false,
    "nbgrader": {
     "cell_type": "markdown",
     "checksum": "cd2ae1a5c9fd0e98243fe10f1c5235e5",
     "grade": false,
     "grade_id": "cell-5696319cbbdd5544",
     "locked": true,
     "schema_version": 3,
     "solution": false,
     "task": false
    }
   },
   "source": [
    "## Sampling of system evolutions\n",
    "\n",
    "Please implement the function `sample_system_evolution`. It should include the following steps:\n",
    "\n",
    "1. Splitting the random keys as explained in the [JAX documentation](https://jax.readthedocs.io/en/latest/jax-101/05-random-numbers.html).\n",
    "\n",
    "2. Randomly sample the initial conditions for the simulation.\n",
    "\n",
    "3. Run the simulation for the timesteps specified in `t_ts`."
   ]
  },
  {
   "cell_type": "code",
   "execution_count": null,
   "id": "b275713c",
   "metadata": {
    "deletable": false,
    "nbgrader": {
     "cell_type": "code",
     "checksum": "3d5682f9f9ad5c3a5e0e667bb811b963",
     "grade": false,
     "grade_id": "cell-90f54adadef4119e",
     "locked": false,
     "schema_version": 3,
     "solution": true,
     "task": false
    }
   },
   "outputs": [],
   "source": [
    "@jit\n",
    "def sample_system_evolution(\n",
    "    rng: Array,\n",
    "    rp: Dict,\n",
    "    t_ts: Array,\n",
    "    max_th_d_0: Array,\n",
    "    max_tau_ts: Array,\n",
    ") -> Tuple[Dict[str, Array], Array]:\n",
    "    \"\"\"\n",
    "    Samples a system evolution from the robot simulation.\n",
    "    Args:\n",
    "        rp: Dictionary with robot parameters\n",
    "        t_ts: time steps of the trajectory [s] of shape (num_time_steps, )\n",
    "        rng: PRNG key\n",
    "        max_th_d_0: array of shape (2, ) with maximum magnitude of initial link angular velocities\n",
    "        max_tau_ts: array of shape (N, 2) with maximum magnitude of torque applied to system\n",
    "    Returns:\n",
    "        sim_ts: Dictionary containing the time series of system states.\n",
    "        rng_updated: updated PRNG key\n",
    "    \"\"\"\n",
    "    # split the PRNG key into four new keys\n",
    "    # one of the new keys should be saved in the `rng_updated` variable and be returned\n",
    "    # the other three keys can be used for sampling random values\n",
    "    rng_updated, rng_subkey1, rng_subkey2, rng_subkey3 = None, None, None, None\n",
    "    # YOUR CODE HERE\n",
    "    raise NotImplementedError()\n",
    "\n",
    "    # randomly sample the initial conditions of the simulation\n",
    "    # the initial link angle `th_0`\n",
    "    # the initial link angular velocity `th_d_0`\n",
    "    # the torque sequence of shape (N, 2) applied to the system\n",
    "    th_0, th_d_0 = jnp.zeros((2,)), jnp.zeros((2,))\n",
    "    tau_ts = jnp.zeros((t_ts.shape[0], 2))\n",
    "    # YOUR CODE HERE\n",
    "    raise NotImplementedError()\n",
    "\n",
    "    # simulate the robot for the timestamps `t_ts`\n",
    "    sim_ts = None\n",
    "    # YOUR CODE HERE\n",
    "    raise NotImplementedError()\n",
    "\n",
    "    return sim_ts, rng_updated"
   ]
  },
  {
   "cell_type": "markdown",
   "id": "fcbbc6d8",
   "metadata": {
    "deletable": false,
    "editable": false,
    "nbgrader": {
     "cell_type": "markdown",
     "checksum": "be5f47b30355cc67ed8c7c6400d26a2d",
     "grade": false,
     "grade_id": "cell-113d54f8d20f1526",
     "locked": true,
     "schema_version": 3,
     "solution": false,
     "task": false
    }
   },
   "source": [
    "## Save simulation data into dataset\n",
    "\n",
    "The previous function has sampled system evolutions and saved them into `sim_ts`. Now, we need to post-process the simulation data to generate a dataset of the discrete-time system states. This namely includes the link angles $\\theta(k) \\in \\mathbb{R}^2$ and link velocities $\\dot{\\theta}(k) \\in \\mathbb{R}^2$ at the current time-step $k$ and the corresponding states at the next time-step $\\theta(k+1)$ and $\\dot{\\theta}(k+1)$. It also includes the torques $\\tau(k)$ applied to the system."
   ]
  },
  {
   "cell_type": "code",
   "execution_count": null,
   "id": "36bf19a9",
   "metadata": {
    "deletable": false,
    "nbgrader": {
     "cell_type": "code",
     "checksum": "2cc85b3b0391ab02c9833a5ee454ea93",
     "grade": false,
     "grade_id": "cell-205eb25dd5a49551",
     "locked": false,
     "schema_version": 3,
     "solution": true,
     "task": false
    }
   },
   "outputs": [],
   "source": [
    "@jit\n",
    "def save_sim_data_to_dataset(\n",
    "    dataset: Dict[str, Array], sim_idx: int, sim_ts: Dict[str, Array]\n",
    ") -> Dict[str, Array]:\n",
    "    \"\"\"\n",
    "    Saves the data of one simulation to the dataset.\n",
    "    Args:\n",
    "        dataset: Dictionary of arrays containing the dataset.\n",
    "        sim_idx: Index of the simulation.\n",
    "        sim_ts: Dictionary containing the time series of system states for the simulation\n",
    "\n",
    "    Returns:\n",
    "        dataset: Dictionary of arrays containing the dataset (updated).\n",
    "    \"\"\"\n",
    "    # number of timesteps\n",
    "    N = sim_ts[\"t_ts\"].shape[0]\n",
    "\n",
    "    # the starting index in dataset we save the data to\n",
    "    start_idx = sim_idx * (N - 1)\n",
    "\n",
    "    # please define the arrays we can save into the dataset\n",
    "    # store the applied torques as array of shape (N - 1, 2)\n",
    "    tau_ss = jnp.zeros((N - 1, sim_ts[\"tau_ts\"].shape[-1]))\n",
    "    # store the current link angles as array of shape (N - 1, 2)\n",
    "    th_curr_ss = jnp.zeros((N - 1, sim_ts[\"th_ts\"].shape[-1]))\n",
    "    # store the current link angular velocities as array of shape (N - 1, 2)\n",
    "    th_d_curr_ss = jnp.zeros((N - 1, sim_ts[\"th_d_ts\"].shape[-1]))\n",
    "    # store the next link angles as array of shape (N - 1, 2)\n",
    "    th_next_ss = jnp.zeros((N - 1, sim_ts[\"th_ts\"].shape[-1]))\n",
    "    # store the next link angular velocities as array of shape (N - 1, 2)\n",
    "    th_d_next_ss = jnp.zeros((N - 1, sim_ts[\"th_d_ts\"].shape[-1]))\n",
    "    # YOUR CODE HERE\n",
    "    raise NotImplementedError()\n",
    "\n",
    "    dataset[\"tau_ss\"] = lax.dynamic_update_slice(\n",
    "        dataset[\"tau_ss\"], tau_ss, (start_idx, 0)\n",
    "    )\n",
    "    dataset[\"th_curr_ss\"] = lax.dynamic_update_slice(\n",
    "        dataset[\"th_curr_ss\"], th_curr_ss, (start_idx, 0)\n",
    "    )\n",
    "    dataset[\"th_d_curr_ss\"] = lax.dynamic_update_slice(\n",
    "        dataset[\"th_d_curr_ss\"], th_d_curr_ss, (start_idx, 0)\n",
    "    )\n",
    "    dataset[\"th_next_ss\"] = lax.dynamic_update_slice(\n",
    "        dataset[\"th_next_ss\"], th_next_ss, (start_idx, 0)\n",
    "    )\n",
    "    dataset[\"th_d_next_ss\"] = lax.dynamic_update_slice(\n",
    "        dataset[\"th_d_next_ss\"], th_d_next_ss, (start_idx, 0)\n",
    "    )\n",
    "\n",
    "    return dataset"
   ]
  },
  {
   "cell_type": "markdown",
   "id": "b6bf16ce",
   "metadata": {
    "deletable": false,
    "editable": false,
    "nbgrader": {
     "cell_type": "markdown",
     "checksum": "f2369aae2816e1455d0b8f69aa157aa9",
     "grade": false,
     "grade_id": "cell-c519cb46d72b3e07",
     "locked": true,
     "schema_version": 3,
     "solution": false,
     "task": false
    }
   },
   "source": [
    "## Execute the dataset collection\n",
    "\n",
    "Below, you need to choose the parameters for the dataset collection. This specifically includes:\n",
    "\n",
    "- The number of simulations you want to run `num_simulations`\n",
    "- The duration of each simulation `sim_duration`\n",
    "- And finally the maximum magnitude of the initial link angular velocity, which is used during the sampling of the initial conditions in `sample_system_evolution()`."
   ]
  },
  {
   "cell_type": "code",
   "execution_count": null,
   "id": "569095cc",
   "metadata": {
    "deletable": false,
    "nbgrader": {
     "cell_type": "code",
     "checksum": "975a20a71ec8bd08bc726fe20ad35b93",
     "grade": false,
     "grade_id": "cell-02bec45aed885d33",
     "locked": false,
     "schema_version": 3,
     "solution": true,
     "task": false
    }
   },
   "outputs": [],
   "source": [
    "# initialize random number generator with seed = 0\n",
    "rng = random.PRNGKey(seed=0)\n",
    "\n",
    "# simulation parameters\n",
    "# please carefully choose the parameters for the dataset collection\n",
    "# In particular, consider adjusting `num_simulations`, `sim_duration`, `max_th_d_0`, and `max_tau_ts`\n",
    "\n",
    "# time step [s]. Helps to determine the number of samples in advance.\n",
    "sim_dt = 1e-2\n",
    "# number of times we call the `sample_system_evolution` method\n",
    "num_simulations = 10\n",
    "# duration of each simulation [s]. Helps to determine the number of samples in advance.\n",
    "sim_duration = 10.0\n",
    "# YOUR CODE HERE\n",
    "raise NotImplementedError()\n",
    "\n",
    "# define time steps\n",
    "t_ts = sim_dt * jnp.arange(int(sim_duration / sim_dt))\n",
    "\n",
    "# maximum magnitude of initial link angular velocity [rad / s]. Used for sampling initial condition\n",
    "max_th_d_0 = jnp.pi * jnp.ones((2,))\n",
    "# maximum magnitude of torque [Nm] applied to system.\n",
    "max_tau_ts = 1 * jnp.ones((t_ts.shape[0], 2))\n",
    "# YOUR CODE HERE\n",
    "raise NotImplementedError()\n",
    "\n",
    "# option to animate the robot\n",
    "ANIMATE_ROBOT = False"
   ]
  },
  {
   "cell_type": "code",
   "execution_count": null,
   "id": "38e7e2b2",
   "metadata": {
    "deletable": false,
    "editable": false,
    "nbgrader": {
     "cell_type": "code",
     "checksum": "e5dafe3f3b129474ef22df31611bc6b7",
     "grade": false,
     "grade_id": "cell-2d0e61e418cc6094",
     "locked": true,
     "schema_version": 3,
     "solution": false,
     "task": false
    }
   },
   "outputs": [],
   "source": [
    "# folder to save plots to\n",
    "outputs_dir = Path(\"outputs\")\n",
    "outputs_dir.mkdir(exist_ok=True, parents=True)\n",
    "\n",
    "# folder to save the dataset to\n",
    "dataset_folder = Path(\"datasets\")\n",
    "dataset_folder.mkdir(exist_ok=True, parents=True)\n",
    "\n",
    "# determine the total number of samples we expect to collect\n",
    "num_dataset_samples = num_simulations * (t_ts.shape[0] - 1)\n",
    "\n",
    "print(\n",
    "    f\"Collecting dataset by running {num_simulations} simulations each for a duration of {sim_duration}s\"\n",
    "    f\"generating in total {num_dataset_samples} samples ...\"\n",
    ")\n",
    "\n",
    "# initialize empty arrays for storing the dataset samples\n",
    "dataset = {\n",
    "    \"dt_ss\": sim_dt * jnp.ones(num_dataset_samples),\n",
    "    \"tau_ss\": jnp.zeros((num_dataset_samples, 2)),\n",
    "    \"th_curr_ss\": jnp.zeros((num_dataset_samples, 2)),\n",
    "    \"th_d_curr_ss\": jnp.zeros((num_dataset_samples, 2)),\n",
    "    \"th_next_ss\": jnp.zeros((num_dataset_samples, 2)),\n",
    "    \"th_d_next_ss\": jnp.zeros((num_dataset_samples, 2)),\n",
    "}"
   ]
  },
  {
   "cell_type": "code",
   "execution_count": null,
   "id": "2d51da42",
   "metadata": {
    "deletable": false,
    "nbgrader": {
     "cell_type": "code",
     "checksum": "69a5ddd7bf23559f884429d10103a166",
     "grade": false,
     "grade_id": "cell-8c33d48063ee08f8",
     "locked": false,
     "schema_version": 3,
     "solution": true,
     "task": false
    }
   },
   "outputs": [],
   "source": [
    "for sim_idx in progressbar(range(num_simulations)):\n",
    "    # sample the system evolution and update the PRNG key\n",
    "    # save the simulation data to the `sim_ts` variable and the new PRNG key to the `rng` variable\n",
    "    # YOUR CODE HERE\n",
    "    raise NotImplementedError()\n",
    "\n",
    "    # save the simulation data from the last simulation to the `dataset` variable\n",
    "    # YOUR CODE HERE\n",
    "    raise NotImplementedError()\n",
    "\n",
    "    if ANIMATE_ROBOT:\n",
    "        animate_robot(\n",
    "            ROBOT_PARAMS,\n",
    "            sim_ts=sim_ts,\n",
    "            step_skip=5,\n",
    "            filepath=str(\n",
    "                outputs_dir / f\"task_2c-1_training_set_animation_{sim_idx}.mp4\"\n",
    "            ),\n",
    "        )\n",
    "\n",
    "# save the dataset in problem_2/datasets/dataset_double_pendulum_dynamics.npz\n",
    "jnp.savez(file=str(dataset_folder / \"dataset_double_pendulum_dynamics.npz\"), **dataset)"
   ]
  },
  {
   "cell_type": "markdown",
   "id": "fe9d211e",
   "metadata": {
    "deletable": false,
    "editable": false,
    "nbgrader": {
     "cell_type": "markdown",
     "checksum": "631b1c8bec771b59af305f0232b55aad",
     "grade": false,
     "grade_id": "cell-3cb09c5357867320",
     "locked": true,
     "schema_version": 3,
     "solution": false,
     "task": false
    }
   },
   "source": [
    "## Visualizing the dataset distribution\n",
    "\n",
    "First, we provide you with a function to visualize the dataset distribution on polar plots (for each link). Here, $\\theta$ is represented by the polar angles and the radial axis is used to denote $\\dot{\\theta}$. The coloring indicates the angular acceleration $\\ddot{\\theta}$ of the links."
   ]
  },
  {
   "cell_type": "code",
   "execution_count": null,
   "id": "16ac9511",
   "metadata": {
    "deletable": false,
    "editable": false,
    "nbgrader": {
     "cell_type": "code",
     "checksum": "8252a480d0785e420f2fdd14a4eeabb5",
     "grade": false,
     "grade_id": "cell-c3f6a3a8dc8b6e99",
     "locked": true,
     "schema_version": 3,
     "solution": false,
     "task": false
    }
   },
   "outputs": [],
   "source": [
    "from lnn_analysis import plot_dataset_state_distribution_polar_scatter\n",
    "\n",
    "# we plot the distribution of the dataset using two polar scatter plots\n",
    "if not AUTOGRADING:\n",
    "    plot_dataset_state_distribution_polar_scatter(\n",
    "        sim_dt,\n",
    "        dataset,\n",
    "        filepath=str(\n",
    "            outputs_dir / \"task_2c-1_dataset_state_distribution_polar_scatter.pdf\"\n",
    "        ),\n",
    "    )"
   ]
  },
  {
   "cell_type": "markdown",
   "id": "274247a9-bc36-4bc4-9e69-207a2b550aa0",
   "metadata": {
    "deletable": false,
    "editable": false,
    "nbgrader": {
     "cell_type": "markdown",
     "checksum": "a7295b52d1c9966b1f2b8973b9c0f8c9",
     "grade": false,
     "grade_id": "cell-4f91731947196cf9",
     "locked": true,
     "schema_version": 3,
     "solution": false,
     "task": false
    }
   },
   "source": [
    "Next, we plot the trajectories included in the dataset on a torus, where the larger radius represents $\\theta_1$ (i.e., the angle of the first link) and the smaller radius denotes $\\theta_2$ (i.e., the angle of the second link). The color denotes the Euclidean norm of the configuration-space velocity at the given configuration."
   ]
  },
  {
   "cell_type": "code",
   "execution_count": null,
   "id": "e2abca6b",
   "metadata": {
    "deletable": false,
    "editable": false,
    "nbgrader": {
     "cell_type": "code",
     "checksum": "a8ef55ac725acd27f645997446faa6f9",
     "grade": false,
     "grade_id": "cell-282b1d2a91f2e81d",
     "locked": true,
     "schema_version": 3,
     "solution": false,
     "task": false
    }
   },
   "outputs": [],
   "source": [
    "from lnn_analysis import plot_dataset_state_distribution_torus\n",
    "\n",
    "# we plot the distribution of the dataset using a torus plot\n",
    "if not AUTOGRADING:\n",
    "    plot_dataset_state_distribution_torus(\n",
    "        num_simulations,\n",
    "        dataset,\n",
    "        filepath=str(outputs_dir / \"task_2c-1_dataset_state_distribution_torus.pdf\"),\n",
    "    )"
   ]
  },
  {
   "cell_type": "markdown",
   "id": "a300a7a9-958e-4051-807a-0f9f4ac7962e",
   "metadata": {
    "deletable": false,
    "editable": false,
    "nbgrader": {
     "cell_type": "markdown",
     "checksum": "eb1969d2a7f123d749e72996ddb9895b",
     "grade": false,
     "grade_id": "cell-eaf49b9dafaae619",
     "locked": true,
     "schema_version": 3,
     "solution": false,
     "task": false
    }
   },
   "source": [
    "## Analysis of the distribution of generalized torques (2p)\n",
    "\n",
    "We must appropriately choose the dataset collection hyperparameters to achieve a good fit of the LNN parameters (not just on the training set but also for the workspace where we want to use the LNN for dynamical predictions). This section will specifically analyze the generalized torques acting on $\\theta$ for the collected dataset. \n",
    "\n",
    "First, we plot the distribution of the $\\ell_2$ norm of the generalized torques acting on the robot $\\lVert \\tau_\\star \\rVert_2$ with a [violin plot](https://en.wikipedia.org/wiki/Violin_plot) where we separate the contribution of the external torques $\\tau$, the gravitational forces $G(\\theta)$, and the Coriolis forces $C(\\theta,\\dot{\\theta}) \\, \\dot{\\theta}$. We note that these computed torques are based on our first-principle model of the robot and that except for the external torques, we would in practice not have access to these quantities before training the LNN."
   ]
  },
  {
   "cell_type": "code",
   "execution_count": null,
   "id": "264b7247-9bd6-48a3-96dd-d811fdeb531c",
   "metadata": {
    "deletable": false,
    "editable": false,
    "nbgrader": {
     "cell_type": "code",
     "checksum": "d779166ced7f69b7d84a776c31b4c099",
     "grade": false,
     "grade_id": "cell-29611b7db004eec9",
     "locked": true,
     "schema_version": 3,
     "solution": false,
     "task": false
    }
   },
   "outputs": [],
   "source": [
    "from lnn_analysis import plot_dataset_generalized_torque_distribution_violin\n",
    "\n",
    "plot_dataset_generalized_torque_distribution_violin(\n",
    "    ROBOT_PARAMS,\n",
    "    dataset,\n",
    "    filepath=str(\n",
    "        outputs_dir / \"task_2c-1_dataset_generalized_torque_distribution_violin.pdf\"\n",
    "    ),\n",
    ")"
   ]
  },
  {
   "cell_type": "markdown",
   "id": "5810a1af-28a5-4aa3-a646-fbb89eb7dfdb",
   "metadata": {
    "deletable": false,
    "editable": false,
    "nbgrader": {
     "cell_type": "markdown",
     "checksum": "7c61f3e597a4d67eebff3c287bb60132",
     "grade": false,
     "grade_id": "cell-4accc64e698a4895",
     "locked": true,
     "schema_version": 3,
     "solution": false,
     "task": false
    }
   },
   "source": [
    "### LNN training without external torques (1p)\n",
    "\n",
    "Let's assume we collect a dataset with zero (or near zero) external torques (i.e., $|\\tau| \\sim 0$). What would be the effect on the LNN training compared to when applying external torques with a similar order of magnitude as the gravitional forces (i.e., $|\\tau| \\sim |G(\\theta)|$)?\n",
    "\n",
    "**A.** Improved dynamical prediction performance as the system moves more slowly.\n",
    "\n",
    "**B.** The learning algorithm is not able to distinguish between the contribution of the potential forces and the inertia of the system.\n",
    "\n",
    "**C.** The mass matrix would still be learned accuratly, but the Coriolis and Centrifugal effects are neglected.\n",
    "\n",
    "**D.** No effect. "
   ]
  },
  {
   "cell_type": "code",
   "execution_count": null,
   "id": "ce28de89-dda9-4cb9-82ab-6efee911774a",
   "metadata": {
    "deletable": false,
    "nbgrader": {
     "cell_type": "code",
     "checksum": "4f127f37b1043e3f26e447376655c0be",
     "grade": false,
     "grade_id": "cell-d77071f0c4bc0ab4",
     "locked": false,
     "schema_version": 3,
     "solution": true,
     "task": false
    }
   },
   "outputs": [],
   "source": [
    "# please write the answer (\"A\", \"B\", \"C\", or \"D\") into the `answer_1` variable\n",
    "answer_1 = None\n",
    "\n",
    "# YOUR CODE HERE\n",
    "raise NotImplementedError()"
   ]
  },
  {
   "cell_type": "code",
   "execution_count": null,
   "id": "22f82087-5bcd-41f9-9c62-e8a41bf88326",
   "metadata": {
    "deletable": false,
    "editable": false,
    "nbgrader": {
     "cell_type": "code",
     "checksum": "f46a1944a3eac59b9b56f9d9b9a6d756",
     "grade": true,
     "grade_id": "cell-c1955beec7c221ef",
     "locked": true,
     "points": 1,
     "schema_version": 3,
     "solution": false,
     "task": false
    }
   },
   "outputs": [],
   "source": [
    "# DO NOT REMOVE OR MODIFY THIS CELL\n",
    "assert answer_1 in [\"A\", \"B\", \"C\", \"D\"], 'Please answer \"A\", \"B\", \"C\", or \"D\"'\n"
   ]
  },
  {
   "cell_type": "markdown",
   "id": "771d7c5d-98b9-44d4-a55a-c73c035d6573",
   "metadata": {
    "deletable": false,
    "editable": false,
    "nbgrader": {
     "cell_type": "markdown",
     "checksum": "d9812dcbb90efc4d628778d6fc96fdcb",
     "grade": false,
     "grade_id": "cell-7e7f4286ae90ecd3",
     "locked": true,
     "schema_version": 3,
     "solution": false,
     "task": false
    }
   },
   "source": [
    "### LNN training with very large external torques (1p)\n",
    "\n",
    "Let's assume we collect a dataset with the external torques being significantly larger than the potential forces (i.e., $|\\tau| \\gg |G(\\theta)|$). What would be the effect on the LNN training compared to when applying external torques with a similar order of magnitude as the gravitional forces (i.e., $|\\tau| \\sim |G(\\theta)|$)?\n",
    "\n",
    "**A.** Large external torques lead to large $|\\dot{\\theta}|$, therefore allowing us to learn the Coriolis matrix $C(\\theta,\\dot{\\theta})$ very accurately.\n",
    "\n",
    "**B.** The dynamical predictor would not be able to generalize to situations when zero external torques are applied.\n",
    "\n",
    "**C.** The potential would not be learned accurately as it can be neglected when rolling out the dynamics.\n",
    "\n",
    "**D.** No effect."
   ]
  },
  {
   "cell_type": "code",
   "execution_count": null,
   "id": "b7bead71-b615-4859-bd75-6ea238f627df",
   "metadata": {
    "deletable": false,
    "nbgrader": {
     "cell_type": "code",
     "checksum": "614bf83d58a406eefb87777ae0d9d470",
     "grade": false,
     "grade_id": "cell-2e061d71cded6846",
     "locked": false,
     "schema_version": 3,
     "solution": true,
     "task": false
    }
   },
   "outputs": [],
   "source": [
    "# please write the answer (\"A\", \"B\", \"C\", or \"D\") into the `answer_2` variable\n",
    "answer_2 = None\n",
    "\n",
    "# YOUR CODE HERE\n",
    "raise NotImplementedError()"
   ]
  },
  {
   "cell_type": "code",
   "execution_count": null,
   "id": "f6cde433-92b5-4a66-a421-20aee9ad271b",
   "metadata": {
    "deletable": false,
    "editable": false,
    "nbgrader": {
     "cell_type": "code",
     "checksum": "3d6baed9ce7594e2644d789e07fe4f9b",
     "grade": true,
     "grade_id": "cell-07f3f8de5729ddfa",
     "locked": true,
     "points": 1,
     "schema_version": 3,
     "solution": false,
     "task": false
    }
   },
   "outputs": [],
   "source": [
    "# DO NOT REMOVE OR MODIFY THIS CELL\n",
    "assert answer_2 in [\"A\", \"B\", \"C\", \"D\"], 'Please answer \"A\", \"B\", \"C\", or \"D\"'\n"
   ]
  }
 ],
 "metadata": {
  "kernelspec": {
   "display_name": "Python 3 (ipykernel)",
   "language": "python",
   "name": "python3"
  },
  "language_info": {
   "codemirror_mode": {
    "name": "ipython",
    "version": 3
   },
   "file_extension": ".py",
   "mimetype": "text/x-python",
   "name": "python",
   "nbconvert_exporter": "python",
   "pygments_lexer": "ipython3",
   "version": "3.11.6"
  }
 },
 "nbformat": 4,
 "nbformat_minor": 5
}
