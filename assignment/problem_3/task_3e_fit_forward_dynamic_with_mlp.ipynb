{
 "cells": [
  {
   "cell_type": "markdown",
   "id": "ac408b5e",
   "metadata": {
    "deletable": false,
    "editable": false,
    "nbgrader": {
     "cell_type": "markdown",
     "checksum": "7619294def77410a539e618e2428f0d5",
     "grade": false,
     "grade_id": "cell-b00828259c8e42e8",
     "locked": true,
     "schema_version": 3,
     "solution": false,
     "task": false
    }
   },
   "source": [
    "# RO47019: Intelligent Control Systems Practical Assignment\n",
    "* Period: 2023-2024, Q3\n",
    "* Course homepage: https://brightspace.tudelft.nl/d2l/home/500969\n",
    "* Instructor: Cosimo Della Santina (C.DellaSantina@tudelft.nl)\n",
    "* Teaching assistant: Maria de Neves de Fonseca (M.deNevesdeFonseca-1@student.tudelft.nl)\n",
    "* (c) TU Delft, 2024\n",
    "\n",
    "Make sure you fill in any place that says `YOUR CODE HERE` or `YOUR ANSWER HERE`. Remove `raise NotImplementedError()` afterwards. Moreover, if you see an empty cell, please DO NOT delete it, instead run that cell as you would run all other cells. Please fill in your name(s) and other required details below:"
   ]
  },
  {
   "cell_type": "code",
   "execution_count": null,
   "id": "4f9e220c",
   "metadata": {},
   "outputs": [],
   "source": [
    "# Please fill in your names, student numbers, netID, and emails below.\n",
    "STUDENT_1_NAME = \"\"\n",
    "STUDENT_1_STUDENT_NUMBER = \"\"\n",
    "STUDENT_1_NETID = \"\"\n",
    "STUDENT_1_EMAIL = \"\""
   ]
  },
  {
   "cell_type": "code",
   "execution_count": null,
   "id": "8ba32571",
   "metadata": {
    "deletable": false,
    "editable": false,
    "nbgrader": {
     "cell_type": "code",
     "checksum": "042927213b84aa368aa3ea72caa4cb60",
     "grade": true,
     "grade_id": "cell-9f148ec62e0de49c",
     "locked": true,
     "points": 0,
     "schema_version": 3,
     "solution": false,
     "task": false
    }
   },
   "outputs": [],
   "source": [
    "# Note: this block is a check that you have filled in the above information.\n",
    "# It will throw an AssertionError until all fields are filled\n",
    "assert STUDENT_1_NAME != \"\"\n",
    "assert STUDENT_1_STUDENT_NUMBER != \"\"\n",
    "assert STUDENT_1_NETID != \"\"\n",
    "assert STUDENT_1_EMAIL != \"\""
   ]
  },
  {
   "cell_type": "markdown",
   "id": "af317a94",
   "metadata": {
    "deletable": false,
    "editable": false,
    "nbgrader": {
     "cell_type": "markdown",
     "checksum": "95c5b11f9ac3896252d342cabb38d867",
     "grade": false,
     "grade_id": "cell-4ea391677951116c",
     "locked": true,
     "schema_version": 3,
     "solution": false,
     "task": false
    }
   },
   "source": [
    "### General announcements\n",
    "\n",
    "* Do *not* share your solutions (also after the course is finished), and do *not* copy solutions from others. By submitting your solutions, you claim that you alone are responsible for this code.\n",
    "\n",
    "* Do *not* email questions directly, since we want to provide everybody with the same information and avoid repeating the same answers. Instead, please post your questions regarding this assignment in the correct support forum on Brightspace, this way everybody can benefit from the response. If you do have a particular question that you want to ask directly, please use the scheduled Q&A hours to ask the TA.\n",
    "\n",
    "* There is a strict deadline for each assignment. Students are responsible to ensure that they have uploaded their work in time. So, please double check that your upload succeeded to the Brightspace and avoid any late penalties.\n",
    "\n",
    "* This [Jupyter notebook](https://jupyter.org/) uses `nbgrader` to help us with automated tests. `nbgrader` will make various cells in this notebook \"uneditable\" or \"unremovable\" and gives them a special id in the cell metadata. This way, when we run our checks, the system will check the existence of the cell ids and verify the number of points and which checks must be run. While there are ways that you can edit the metadata and work around the restrictions to delete or modify these special cells, you should not do that since then our nbgrader backend will not be able to parse your notebook and give you points for the assignment. You are free to add additional cells, but if you find a cell that you cannot modify or remove, please know that this is on purpose.\n",
    "\n",
    "* This notebook will have in various places a line that throws a `NotImplementedError` exception. These are locations where the assignment requires you to adapt the code! These lines are just there as a reminder for you that you have not yet adapted that particular piece of code, especially when you execute all the cells. Once your solution code replaced these lines, it should accordingly *not* throw any exceptions anymore.\n",
    "\n",
    "Before you turn this problem in, make sure everything runs as expected. First, **restart the kernel** (in the menubar, select Kernel$\\rightarrow$Restart) and then **run all cells** (in the menubar, select Cell$\\rightarrow$Run All)."
   ]
  },
  {
   "cell_type": "code",
   "execution_count": null,
   "id": "3c956945",
   "metadata": {},
   "outputs": [],
   "source": []
  },
  {
   "cell_type": "markdown",
   "metadata": {
    "deletable": false,
    "editable": false,
    "nbgrader": {
     "cell_type": "markdown",
     "checksum": "0c20c623b1c25e8c76095e03573cfcbd",
     "grade": false,
     "grade_id": "cell-0ec5eac866eb3fd8",
     "locked": true,
     "schema_version": 3,
     "solution": false,
     "task": false
    }
   },
   "source": [
    "# Task 3e - Fit an MLP to the forward dynamics and visualize the phase plot (5p)\n",
    "**Authors:** Giovanni Franzese (G.Franzese@tudelft.nl), Lorenzo Lyons (L.Lyons@tudelft.nl)"
   ]
  },
  {
   "cell_type": "code",
   "execution_count": null,
   "metadata": {
    "deletable": false,
    "editable": false,
    "nbgrader": {
     "cell_type": "code",
     "checksum": "49976bf956fca1ea05f66fa20e3c2230",
     "grade": false,
     "grade_id": "cell-a4533ed3a00f5fb8",
     "locked": true,
     "schema_version": 3,
     "solution": false,
     "task": false
    }
   },
   "outputs": [],
   "source": [
    "from matplotlib import pyplot as plt\n",
    "import matplotlib as mpl\n",
    "import numpy as np\n",
    "import random\n",
    "import pandas as pd\n",
    "from pathlib import Path\n",
    "import pickle\n",
    "from tqdm.notebook import tqdm\n",
    "import torch\n",
    "import torch.nn as nn\n",
    "from torch.utils.data import TensorDataset, DataLoader\n",
    "from utils import generate_training_data, process_data, plot_data\n",
    "\n",
    "# define folder where to save animations and plots\n",
    "outputs_dir = Path(\"outputs\")\n",
    "outputs_dir.mkdir(parents=True, exist_ok=True)\n",
    "# define path to folder that contains the datasets\n",
    "datasets_dir = Path(\"datasets\")"
   ]
  },
  {
   "cell_type": "markdown",
   "metadata": {
    "deletable": false,
    "editable": false,
    "nbgrader": {
     "cell_type": "markdown",
     "checksum": "46f770d1e961209255168641f32e5096",
     "grade": false,
     "grade_id": "cell-0acd7f33b6fba3ee",
     "locked": true,
     "schema_version": 3,
     "solution": false,
     "task": false
    }
   },
   "source": [
    "## Task 3e.1 - Create the Multilayer Perceptron model (0p)\n",
    "In the following, we define the neural network architecture and create a `Model` class that implements all necessary functionalities for training."
   ]
  },
  {
   "cell_type": "code",
   "execution_count": null,
   "metadata": {
    "deletable": false,
    "editable": false,
    "nbgrader": {
     "cell_type": "code",
     "checksum": "fadbff7479f3303d186e5ec30e9eb304",
     "grade": false,
     "grade_id": "cell-86f5bf18b088ee99",
     "locked": true,
     "schema_version": 3,
     "solution": false,
     "task": false
    }
   },
   "outputs": [],
   "source": [
    "class MLP(nn.Module):\n",
    "    def __init__(self, input_size, hidden_size, output_size):\n",
    "        super(MLP, self).__init__()\n",
    "        self.fc1 = nn.Linear(input_size, hidden_size).double()\n",
    "        self.relu1 = nn.ReLU().double()\n",
    "        self.fc2 = nn.Linear(hidden_size, output_size).double()\n",
    "\n",
    "    def forward(self, x):\n",
    "        x = self.fc1(x)\n",
    "        x = self.relu1(x)\n",
    "        x = self.fc2(x)\n",
    "        return x"
   ]
  },
  {
   "cell_type": "code",
   "execution_count": null,
   "metadata": {
    "deletable": false,
    "editable": false,
    "nbgrader": {
     "cell_type": "code",
     "checksum": "80a8bc49273d67f852135b0906e377ea",
     "grade": false,
     "grade_id": "cell-87f3276c0fc03ac1",
     "locked": true,
     "schema_version": 3,
     "solution": false,
     "task": false
    }
   },
   "outputs": [],
   "source": [
    "class Model:\n",
    "    def __init__(self, X, Y, batch_size=256):\n",
    "        self.X = X\n",
    "        self.Y = Y\n",
    "        self.batch_size = batch_size\n",
    "        self.is_cuda = False\n",
    "        self.model = MLP(self.X.size(1), 1000, self.Y.size(1))\n",
    "        # to plot the training loss convergence\n",
    "        self.rmse_loss_vec = np.array([])\n",
    "\n",
    "    def to_cuda(self):\n",
    "        if torch.cuda.is_available():\n",
    "            self.model = self.model.cuda()\n",
    "            self.X = self.X.cuda()\n",
    "            self.Y = self.Y.cuda()\n",
    "            self.is_cuda = True\n",
    "\n",
    "    def predict(self, X_pred):\n",
    "        X_pred = X_pred.double()\n",
    "        if self.is_cuda:\n",
    "            X_pred = X_pred.cuda()\n",
    "        return self.model(X_pred)\n",
    "\n",
    "    def train(self, num_epochs=50):\n",
    "        self.model = self.model.double()\n",
    "        self.X = self.X.double()\n",
    "        self.Y = self.Y.double()\n",
    "        self.train_dataset = TensorDataset(self.X, self.Y)\n",
    "        self.train_loader = DataLoader(\n",
    "            self.train_dataset, batch_size=self.batch_size, shuffle=True\n",
    "        )\n",
    "        self.model.train()\n",
    "\n",
    "        optimizer = torch.optim.Adam(\n",
    "            [\n",
    "                {\"params\": self.model.parameters()},\n",
    "            ],\n",
    "            lr=0.01,\n",
    "        )\n",
    "\n",
    "        # Our loss object. Mean Squared Error\n",
    "        self.mse = nn.MSELoss()\n",
    "\n",
    "        # to plot the loss function\n",
    "        self.rmse_loss_vec = np.zeros(num_epochs)\n",
    "\n",
    "        for i in tqdm(range(num_epochs)):\n",
    "            loss_sum = 0.0\n",
    "            for x_batch, y_batch in self.train_loader:\n",
    "                optimizer.zero_grad()\n",
    "                output = self.model(x_batch)\n",
    "                loss = self.mse(output, y_batch)\n",
    "                loss.backward()\n",
    "                optimizer.step()\n",
    "                loss_sum += loss.detach().cpu()\n",
    "            self.rmse_loss_vec[i] = (\n",
    "                torch.sqrt(loss_sum / len(self.train_loader)).detach().item()\n",
    "            )\n",
    "\n",
    "    def plot_convergence(self, experiment_name: str):\n",
    "        # plot loss function\n",
    "        fig = plt.figure()\n",
    "        ax = fig.add_subplot(111)\n",
    "        ax.plot(self.rmse_loss_vec, label=\"loss\")\n",
    "        ax.set_xlabel(\"Epochs\")\n",
    "        ax.set_ylabel(r\"Trainings RMSE for $\\hat{\\ddot{\\theta}}$ [rad/s^2]\")\n",
    "        plt.savefig(\n",
    "            str(outputs_dir / f\"task_3e_training_convergence_{experiment_name}.pdf\")\n",
    "        )\n",
    "\n",
    "    def print_info(self):\n",
    "        print(\"Final_error:\")\n",
    "        print(self.mse(self.model(self.X), self.Y))"
   ]
  },
  {
   "cell_type": "markdown",
   "metadata": {
    "deletable": false,
    "editable": false,
    "nbgrader": {
     "cell_type": "markdown",
     "checksum": "505b082454317bc45ccfda5fc15505d7",
     "grade": false,
     "grade_id": "cell-0462e032a5f1ba01",
     "locked": true,
     "schema_version": 3,
     "solution": false,
     "task": false
    }
   },
   "source": [
    "## Task 3e.2 - Train an MLP on the dataset with large oscillations and visualize the phase portrait (1.5p)\n",
    "### Task 3e.2.1 - Load the dataset with large oscillations and visualize it (0p)\n",
    "Load the dataset generated by initializing the double pendulum close to the tip-up configuration (without any external torques applied)."
   ]
  },
  {
   "cell_type": "code",
   "execution_count": null,
   "metadata": {
    "deletable": false,
    "editable": false,
    "nbgrader": {
     "cell_type": "code",
     "checksum": "3ca8e3e4274134c668d03fcadefc9ed5",
     "grade": false,
     "grade_id": "cell-f3cf436fd863a979",
     "locked": true,
     "schema_version": 3,
     "solution": false,
     "task": false
    }
   },
   "outputs": [],
   "source": [
    "# load the dataset with large oscillations from task 3c\n",
    "dataset_name_big_osc = \"trajectory_zero_gains_big_osc\"\n",
    "df_big_osc = pd.read_csv(datasets_dir / f\"{dataset_name_big_osc}.csv\")\n",
    "\n",
    "# indicate input X and Y labels training data\n",
    "input_columns = [\"th_d_ts_1\", \"th_d_ts_2\", \"th_ts_1\", \"th_ts_2\", \"tau_ts_1\", \"tau_ts_2\"]\n",
    "output_columns = [\"th_dd_ts_1\", \"th_dd_ts_2\"]\n",
    "\n",
    "# plot the GP training data\n",
    "plot_data(\n",
    "    df_big_osc,\n",
    "    input_columns,\n",
    "    output_columns,\n",
    "    filepath=str(outputs_dir / f\"task_3e_dataset_plot_{dataset_name_big_osc}.pdf\"),\n",
    ")\n",
    "\n",
    "# generate torch tensors for training\n",
    "X_big_osc, Y_big_osc = generate_training_data(df_big_osc, input_columns, output_columns)"
   ]
  },
  {
   "cell_type": "markdown",
   "metadata": {
    "deletable": false,
    "editable": false,
    "nbgrader": {
     "cell_type": "markdown",
     "checksum": "b6db25a87baa730e91f5765faf5d2823",
     "grade": false,
     "grade_id": "cell-f405761fb33cefcb",
     "locked": true,
     "schema_version": 3,
     "solution": false,
     "task": false
    }
   },
   "source": [
    "### Task 3e.2.2 - Train the MLP (0.5p)\n",
    "Initialize the MLP and **train it** using the dataset previously loaded."
   ]
  },
  {
   "cell_type": "code",
   "execution_count": null,
   "metadata": {
    "deletable": false,
    "nbgrader": {
     "cell_type": "code",
     "checksum": "ae280aa1274bdaa06e14f7a9b5f3c9e9",
     "grade": true,
     "grade_id": "cell-13acfc87c41ae0ff",
     "locked": false,
     "points": 0.5,
     "schema_version": 3,
     "solution": true,
     "task": false
    }
   },
   "outputs": [],
   "source": [
    "# set torch seed\n",
    "torch.manual_seed(42)\n",
    "\n",
    "# forward_model_big_osc =\n",
    "# YOUR CODE HERE\n",
    "raise NotImplementedError()\n",
    "\n",
    "# plot convergence of training loss\n",
    "forward_model_big_osc.plot_convergence(dataset_name_big_osc)"
   ]
  },
  {
   "cell_type": "markdown",
   "metadata": {
    "deletable": false,
    "editable": false,
    "nbgrader": {
     "cell_type": "markdown",
     "checksum": "544ed63d201651d2cfe327f1c8656fbc",
     "grade": false,
     "grade_id": "cell-b4f99923b8f7855a",
     "locked": true,
     "schema_version": 3,
     "solution": false,
     "task": false
    }
   },
   "source": [
    "### Task 3e.2.3 - Visualize the learned dynamics with a phase portrait (1p)\n",
    "For more information about phase portraits, please consult the [Wikipedia article](https://en.wikipedia.org/wiki/Phase_portrait).\n",
    "\n",
    "Since we cannot visualize the phase portrait of a double pendulum in 2D (it works for a standard pendulum, though), we are going to lock the second DoF by considering the configuration and its velocity equal to the one of the first joint, i.e., no relative movement. We are studying the unforced dynamics of the systems. Hence, the external torques (for both joints) are set to zero. "
   ]
  },
  {
   "cell_type": "code",
   "execution_count": null,
   "metadata": {
    "deletable": false,
    "nbgrader": {
     "cell_type": "code",
     "checksum": "d198d3e2cd0d841d884103a2221cfc30",
     "grade": true,
     "grade_id": "cell-f95457df09d571ed",
     "locked": false,
     "points": 1,
     "schema_version": 3,
     "solution": true,
     "task": false
    }
   },
   "outputs": [],
   "source": [
    "theta_dot_min, theta_dot_max = (-8, 8)\n",
    "# theta_grid, theta_dot_grid =\n",
    "# Set torques to zero\n",
    "# tau1 =\n",
    "# tau2 =\n",
    "# YOUR CODE HERE\n",
    "raise NotImplementedError()\n",
    "\n",
    "# Create input points\n",
    "input_points = np.column_stack(\n",
    "    (\n",
    "        theta_dot_grid.flatten(),\n",
    "        theta_dot_grid.flatten(),\n",
    "        theta_grid.flatten(),\n",
    "        theta_grid.flatten(),\n",
    "        tau1.flatten(),\n",
    "        tau2.flatten(),\n",
    "    )\n",
    ")\n",
    "\n",
    "X_test = torch.tensor(input_points, dtype=torch.float32)"
   ]
  },
  {
   "cell_type": "markdown",
   "metadata": {
    "deletable": false,
    "editable": false,
    "nbgrader": {
     "cell_type": "markdown",
     "checksum": "4e8a31a170eb1ce8d1674bea373e8ddc",
     "grade": false,
     "grade_id": "cell-b35ec18ceb413835",
     "locked": true,
     "schema_version": 3,
     "solution": false,
     "task": false
    }
   },
   "source": [
    "##### Perform the predictions for the specified inputs and plot the phase portrait."
   ]
  },
  {
   "cell_type": "code",
   "execution_count": null,
   "metadata": {
    "deletable": false,
    "editable": false,
    "nbgrader": {
     "cell_type": "code",
     "checksum": "eeb5bddc25d48c51b7f96129c758acb0",
     "grade": false,
     "grade_id": "cell-7f3a401fdbbb9eab",
     "locked": true,
     "schema_version": 3,
     "solution": false,
     "task": false
    }
   },
   "outputs": [],
   "source": [
    "# model prediction\n",
    "Y_pred_big_osc = forward_model_big_osc.predict(X_test)\n",
    "Y_pred_mean_grid_big_osc = Y_pred_big_osc[:, 0].detach().cpu().view(100, 100).numpy()\n",
    "\n",
    "# plot the phase portrait\n",
    "fig, ax = plt.subplots(figsize=(12, 7))\n",
    "ax.streamplot(\n",
    "    theta_grid,\n",
    "    theta_dot_grid,\n",
    "    theta_dot_grid,\n",
    "    Y_pred_mean_grid_big_osc,\n",
    "    density=2,\n",
    "    color=\"black\",\n",
    ")\n",
    "ax.set_xlabel(r\"$\\theta_1$ [rad]\")\n",
    "ax.set_ylabel(r\"$\\dot{\\theta}_1$ [rad/s]\")\n",
    "ax.vlines(-np.pi / 2, theta_dot_min, theta_dot_max, color=\"red\", linestyles=\"dashed\")\n",
    "ax.vlines(np.pi / 2, theta_dot_min, theta_dot_max, color=\"red\", linestyles=\"dashed\")\n",
    "ax.hlines(0, -np.pi, np.pi, color=\"red\", linestyles=\"dashed\")"
   ]
  },
  {
   "cell_type": "markdown",
   "metadata": {
    "deletable": false,
    "editable": false,
    "nbgrader": {
     "cell_type": "markdown",
     "checksum": "f250f51049eff65589f57eb7b3932d2c",
     "grade": false,
     "grade_id": "cell-9c02d80c69b2e9fa",
     "locked": true,
     "schema_version": 3,
     "solution": false,
     "task": false
    }
   },
   "source": [
    "## Task 3e.3 - Train an MLP on the dataset with small oscillations and visualize phase portrait (0.5p)\n",
    "### Task 3e.3.1 - Load the dataset with small oscillations and visualize it (0p)\n",
    "Load the dataset generated by initializing the double pendulum close to the tip-down configuration (without any external torques applied)."
   ]
  },
  {
   "cell_type": "code",
   "execution_count": null,
   "metadata": {
    "deletable": false,
    "editable": false,
    "nbgrader": {
     "cell_type": "code",
     "checksum": "a3fe10dbd3afdcb76086943c5e070e2a",
     "grade": false,
     "grade_id": "cell-a20f16de1107caf2",
     "locked": true,
     "schema_version": 3,
     "solution": false,
     "task": false
    }
   },
   "outputs": [],
   "source": [
    "# load the dataset with small oscillations from task 3c\n",
    "dataset_name_small_osc = \"trajectory_zero_gains_small_osc\"\n",
    "df_small_osc = pd.read_csv(datasets_dir / f\"{dataset_name_small_osc}.csv\")\n",
    "\n",
    "# indicate input X and Y labels training data\n",
    "input_columns = [\"th_d_ts_1\", \"th_d_ts_2\", \"th_ts_1\", \"th_ts_2\", \"tau_ts_1\", \"tau_ts_2\"]\n",
    "output_columns = [\"th_dd_ts_1\", \"th_dd_ts_2\"]\n",
    "\n",
    "# plot the training data\n",
    "plot_data(\n",
    "    df_small_osc,\n",
    "    input_columns,\n",
    "    output_columns,\n",
    "    filepath=str(outputs_dir / f\"task_3e_dataset_plot_{dataset_name_small_osc}.pdf\"),\n",
    ")\n",
    "\n",
    "# generate torch tensors for training\n",
    "X_small_osc, Y_small_osc = generate_training_data(\n",
    "    df_small_osc, input_columns, output_columns\n",
    ")"
   ]
  },
  {
   "cell_type": "markdown",
   "metadata": {
    "deletable": false,
    "editable": false,
    "nbgrader": {
     "cell_type": "markdown",
     "checksum": "649e2902044210c7ba0694408fd60cea",
     "grade": false,
     "grade_id": "cell-b0016181ab831e03",
     "locked": true,
     "schema_version": 3,
     "solution": false,
     "task": false
    }
   },
   "source": [
    "### Task 3e.3.2 - Train the MLP (0.5p)\n",
    "Initialize the MLP and **train it** using the dataset previously loaded."
   ]
  },
  {
   "cell_type": "code",
   "execution_count": null,
   "metadata": {
    "deletable": false,
    "nbgrader": {
     "cell_type": "code",
     "checksum": "48e1b685d7da8928e89182a9896b898d",
     "grade": true,
     "grade_id": "cell-23e0e0aad37e6adf",
     "locked": false,
     "points": 0.5,
     "schema_version": 3,
     "solution": true,
     "task": false
    }
   },
   "outputs": [],
   "source": [
    "# set torch seed\n",
    "torch.manual_seed(42)\n",
    "\n",
    "# forward_model_small_osc =\n",
    "# YOUR CODE HERE\n",
    "raise NotImplementedError()\n",
    "\n",
    "# plot convergence of training loss\n",
    "forward_model_small_osc.plot_convergence(dataset_name_small_osc)"
   ]
  },
  {
   "cell_type": "markdown",
   "metadata": {
    "deletable": false,
    "editable": false,
    "nbgrader": {
     "cell_type": "markdown",
     "checksum": "ff6717357937b755685e5b1257a0a218",
     "grade": false,
     "grade_id": "cell-955f2d2986b252ed",
     "locked": true,
     "schema_version": 3,
     "solution": false,
     "task": false
    }
   },
   "source": [
    "### Task 3e.3.3 - Visualize the learned dynamics with a phase portrait (0p)"
   ]
  },
  {
   "cell_type": "code",
   "execution_count": null,
   "metadata": {
    "deletable": false,
    "editable": false,
    "nbgrader": {
     "cell_type": "code",
     "checksum": "c5ae924315c40f5ddaa23c5311f7e1e5",
     "grade": false,
     "grade_id": "cell-a258d02f28841242",
     "locked": true,
     "schema_version": 3,
     "solution": false,
     "task": false
    }
   },
   "outputs": [],
   "source": [
    "# model prediction\n",
    "Y_pred_small_osc = forward_model_small_osc.predict(X_test)\n",
    "Y_pred_mean_grid_small_osc = (\n",
    "    Y_pred_small_osc[:, 0].detach().cpu().view(100, 100).numpy()\n",
    ")\n",
    "\n",
    "# plot phase portrait\n",
    "fig, ax = plt.subplots(figsize=(12, 7))\n",
    "ax.streamplot(\n",
    "    theta_grid,\n",
    "    theta_dot_grid,\n",
    "    theta_dot_grid,\n",
    "    Y_pred_mean_grid_small_osc,\n",
    "    density=2,\n",
    "    color=\"black\",\n",
    ")\n",
    "ax.set_xlabel(r\"$\\theta_1$ [rad]\")\n",
    "ax.set_ylabel(r\"$\\dot{\\theta}_1$ [rad/s]\")\n",
    "ax.vlines(-np.pi / 2, theta_dot_min, theta_dot_max, color=\"red\", linestyles=\"dashed\")\n",
    "ax.vlines(np.pi / 2, theta_dot_min, theta_dot_max, color=\"red\", linestyles=\"dashed\")\n",
    "ax.hlines(0, -np.pi, np.pi, color=\"red\", linestyles=\"dashed\")"
   ]
  },
  {
   "cell_type": "markdown",
   "metadata": {
    "deletable": false,
    "editable": false,
    "nbgrader": {
     "cell_type": "markdown",
     "checksum": "c868de36b20252c9f945e00c27390667",
     "grade": false,
     "grade_id": "cell-1bd770ccd186d447",
     "locked": true,
     "schema_version": 3,
     "solution": false,
     "task": false
    }
   },
   "source": [
    "## Task 3e.4 - Comparison of MPL phase portraits (1.5p)\n",
    "Compare the two phase portraits you created in this notebook (i.e., Task 3e). Why are they different? "
   ]
  },
  {
   "cell_type": "markdown",
   "metadata": {
    "deletable": false,
    "nbgrader": {
     "cell_type": "markdown",
     "checksum": "5d31a5a3840b850ddb5af9f0a13f22c1",
     "grade": true,
     "grade_id": "cell-25bda3b45e80664e",
     "locked": false,
     "points": 1.5,
     "schema_version": 3,
     "solution": true,
     "task": false
    }
   },
   "source": [
    "YOUR ANSWER HERE"
   ]
  },
  {
   "cell_type": "markdown",
   "metadata": {
    "deletable": false,
    "editable": false,
    "nbgrader": {
     "cell_type": "markdown",
     "checksum": "80128b0ce800238f09cf8f2e082c97ff",
     "grade": false,
     "grade_id": "cell-36d1765ecabe84de",
     "locked": true,
     "schema_version": 3,
     "solution": false,
     "task": false
    }
   },
   "source": [
    "## Task 3e.5 - Comparison of MLP with GP phase portraits (1.5p)\n",
    "Compare the two phase portraits of the MLP with the same phase portraits generated with the Gaussian Process in the previous notebook (i.e., Task 3d). How and why are they different? "
   ]
  },
  {
   "cell_type": "markdown",
   "metadata": {
    "deletable": false,
    "nbgrader": {
     "cell_type": "markdown",
     "checksum": "07ccf14259b5ecdcca141bafd74b962e",
     "grade": true,
     "grade_id": "cell-9348115621976041",
     "locked": false,
     "points": 1.5,
     "schema_version": 3,
     "solution": true,
     "task": false
    }
   },
   "source": [
    "YOUR ANSWER HERE"
   ]
  },
  {
   "cell_type": "code",
   "execution_count": null,
   "metadata": {},
   "outputs": [],
   "source": []
  }
 ],
 "metadata": {
  "kernelspec": {
   "display_name": "Python 3 (ipykernel)",
   "language": "python",
   "name": "python3"
  },
  "language_info": {
   "codemirror_mode": {
    "name": "ipython",
    "version": 3
   },
   "file_extension": ".py",
   "mimetype": "text/x-python",
   "name": "python",
   "nbconvert_exporter": "python",
   "pygments_lexer": "ipython3",
   "version": "3.11.7"
  }
 },
 "nbformat": 4,
 "nbformat_minor": 4
}
