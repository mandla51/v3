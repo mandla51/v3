{
 "cells": [
  {
   "cell_type": "markdown",
   "id": "ac408b5e",
   "metadata": {
    "deletable": false,
    "editable": false,
    "nbgrader": {
     "cell_type": "markdown",
     "checksum": "7619294def77410a539e618e2428f0d5",
     "grade": false,
     "grade_id": "cell-b00828259c8e42e8",
     "locked": true,
     "schema_version": 3,
     "solution": false,
     "task": false
    }
   },
   "source": [
    "# RO47019: Intelligent Control Systems Practical Assignment\n",
    "* Period: 2023-2024, Q3\n",
    "* Course homepage: https://brightspace.tudelft.nl/d2l/home/500969\n",
    "* Instructor: Cosimo Della Santina (C.DellaSantina@tudelft.nl)\n",
    "* Teaching assistant: Maria de Neves de Fonseca (M.deNevesdeFonseca-1@student.tudelft.nl)\n",
    "* (c) TU Delft, 2024\n",
    "\n",
    "Make sure you fill in any place that says `YOUR CODE HERE` or `YOUR ANSWER HERE`. Remove `raise NotImplementedError()` afterwards. Moreover, if you see an empty cell, please DO NOT delete it, instead run that cell as you would run all other cells. Please fill in your name(s) and other required details below:"
   ]
  },
  {
   "cell_type": "code",
   "execution_count": null,
   "id": "4f9e220c",
   "metadata": {},
   "outputs": [],
   "source": [
    "# Please fill in your names, student numbers, netID, and emails below.\n",
    "STUDENT_1_NAME = \"\"\n",
    "STUDENT_1_STUDENT_NUMBER = \"\"\n",
    "STUDENT_1_NETID = \"\"\n",
    "STUDENT_1_EMAIL = \"\""
   ]
  },
  {
   "cell_type": "code",
   "execution_count": null,
   "id": "8ba32571",
   "metadata": {
    "deletable": false,
    "editable": false,
    "nbgrader": {
     "cell_type": "code",
     "checksum": "042927213b84aa368aa3ea72caa4cb60",
     "grade": true,
     "grade_id": "cell-9f148ec62e0de49c",
     "locked": true,
     "points": 0,
     "schema_version": 3,
     "solution": false,
     "task": false
    }
   },
   "outputs": [],
   "source": [
    "# Note: this block is a check that you have filled in the above information.\n",
    "# It will throw an AssertionError until all fields are filled\n",
    "assert STUDENT_1_NAME != \"\"\n",
    "assert STUDENT_1_STUDENT_NUMBER != \"\"\n",
    "assert STUDENT_1_NETID != \"\"\n",
    "assert STUDENT_1_EMAIL != \"\""
   ]
  },
  {
   "cell_type": "markdown",
   "id": "af317a94",
   "metadata": {
    "deletable": false,
    "editable": false,
    "nbgrader": {
     "cell_type": "markdown",
     "checksum": "95c5b11f9ac3896252d342cabb38d867",
     "grade": false,
     "grade_id": "cell-4ea391677951116c",
     "locked": true,
     "schema_version": 3,
     "solution": false,
     "task": false
    }
   },
   "source": [
    "### General announcements\n",
    "\n",
    "* Do *not* share your solutions (also after the course is finished), and do *not* copy solutions from others. By submitting your solutions, you claim that you alone are responsible for this code.\n",
    "\n",
    "* Do *not* email questions directly, since we want to provide everybody with the same information and avoid repeating the same answers. Instead, please post your questions regarding this assignment in the correct support forum on Brightspace, this way everybody can benefit from the response. If you do have a particular question that you want to ask directly, please use the scheduled Q&A hours to ask the TA.\n",
    "\n",
    "* There is a strict deadline for each assignment. Students are responsible to ensure that they have uploaded their work in time. So, please double check that your upload succeeded to the Brightspace and avoid any late penalties.\n",
    "\n",
    "* This [Jupyter notebook](https://jupyter.org/) uses `nbgrader` to help us with automated tests. `nbgrader` will make various cells in this notebook \"uneditable\" or \"unremovable\" and gives them a special id in the cell metadata. This way, when we run our checks, the system will check the existence of the cell ids and verify the number of points and which checks must be run. While there are ways that you can edit the metadata and work around the restrictions to delete or modify these special cells, you should not do that since then our nbgrader backend will not be able to parse your notebook and give you points for the assignment. You are free to add additional cells, but if you find a cell that you cannot modify or remove, please know that this is on purpose.\n",
    "\n",
    "* This notebook will have in various places a line that throws a `NotImplementedError` exception. These are locations where the assignment requires you to adapt the code! These lines are just there as a reminder for you that you have not yet adapted that particular piece of code, especially when you execute all the cells. Once your solution code replaced these lines, it should accordingly *not* throw any exceptions anymore.\n",
    "\n",
    "Before you turn this problem in, make sure everything runs as expected. First, **restart the kernel** (in the menubar, select Kernel$\\rightarrow$Restart) and then **run all cells** (in the menubar, select Cell$\\rightarrow$Run All)."
   ]
  },
  {
   "cell_type": "code",
   "execution_count": null,
   "id": "3c956945",
   "metadata": {},
   "outputs": [],
   "source": []
  },
  {
   "cell_type": "markdown",
   "metadata": {
    "deletable": false,
    "editable": false,
    "nbgrader": {
     "cell_type": "markdown",
     "checksum": "b80efcc342d9702a77b9512ea7c6ed58",
     "grade": false,
     "grade_id": "cell-281e9e59b19b6a53",
     "locked": true,
     "schema_version": 3,
     "solution": false,
     "task": false
    }
   },
   "source": [
    "# Task 3d - Fit a GP to the forward dynamics and visualize the phase plot (8p)\n",
    "**Authors:** Giovanni Franzese (G.Franzese@tudelft.nl), Lorenzo Lyons (L.Lyons@tudelft.nl)"
   ]
  },
  {
   "cell_type": "code",
   "execution_count": null,
   "metadata": {
    "deletable": false,
    "editable": false,
    "nbgrader": {
     "cell_type": "code",
     "checksum": "e437640c508363dcc241275ff530dc66",
     "grade": false,
     "grade_id": "cell-aabe42750d61bafb",
     "locked": true,
     "schema_version": 3,
     "solution": false,
     "task": false
    }
   },
   "outputs": [],
   "source": [
    "import gpytorch\n",
    "from gpytorch.models import ApproximateGP\n",
    "from matplotlib import pyplot as plt\n",
    "import matplotlib as mpl\n",
    "import numpy as np\n",
    "import pandas as pd\n",
    "from pathlib import Path\n",
    "import random\n",
    "import torch\n",
    "from torch.utils.data import TensorDataset, DataLoader\n",
    "from tqdm.notebook import tqdm  # progress bar\n",
    "\n",
    "from utils import generate_training_data, plot_data\n",
    "\n",
    "# define folder where to save animations and plots\n",
    "outputs_dir = Path(\"outputs\")\n",
    "outputs_dir.mkdir(parents=True, exist_ok=True)\n",
    "# define path to folder that contains the datasets\n",
    "datasets_dir = Path(\"datasets\")"
   ]
  },
  {
   "cell_type": "markdown",
   "metadata": {
    "deletable": false,
    "editable": false,
    "nbgrader": {
     "cell_type": "markdown",
     "checksum": "1fe871e1bc0193e43db1c79cb7fdba63",
     "grade": false,
     "grade_id": "cell-2bf6fffc0d052368",
     "locked": true,
     "schema_version": 3,
     "solution": false,
     "task": false
    }
   },
   "source": [
    "# Task 3d.1 - Create the Multi-input Multi-output Gaussian Process Model (1p)\n",
    "The following GP model is a multi-input, multi-output model that only uses a sparse set of inducing points. Hence, it is a sparse variational approximation.\n",
    "\n",
    "Everything is similar to before, but the resulting likelihood is now a multi-output.\n",
    "\n",
    "```python\n",
    "likelihood = gpytorch.likelihoods.MultitaskGaussianLikelihood(num_tasks=)\n",
    "```\n",
    "where `num_tasks` is the number of outputs to predict. \n",
    "\n",
    "The scale kernel should be different for each task because they can have different units of measure. This is achieved by setting batch_shape=torch.Size([num_tasks]). If you want to use the same scale kernel for all tasks, you can simply remove the batch_shape argument.\n",
    "\n",
    "Define the covariance module as a Matern kernel with `nu=2.5`, with automatic relevance determination equal to `ard_num_dim`, which is equal to the number of columns of the inducing points and having a different output scale for each output."
   ]
  },
  {
   "cell_type": "code",
   "execution_count": null,
   "metadata": {
    "deletable": false,
    "nbgrader": {
     "cell_type": "code",
     "checksum": "8ca5e6c88bea35951fbd0b2f1187312a",
     "grade": true,
     "grade_id": "cell-bae5ddd32d0e64e6",
     "locked": false,
     "points": 1,
     "schema_version": 3,
     "solution": true,
     "task": false
    }
   },
   "outputs": [],
   "source": [
    "class MultitaskGPModel(ApproximateGP):\n",
    "    def __init__(self, num_tasks, inducing_points):\n",
    "        variational_distribution = gpytorch.variational.CholeskyVariationalDistribution(\n",
    "            inducing_points.size(-2), batch_shape=torch.Size([num_tasks])\n",
    "        )\n",
    "        variational_strategy = (\n",
    "            gpytorch.variational.IndependentMultitaskVariationalStrategy(\n",
    "                gpytorch.variational.VariationalStrategy(\n",
    "                    self,\n",
    "                    inducing_points,\n",
    "                    variational_distribution,\n",
    "                    learn_inducing_locations=True,\n",
    "                ),\n",
    "                num_tasks=num_tasks,\n",
    "                task_dim=-1,\n",
    "            )\n",
    "        )\n",
    "\n",
    "        super().__init__(variational_strategy)\n",
    "\n",
    "        self.mean_module = gpytorch.means.ZeroMean()\n",
    "        # ard_num_dim =\n",
    "        # self.covar_module = gpytorch.kernels.ScaleKernel()\n",
    "        # YOUR CODE HERE\n",
    "        raise NotImplementedError()\n",
    "\n",
    "    def forward(self, x):\n",
    "        # The forward function should be written as if we were dealing with each output\n",
    "        # dimension in batch\n",
    "        mean_x = self.mean_module(x)\n",
    "        covar_x = self.covar_module(x)\n",
    "        return gpytorch.distributions.MultivariateNormal(mean_x, covar_x)"
   ]
  },
  {
   "cell_type": "markdown",
   "metadata": {
    "deletable": false,
    "editable": false,
    "nbgrader": {
     "cell_type": "markdown",
     "checksum": "f847d6b8d90fd7e7b5f73e943bca1866",
     "grade": false,
     "grade_id": "cell-e560f5fc4cde0e96",
     "locked": true,
     "schema_version": 3,
     "solution": false,
     "task": false
    }
   },
   "source": [
    "# Task 3d.2 - Create a `ForwardDynamicsModel` class that defines the GP model, the likelihood and trains the variational parameters (1p)\n",
    "Define the GP model, likelihood and the ELBO inside the `ForwardDynamicsModel` class. Refer to the previous tasks for hints."
   ]
  },
  {
   "cell_type": "code",
   "execution_count": null,
   "metadata": {
    "deletable": false,
    "nbgrader": {
     "cell_type": "code",
     "checksum": "74ea208c9358a81e0ab86efb6afee961",
     "grade": true,
     "grade_id": "cell-f1b9674b13e32701",
     "locked": false,
     "points": 1,
     "schema_version": 3,
     "solution": true,
     "task": false
    }
   },
   "outputs": [],
   "source": [
    "class ForwardDynamicsModel:\n",
    "    def __init__(self, X, Y, n_ind=100, batch_size=256):\n",
    "        self.X = X\n",
    "        self.Y = Y\n",
    "        # number of inducing points\n",
    "        unique_random_indices = torch.randperm(len(X))[:n_ind]\n",
    "        inducing_points = X[unique_random_indices]\n",
    "        self.inducing_points = inducing_points\n",
    "        self.batch_size = batch_size\n",
    "        self.is_cuda = False\n",
    "        # to plot the training loss convergence\n",
    "        self.rmse_loss_vec = np.array([])\n",
    "\n",
    "        # self.gp =\n",
    "        # self.likelihood =\n",
    "        # YOUR CODE HERE\n",
    "        raise NotImplementedError()\n",
    "\n",
    "    def to_cuda(self):\n",
    "        self.gp = self.gp.cuda()\n",
    "        self.likelihood = self.likelihood.cuda()\n",
    "        self.X = self.X.cuda()\n",
    "        self.Y = self.Y.cuda()\n",
    "        self.is_cuda = True\n",
    "\n",
    "    def predict(self, X_pred):\n",
    "        if self.is_cuda:\n",
    "            X_pred = X_pred.cuda()\n",
    "        return self.gp(X_pred)\n",
    "\n",
    "    def train(self, num_epochs=3):\n",
    "        self.gp = self.gp.double()\n",
    "        self.likelihood = self.likelihood.double()\n",
    "        self.X = self.X.double()\n",
    "        self.Y = self.Y.double()\n",
    "        self.train_dataset = TensorDataset(self.X, self.Y)\n",
    "        self.train_loader = DataLoader(\n",
    "            self.train_dataset, batch_size=self.batch_size, shuffle=True\n",
    "        )\n",
    "        self.gp.train()\n",
    "        self.likelihood.train()\n",
    "\n",
    "        optimizer = torch.optim.Adam(\n",
    "            [\n",
    "                {\"params\": self.gp.parameters()},\n",
    "                {\"params\": self.likelihood.parameters()},\n",
    "            ],\n",
    "            lr=0.01,\n",
    "        )\n",
    "\n",
    "        # Our loss object. We're using the VariationalELBO\n",
    "        # self.mll =\n",
    "        # YOUR CODE HERE\n",
    "        raise NotImplementedError()\n",
    "\n",
    "        self.rmse_loss_vec = np.zeros(num_epochs)\n",
    "        for i in tqdm(range(num_epochs)):\n",
    "            loss_sum = 0.0\n",
    "            for x_batch, y_batch in self.train_loader:\n",
    "                optimizer.zero_grad()\n",
    "                output = self.gp(x_batch)\n",
    "                loss = -self.mll(output, y_batch)\n",
    "                loss.backward()\n",
    "                optimizer.step()\n",
    "                loss_sum += loss.detach().cpu()\n",
    "            self.rmse_loss_vec[i] = (\n",
    "                torch.sqrt(loss_sum / len(self.train_loader)).detach().item()\n",
    "            )\n",
    "\n",
    "    def plot_convergence(self, experiment_name: str):\n",
    "        fig = plt.figure()\n",
    "        ax = fig.add_subplot(111)\n",
    "        ax.plot(self.rmse_loss_vec, label=\"loss\")\n",
    "        ax.set_xlabel(\"Epochs\")\n",
    "        ax.set_ylabel(r\"Trainings RMSE for $\\hat{\\ddot{\\theta}}$ [rad/s^2]\")\n",
    "        plt.savefig(\n",
    "            str(outputs_dir / f\"task_3d_training_convergence_{experiment_name}.pdf\")\n",
    "        )\n",
    "\n",
    "    def print_info(self):\n",
    "        with torch.no_grad():\n",
    "            print(\"Training finished with the following statistics.\")\n",
    "            print(\"Lengthscale:\\n\", self.gp.covar_module.base_kernel.lengthscale)\n",
    "            print(\"Outputscale:\\n\", torch.sqrt(self.gp.covar_module.outputscale))\n",
    "            print(\"ELBO:\\n\", self.mll(self.gp(self.X), self.Y))"
   ]
  },
  {
   "cell_type": "markdown",
   "metadata": {
    "deletable": false,
    "editable": false,
    "nbgrader": {
     "cell_type": "markdown",
     "checksum": "8320b5690cb304ef05d9a539d4d51888",
     "grade": false,
     "grade_id": "cell-10a9c77498f8056f",
     "locked": true,
     "schema_version": 3,
     "solution": false,
     "task": false
    }
   },
   "source": [
    "## Task 3d.3 - Train a GP on the dataset with large oscillations and visualize the phase portrait (2p)\n",
    "### Task 3d.3.1 - Load the dataset with large oscillations and visualize it (0p)\n",
    "Load the dataset generated by initializing the double pendulum close to the tip-up configuration (without any external torques applied)."
   ]
  },
  {
   "cell_type": "code",
   "execution_count": null,
   "metadata": {
    "deletable": false,
    "editable": false,
    "nbgrader": {
     "cell_type": "code",
     "checksum": "93a3c35f514108f454d86c20403e8247",
     "grade": false,
     "grade_id": "cell-49bf2049cafb4c7c",
     "locked": true,
     "schema_version": 3,
     "solution": false,
     "task": false
    }
   },
   "outputs": [],
   "source": [
    "# load data generated in task 3c\n",
    "dataset_name_big_osc = \"trajectory_zero_gains_big_osc\"\n",
    "df_big_osc = pd.read_csv(datasets_dir / f\"{dataset_name_big_osc}.csv\")\n",
    "\n",
    "# indicate input X and Y labels training data\n",
    "input_columns = [\"th_d_ts_1\", \"th_d_ts_2\", \"th_ts_1\", \"th_ts_2\", \"tau_ts_1\", \"tau_ts_2\"]\n",
    "output_columns = [\"th_dd_ts_1\", \"th_dd_ts_2\"]\n",
    "\n",
    "# plot the training dataset\n",
    "plot_data(\n",
    "    df_big_osc,\n",
    "    input_columns,\n",
    "    output_columns,\n",
    "    filepath=str(outputs_dir / f\"task_3d-3_dataset_plot_{dataset_name_big_osc}.pdf\"),\n",
    ")\n",
    "\n",
    "# generate torch tensors for training\n",
    "X_big_osc, Y_big_osc = generate_training_data(df_big_osc, input_columns, output_columns)"
   ]
  },
  {
   "cell_type": "markdown",
   "metadata": {
    "deletable": false,
    "editable": false,
    "nbgrader": {
     "cell_type": "markdown",
     "checksum": "81ceff68c9f71728e816df36f0f58488",
     "grade": false,
     "grade_id": "cell-8c245cebaea4e6c2",
     "locked": true,
     "schema_version": 3,
     "solution": false,
     "task": false
    }
   },
   "source": [
    "### Task 3d.3.2 - Train the GP model (0.5p)\n",
    "Initialize the ForwardDynamicsModel and **train it** using the dataset previously loaded."
   ]
  },
  {
   "cell_type": "code",
   "execution_count": null,
   "metadata": {
    "deletable": false,
    "nbgrader": {
     "cell_type": "code",
     "checksum": "110360b48626a423fca4f3da13abcee7",
     "grade": true,
     "grade_id": "cell-7240dfe4d736f2ef",
     "locked": false,
     "points": 0.5,
     "schema_version": 3,
     "solution": true,
     "task": false
    }
   },
   "outputs": [],
   "source": [
    "# set random seed\n",
    "torch.manual_seed(42)\n",
    "\n",
    "# forward_model_big_osc =\n",
    "# YOUR CODE to train the gp\n",
    "# YOUR CODE HERE\n",
    "raise NotImplementedError()\n",
    "\n",
    "# print model info\n",
    "forward_model_big_osc.print_info()\n",
    "\n",
    "# plot convergence of training loss\n",
    "forward_model_big_osc.plot_convergence(dataset_name_big_osc)"
   ]
  },
  {
   "cell_type": "markdown",
   "metadata": {
    "deletable": false,
    "editable": false,
    "nbgrader": {
     "cell_type": "markdown",
     "checksum": "1c6848c0fa03b8eb9eee68f53961eb95",
     "grade": false,
     "grade_id": "cell-47654b88b3e051a9",
     "locked": true,
     "schema_version": 3,
     "solution": false,
     "task": false
    }
   },
   "source": [
    "### Task 3d.3.3 - Visualize the learned dynamics with a phase portrait (0.5p)\n",
    "For more information about phase portraits, please consult the [Wikipedia article](https://en.wikipedia.org/wiki/Phase_portrait).\n",
    "\n",
    "Since we cannot visualize the phase portrait of a double pendulum in 2D (it works for a standard pendulum, though), we are going to lock the second DoF by considering the configuration and its velocity equal to the one of the first joint, i.e., no relative movement. We are studying the unforced dynamics of the systems. Hence, the external torques (for both joints) are set to zero. \n",
    "\n",
    "Define `tau1`and `tau2` used for plotting correctly."
   ]
  },
  {
   "cell_type": "code",
   "execution_count": null,
   "metadata": {
    "deletable": false,
    "nbgrader": {
     "cell_type": "code",
     "checksum": "8f4be1412d11d4700282beb7406c7ef9",
     "grade": true,
     "grade_id": "cell-5aaa667702858923",
     "locked": false,
     "points": 0.5,
     "schema_version": 3,
     "solution": true,
     "task": false
    }
   },
   "outputs": [],
   "source": [
    "theta_dot_min, theta_dot_max = (-8, 8)\n",
    "\n",
    "# Create a grid of input points for prediction\n",
    "theta_range = np.linspace(-np.pi, np.pi, 100)\n",
    "theta_dot_range = np.linspace(theta_dot_min, theta_dot_max, 100)\n",
    "\n",
    "theta_grid, theta_dot_grid = np.meshgrid(theta_range, theta_dot_range)\n",
    "\n",
    "# Set torques to zero\n",
    "# tau1 =\n",
    "# tau2 =\n",
    "# YOUR CODE HERE\n",
    "raise NotImplementedError()\n",
    "\n",
    "# Create input points\n",
    "input_points = np.column_stack(\n",
    "    (\n",
    "        theta_dot_grid.flatten(),\n",
    "        theta_dot_grid.flatten(),\n",
    "        theta_grid.flatten(),\n",
    "        theta_grid.flatten(),\n",
    "        tau1.flatten(),\n",
    "        tau2.flatten(),\n",
    "    )\n",
    ")\n",
    "\n",
    "X_test = torch.tensor(input_points, dtype=torch.float32)"
   ]
  },
  {
   "cell_type": "markdown",
   "metadata": {
    "deletable": false,
    "editable": false,
    "nbgrader": {
     "cell_type": "markdown",
     "checksum": "9b51f840cc616817b76fefd712a41906",
     "grade": false,
     "grade_id": "cell-b6806b974b9080e6",
     "locked": true,
     "schema_version": 3,
     "solution": false,
     "task": false
    }
   },
   "source": [
    "### Task 3d.3.4 - Predict mean and standard deviation of each of the outputs using the learned model (1p)"
   ]
  },
  {
   "cell_type": "code",
   "execution_count": null,
   "metadata": {
    "deletable": false,
    "nbgrader": {
     "cell_type": "code",
     "checksum": "2e645894cfc505efff2560c9c289167c",
     "grade": true,
     "grade_id": "cell-9c17c767786f63b6",
     "locked": false,
     "points": 1,
     "schema_version": 3,
     "solution": true,
     "task": false
    }
   },
   "outputs": [],
   "source": [
    "# Model prediction on X_test\n",
    "# Y_pred_mean =\n",
    "# Y_pred_std =\n",
    "# YOUR CODE HERE\n",
    "raise NotImplementedError()\n",
    "\n",
    "Y_pred_mean_grid_big_osc = Y_pred_mean[:, 0].view(100, 100).detach().cpu().numpy()\n",
    "Y_pred_std_grid_big_osc = Y_pred_std[:, 0].view(100, 100).detach().cpu().numpy()"
   ]
  },
  {
   "cell_type": "code",
   "execution_count": null,
   "metadata": {
    "deletable": false,
    "editable": false,
    "nbgrader": {
     "cell_type": "code",
     "checksum": "db7d41be259fa98eee7bacb1c59b1640",
     "grade": false,
     "grade_id": "cell-e8df73ca26a24582",
     "locked": true,
     "schema_version": 3,
     "solution": false,
     "task": false
    }
   },
   "outputs": [],
   "source": [
    "# Plotting the phase portrait\n",
    "fig, ax = plt.subplots(figsize=(12, 7))\n",
    "\n",
    "ax.streamplot(\n",
    "    theta_grid,\n",
    "    theta_dot_grid,\n",
    "    theta_dot_grid,\n",
    "    Y_pred_mean_grid_big_osc,\n",
    "    density=2,\n",
    "    color=\"black\",\n",
    ")\n",
    "ax.vlines(-np.pi / 2, theta_dot_min, theta_dot_max, color=\"red\", linestyles=\"dashed\")\n",
    "ax.vlines(np.pi / 2, theta_dot_min, theta_dot_max, color=\"red\", linestyles=\"dashed\")\n",
    "ax.hlines(0, -np.pi, np.pi, color=\"red\", linestyles=\"dashed\")\n",
    "cax = ax.pcolormesh(theta_grid, theta_dot_grid, Y_pred_std_grid_big_osc, cmap=\"viridis\")\n",
    "ax.set_xlabel(r\"$\\theta_1$\")\n",
    "ax.set_ylabel(r\"$\\dot{\\theta}_1$\")\n",
    "ax.title.set_text(\n",
    "    \"Phase plot of learned dynamics of first joint for the dataset with large oscillations\"\n",
    ")\n",
    "cbar = fig.colorbar(cax)\n",
    "cbar.set_label(\"Standard deviation [rad/s^2]\")\n",
    "plt.savefig(str(outputs_dir / f\"task_3d-3_phase_portrait_{dataset_name_big_osc}.pdf\"))"
   ]
  },
  {
   "cell_type": "markdown",
   "metadata": {
    "deletable": false,
    "editable": false,
    "nbgrader": {
     "cell_type": "markdown",
     "checksum": "181a9fa5cdc3cebbae4051b2256bcace",
     "grade": false,
     "grade_id": "cell-e70060de84ab512d",
     "locked": true,
     "schema_version": 3,
     "solution": false,
     "task": false
    }
   },
   "source": [
    "## Task 3d.4 - Train a GP on the dataset with small oscillations and visualize phase portrait (1p)\n",
    "### Task 3d.4.1 - Load the dataset with small oscillations and visualize it (0p)\n",
    "Load the dataset generated by initializing the double pendulum close to the tip-down configuration (without any external torques applied)."
   ]
  },
  {
   "cell_type": "code",
   "execution_count": null,
   "metadata": {
    "deletable": false,
    "editable": false,
    "nbgrader": {
     "cell_type": "code",
     "checksum": "76243f69b5bfebc3fb1f239d03167dda",
     "grade": false,
     "grade_id": "cell-753aded54ec2bda9",
     "locked": true,
     "schema_version": 3,
     "solution": false,
     "task": false
    }
   },
   "outputs": [],
   "source": [
    "# load data generated in task 3c\n",
    "dataset_name_small_osc = \"trajectory_zero_gains_small_osc\"\n",
    "df_small_osc = pd.read_csv(datasets_dir / f\"{dataset_name_small_osc}.csv\")\n",
    "\n",
    "# indicate input X and Y labels training data\n",
    "input_columns = [\"th_d_ts_1\", \"th_d_ts_2\", \"th_ts_1\", \"th_ts_2\", \"tau_ts_1\", \"tau_ts_2\"]\n",
    "output_columns = [\"th_dd_ts_1\", \"th_dd_ts_2\"]\n",
    "\n",
    "# plot the GP training data\n",
    "plot_data(\n",
    "    df_small_osc,\n",
    "    input_columns,\n",
    "    output_columns,\n",
    "    filepath=str(outputs_dir / f\"task_3d-4_dataset_plot_{dataset_name_small_osc}.pdf\"),\n",
    ")\n",
    "\n",
    "# generate torch tensors for training\n",
    "X_small_osc, Y_small_osc = generate_training_data(\n",
    "    df_small_osc, input_columns, output_columns\n",
    ")"
   ]
  },
  {
   "cell_type": "markdown",
   "metadata": {
    "deletable": false,
    "editable": false,
    "nbgrader": {
     "cell_type": "markdown",
     "checksum": "c8ed05d3dd9b13e82b9506cd069685bf",
     "grade": false,
     "grade_id": "cell-7edbec7ffa037497",
     "locked": true,
     "schema_version": 3,
     "solution": false,
     "task": false
    }
   },
   "source": [
    "### Task 3d.4.2 - Train the Forward Dynamic model (0.5p)\n",
    "Initialize the model and **train it** using the dataset previously loaded."
   ]
  },
  {
   "cell_type": "code",
   "execution_count": null,
   "metadata": {
    "deletable": false,
    "nbgrader": {
     "cell_type": "code",
     "checksum": "c8f1df1d35a07f1acc93dc60b152d546",
     "grade": true,
     "grade_id": "cell-595a1addfce22a03",
     "locked": false,
     "points": 0.5,
     "schema_version": 3,
     "solution": true,
     "task": false
    }
   },
   "outputs": [],
   "source": [
    "# set random seed\n",
    "torch.manual_seed(42)\n",
    "\n",
    "# forward_model_small_osc =\n",
    "# YOUR CODE HERE\n",
    "raise NotImplementedError()\n",
    "\n",
    "# plot convergence of training loss\n",
    "forward_model_small_osc.plot_convergence(dataset_name_small_osc)"
   ]
  },
  {
   "cell_type": "markdown",
   "metadata": {
    "deletable": false,
    "editable": false,
    "nbgrader": {
     "cell_type": "markdown",
     "checksum": "b525965b6d49a2ea941e4b089bd9cf76",
     "grade": false,
     "grade_id": "cell-78e03332865584a9",
     "locked": true,
     "schema_version": 3,
     "solution": false,
     "task": false
    }
   },
   "source": [
    "### Task 3d.4.3 - Visualize the learned dynamics with a phase portrait (0.5p)"
   ]
  },
  {
   "cell_type": "code",
   "execution_count": null,
   "metadata": {
    "deletable": false,
    "nbgrader": {
     "cell_type": "code",
     "checksum": "b3e29056fa2666ade77e08c79ae6be44",
     "grade": true,
     "grade_id": "cell-a46b0dcf5bf534eb",
     "locked": false,
     "points": 0.5,
     "schema_version": 3,
     "solution": true,
     "task": false
    }
   },
   "outputs": [],
   "source": [
    "# Model prediction on X_test\n",
    "# Y_pred_mean =\n",
    "# Y_pred_std =\n",
    "# YOUR CODE HERE\n",
    "raise NotImplementedError()\n",
    "\n",
    "Y_pred_mean_grid_small_osc = Y_pred_mean[:, 0].view(100, 100).detach().cpu().numpy()\n",
    "Y_pred_std_grid_small_osc = Y_pred_std[:, 0].view(100, 100).detach().cpu().numpy()"
   ]
  },
  {
   "cell_type": "code",
   "execution_count": null,
   "metadata": {
    "deletable": false,
    "editable": false,
    "nbgrader": {
     "cell_type": "code",
     "checksum": "532d2276cd94d07fdd86bd9828cd829f",
     "grade": false,
     "grade_id": "cell-9a6a4c49d01491c3",
     "locked": true,
     "schema_version": 3,
     "solution": false,
     "task": false
    }
   },
   "outputs": [],
   "source": [
    "# Plotting\n",
    "fig, ax = plt.subplots(figsize=(12, 7))\n",
    "\n",
    "ax.streamplot(\n",
    "    theta_grid,\n",
    "    theta_dot_grid,\n",
    "    theta_dot_grid,\n",
    "    Y_pred_mean_grid_small_osc,\n",
    "    density=2,\n",
    "    color=\"black\",\n",
    ")\n",
    "ax.vlines(-np.pi / 2, theta_dot_min, theta_dot_max, color=\"red\", linestyles=\"dashed\")\n",
    "ax.vlines(np.pi / 2, theta_dot_min, theta_dot_max, color=\"red\", linestyles=\"dashed\")\n",
    "ax.hlines(0, -np.pi, np.pi, color=\"red\", linestyles=\"dashed\")\n",
    "cax = ax.pcolormesh(\n",
    "    theta_grid, theta_dot_grid, Y_pred_std_grid_small_osc, cmap=\"viridis\"\n",
    ")\n",
    "ax.vlines(-np.pi / 2, theta_dot_min, theta_dot_max, color=\"red\", linestyles=\"dashed\")\n",
    "ax.vlines(np.pi / 2, theta_dot_min, theta_dot_max, color=\"red\", linestyles=\"dashed\")\n",
    "ax.hlines(0, -np.pi, np.pi, color=\"red\", linestyles=\"dashed\")\n",
    "ax.set_xlabel(r\"$\\theta_1$\")\n",
    "ax.set_ylabel(r\"$\\dot{\\theta}_1$\")\n",
    "ax.title.set_text(\n",
    "    \"Phase plot of learned dynamics of first joint for the dataset with small oscillations\"\n",
    ")\n",
    "cbar = fig.colorbar(cax)\n",
    "cbar.set_label(\"Standard deviation [m/s^2]\")\n",
    "plt.savefig(str(outputs_dir / f\"task_3d-4_phase_portrait_{dataset_name_small_osc}.pdf\"))"
   ]
  },
  {
   "cell_type": "markdown",
   "metadata": {
    "deletable": false,
    "editable": false,
    "nbgrader": {
     "cell_type": "markdown",
     "checksum": "d529b4bff9f1c14dd8b3bf13d4fce098",
     "grade": false,
     "grade_id": "cell-acfcf525c9f8cbfa",
     "locked": true,
     "schema_version": 3,
     "solution": false,
     "task": false
    }
   },
   "source": [
    "## Task 3d.5 - Comparison of phase portraits (3p)\n",
    "Compare the two-phase portraits. In particular, explain why the colors and the vector field are different on the right side of the phase plot. Write your answer below. "
   ]
  },
  {
   "cell_type": "markdown",
   "metadata": {
    "deletable": false,
    "nbgrader": {
     "cell_type": "markdown",
     "checksum": "8cc271cb4307c9ab45045a78af76526a",
     "grade": true,
     "grade_id": "cell-bfb79974b4f869f0",
     "locked": false,
     "points": 3,
     "schema_version": 3,
     "solution": true,
     "task": false
    }
   },
   "source": [
    "YOUR ANSWER HERE"
   ]
  }
 ],
 "metadata": {
  "kernelspec": {
   "display_name": "Python 3 (ipykernel)",
   "language": "python",
   "name": "python3"
  },
  "language_info": {
   "codemirror_mode": {
    "name": "ipython",
    "version": 3
   },
   "file_extension": ".py",
   "mimetype": "text/x-python",
   "name": "python",
   "nbconvert_exporter": "python",
   "pygments_lexer": "ipython3",
   "version": "3.11.7"
  }
 },
 "nbformat": 4,
 "nbformat_minor": 4
}
