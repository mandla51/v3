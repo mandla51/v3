{
 "cells": [
  {
   "cell_type": "markdown",
   "id": "ac408b5e",
   "metadata": {
    "deletable": false,
    "editable": false,
    "nbgrader": {
     "cell_type": "markdown",
     "checksum": "7619294def77410a539e618e2428f0d5",
     "grade": false,
     "grade_id": "cell-b00828259c8e42e8",
     "locked": true,
     "schema_version": 3,
     "solution": false,
     "task": false
    }
   },
   "source": [
    "# RO47019: Intelligent Control Systems Practical Assignment\n",
    "* Period: 2023-2024, Q3\n",
    "* Course homepage: https://brightspace.tudelft.nl/d2l/home/500969\n",
    "* Instructor: Cosimo Della Santina (C.DellaSantina@tudelft.nl)\n",
    "* Teaching assistant: Maria de Neves de Fonseca (M.deNevesdeFonseca-1@student.tudelft.nl)\n",
    "* (c) TU Delft, 2024\n",
    "\n",
    "Make sure you fill in any place that says `YOUR CODE HERE` or `YOUR ANSWER HERE`. Remove `raise NotImplementedError()` afterwards. Moreover, if you see an empty cell, please DO NOT delete it, instead run that cell as you would run all other cells. Please fill in your name(s) and other required details below:"
   ]
  },
  {
   "cell_type": "code",
   "execution_count": null,
   "id": "4f9e220c",
   "metadata": {},
   "outputs": [],
   "source": [
    "# Please fill in your names, student numbers, netID, and emails below.\n",
    "STUDENT_1_NAME = \"\"\n",
    "STUDENT_1_STUDENT_NUMBER = \"\"\n",
    "STUDENT_1_NETID = \"\"\n",
    "STUDENT_1_EMAIL = \"\""
   ]
  },
  {
   "cell_type": "code",
   "execution_count": null,
   "id": "8ba32571",
   "metadata": {
    "deletable": false,
    "editable": false,
    "nbgrader": {
     "cell_type": "code",
     "checksum": "042927213b84aa368aa3ea72caa4cb60",
     "grade": true,
     "grade_id": "cell-9f148ec62e0de49c",
     "locked": true,
     "points": 0,
     "schema_version": 3,
     "solution": false,
     "task": false
    }
   },
   "outputs": [],
   "source": [
    "# Note: this block is a check that you have filled in the above information.\n",
    "# It will throw an AssertionError until all fields are filled\n",
    "assert STUDENT_1_NAME != \"\"\n",
    "assert STUDENT_1_STUDENT_NUMBER != \"\"\n",
    "assert STUDENT_1_NETID != \"\"\n",
    "assert STUDENT_1_EMAIL != \"\""
   ]
  },
  {
   "cell_type": "markdown",
   "id": "af317a94",
   "metadata": {
    "deletable": false,
    "editable": false,
    "nbgrader": {
     "cell_type": "markdown",
     "checksum": "95c5b11f9ac3896252d342cabb38d867",
     "grade": false,
     "grade_id": "cell-4ea391677951116c",
     "locked": true,
     "schema_version": 3,
     "solution": false,
     "task": false
    }
   },
   "source": [
    "### General announcements\n",
    "\n",
    "* Do *not* share your solutions (also after the course is finished), and do *not* copy solutions from others. By submitting your solutions, you claim that you alone are responsible for this code.\n",
    "\n",
    "* Do *not* email questions directly, since we want to provide everybody with the same information and avoid repeating the same answers. Instead, please post your questions regarding this assignment in the correct support forum on Brightspace, this way everybody can benefit from the response. If you do have a particular question that you want to ask directly, please use the scheduled Q&A hours to ask the TA.\n",
    "\n",
    "* There is a strict deadline for each assignment. Students are responsible to ensure that they have uploaded their work in time. So, please double check that your upload succeeded to the Brightspace and avoid any late penalties.\n",
    "\n",
    "* This [Jupyter notebook](https://jupyter.org/) uses `nbgrader` to help us with automated tests. `nbgrader` will make various cells in this notebook \"uneditable\" or \"unremovable\" and gives them a special id in the cell metadata. This way, when we run our checks, the system will check the existence of the cell ids and verify the number of points and which checks must be run. While there are ways that you can edit the metadata and work around the restrictions to delete or modify these special cells, you should not do that since then our nbgrader backend will not be able to parse your notebook and give you points for the assignment. You are free to add additional cells, but if you find a cell that you cannot modify or remove, please know that this is on purpose.\n",
    "\n",
    "* This notebook will have in various places a line that throws a `NotImplementedError` exception. These are locations where the assignment requires you to adapt the code! These lines are just there as a reminder for you that you have not yet adapted that particular piece of code, especially when you execute all the cells. Once your solution code replaced these lines, it should accordingly *not* throw any exceptions anymore.\n",
    "\n",
    "Before you turn this problem in, make sure everything runs as expected. First, **restart the kernel** (in the menubar, select Kernel$\\rightarrow$Restart) and then **run all cells** (in the menubar, select Cell$\\rightarrow$Run All)."
   ]
  },
  {
   "cell_type": "code",
   "execution_count": null,
   "id": "3c956945",
   "metadata": {},
   "outputs": [],
   "source": []
  },
  {
   "cell_type": "markdown",
   "metadata": {
    "deletable": false,
    "editable": false,
    "nbgrader": {
     "cell_type": "markdown",
     "checksum": "0f2856a7b8f148520441a827ff211604",
     "grade": false,
     "grade_id": "cell-545578f526c85066",
     "locked": true,
     "schema_version": 3,
     "solution": false,
     "task": false
    }
   },
   "source": [
    "# Task 3f.1 - Behaviour cloning of feedback torques as a function of the robot configuration (19p)\n",
    "**Authors:** Giovanni Franzese (G.Franzese@tudelft.nl), Lorenzo Lyons (L.Lyons@tudelft.nl), Maximilian Stölzle (M.W.Stolzle@tudelft.nl)\n",
    "\n",
    "Here, we consider a dataset consisting of robot configurations (i.e., $\\theta$) as the inputs and feedback torques (i.e., $\\tau_{fb}$) as the labels. \n",
    "We will use a GP to regress the PD feedback torques as a function of the configurations and then use the trained GP to control the robot (in conjunction with the gravity compensation feedforward term).\n",
    "Notice that we don't necessarily need to know that the dataset was collected from a PD controller; we know that the data are generated from a robot executing a certain behavior.\n",
    "\n",
    "**Important note:** By definition, this model will be only an approximation of the actual feedback torques as the real PD policy also has access to the link velocities and the full reference trajectory specifications while the GP computes its prediction solely based on the current link angles.\n"
   ]
  },
  {
   "cell_type": "code",
   "execution_count": null,
   "metadata": {
    "deletable": false,
    "editable": false,
    "nbgrader": {
     "cell_type": "code",
     "checksum": "920271b8894bfd96c0aae7f2ce02759b",
     "grade": false,
     "grade_id": "cell-a8538ac1ec5c0562",
     "locked": true,
     "schema_version": 3,
     "solution": false,
     "task": false
    }
   },
   "outputs": [],
   "source": [
    "# Reloads the python files outside of this notebook automatically\n",
    "%load_ext autoreload\n",
    "%autoreload 2\n",
    "\n",
    "# import all Python modules\n",
    "from distutils.util import strtobool\n",
    "from functools import partial\n",
    "import gpytorch\n",
    "from gpytorch.models import ApproximateGP\n",
    "from IPython.display import display, HTML  # For animations in the notebook\n",
    "from jax import config as jax_config\n",
    "\n",
    "jax_config.update(\"jax_platform_name\", \"cpu\")  # set default device to 'cpu'\n",
    "jax_config.update(\"jax_enable_x64\", True)  # double precision\n",
    "from jax import Array, random\n",
    "from jax import numpy as jnp\n",
    "from matplotlib import pyplot as plt\n",
    "import numpy as np\n",
    "import os\n",
    "import pandas as pd\n",
    "from pathlib import Path\n",
    "import sys\n",
    "import torch\n",
    "from torch.autograd.functional import jacobian\n",
    "from torch.utils.data import TensorDataset, DataLoader\n",
    "from tqdm.notebook import tqdm\n",
    "\n",
    "from jax_double_pendulum.dynamics import dynamical_matrices\n",
    "from jax_double_pendulum.motion_planning import (\n",
    "    generate_ellipse_trajectory,\n",
    "    ELLIPSE_PARAMS,\n",
    ")\n",
    "from jax_double_pendulum.robot_simulation import simulate_robot\n",
    "from jax_double_pendulum.robot_parameters import ROBOT_PARAMS\n",
    "from jax_double_pendulum.utils import normalize_link_angles\n",
    "from jax_double_pendulum.visualization import animate_robot\n",
    "\n",
    "from utils import (\n",
    "    generate_training_data,\n",
    "    plot_data,\n",
    ")\n",
    "\n",
    "# define boolean to check if the notebook is run for autograding\n",
    "AUTOGRADING = strtobool(os.environ.get(\"AUTOGRADING\", \"false\"))\n",
    "\n",
    "# define folder where to save animations and plots\n",
    "outputs_dir = Path(\"outputs\")\n",
    "outputs_dir.mkdir(parents=True, exist_ok=True)\n",
    "# define the path to the folder that contains the datasets\n",
    "datasets_dir = Path(\"datasets\")"
   ]
  },
  {
   "cell_type": "markdown",
   "metadata": {
    "deletable": false,
    "editable": false,
    "nbgrader": {
     "cell_type": "markdown",
     "checksum": "439a69305f24d77e9c31d98858fea2da",
     "grade": false,
     "grade_id": "cell-52847d83b21453dd",
     "locked": true,
     "schema_version": 3,
     "solution": false,
     "task": false
    }
   },
   "source": [
    "Import the gravity compensation feedforward controller from Task 2a.2. **Make sure that you complete Task 2a first!**"
   ]
  },
  {
   "cell_type": "code",
   "execution_count": null,
   "metadata": {
    "deletable": false,
    "editable": false,
    "nbgrader": {
     "cell_type": "code",
     "checksum": "1116105f11c3e8ffaf3a2ab8fdd94841",
     "grade": false,
     "grade_id": "cell-ec7e20a0e73c387e",
     "locked": true,
     "schema_version": 3,
     "solution": false,
     "task": false
    }
   },
   "outputs": [],
   "source": [
    "# import the feedforward gravity compensation controller from problem_2/controllers.ipynb\n",
    "sys.path.insert(0, Path.cwd().parent / \"problem_2\")\n",
    "from ipynb.fs.full.controllers import ctrl_ff_gravity_compensation\n",
    "\n",
    "# define simulation settings\n",
    "# define time steps\n",
    "sim_dt = 0.005\n",
    "sim_duration = 6.0\n",
    "t_ts = sim_dt * jnp.arange(int(sim_duration / sim_dt))\n",
    "\n",
    "# generate reference trajectory\n",
    "traj_ts = generate_ellipse_trajectory(\n",
    "    rp=ROBOT_PARAMS,\n",
    "    t_ts=t_ts,\n",
    "    **ELLIPSE_PARAMS,\n",
    ")\n",
    "\n",
    "# set the initial state to the start of the reference trajectory\n",
    "th_0 = traj_ts[\"th_ts\"][0]\n",
    "th_d_0 = traj_ts[\"th_d_ts\"][0]"
   ]
  },
  {
   "cell_type": "markdown",
   "metadata": {
    "deletable": false,
    "editable": false,
    "nbgrader": {
     "cell_type": "markdown",
     "checksum": "f2dfaed40bc34f4c5df7a9b6b138f901",
     "grade": false,
     "grade_id": "cell-9da6adddff176f84",
     "locked": true,
     "schema_version": 3,
     "solution": false,
     "task": false
    }
   },
   "source": [
    "## Task 3f.1.1 - Defining the GP model and setting up the training class (1p)"
   ]
  },
  {
   "cell_type": "markdown",
   "metadata": {
    "deletable": false,
    "editable": false,
    "nbgrader": {
     "cell_type": "markdown",
     "checksum": "c74a58e4a6ddc84aa819a0c7a0d0042f",
     "grade": false,
     "grade_id": "cell-44d59558263133fb",
     "locked": true,
     "schema_version": 3,
     "solution": false,
     "task": false
    }
   },
   "source": [
    "### Define a periodic kernel function with a period of $2 \\pi$ (0.5p)\n",
    "We work with a (double) pendulum and know that its configuration (i.e., $\\theta$) is periodic with a period of $2 \\pi$. Choosing a suitable kernel function will help the GP to model the data.\n",
    "Don't forget to add a scale kernel before the periodic kernel and have it batch-independent like in the previous notebooks."
   ]
  },
  {
   "cell_type": "markdown",
   "metadata": {
    "deletable": false,
    "editable": false,
    "nbgrader": {
     "cell_type": "markdown",
     "checksum": "6ba3b7bdba76b4635cc3441428664cea",
     "grade": false,
     "grade_id": "cell-9e276520dbb1cf7c",
     "locked": true,
     "schema_version": 3,
     "solution": false,
     "task": false
    }
   },
   "source": [
    "**Cheat sheet:**\n",
    "\n",
    "Defining a periodic kernel that is periodic with a period of 2pi:\n",
    "``` python \n",
    "PeriodicKernel(period_length_constraint=gpytorch.constraints.Interval(lower_bound=torch.tensor([2* torch.pi-0.01]), upper_bound=torch.tensor([2* torch.pi+0.01]), initial_value=torch.tensor([2* torch.pi]))) \n",
    "```\n",
    "\n",
    "Printing the hyperparameters of a periodic kernel:\n",
    "``` python\n",
    "gp.covar_module.base_kernel.period_length\n",
    "```"
   ]
  },
  {
   "cell_type": "code",
   "execution_count": null,
   "metadata": {
    "deletable": false,
    "nbgrader": {
     "cell_type": "code",
     "checksum": "b7408a278e5f5859c59df5f5fad41651",
     "grade": true,
     "grade_id": "cell-0071a64b08cc83bf",
     "locked": false,
     "points": 0.5,
     "schema_version": 3,
     "solution": true,
     "task": false
    }
   },
   "outputs": [],
   "source": [
    "class MultitaskGPModel(ApproximateGP):\n",
    "    def __init__(self, num_tasks, inducing_points):\n",
    "        variational_distribution = gpytorch.variational.CholeskyVariationalDistribution(\n",
    "            inducing_points.size(-2), batch_shape=torch.Size([num_tasks])\n",
    "        )\n",
    "\n",
    "        variational_strategy = (\n",
    "            gpytorch.variational.IndependentMultitaskVariationalStrategy(\n",
    "                gpytorch.variational.VariationalStrategy(\n",
    "                    self,\n",
    "                    inducing_points,\n",
    "                    variational_distribution,\n",
    "                    learn_inducing_locations=True,\n",
    "                ),\n",
    "                num_tasks=num_tasks,\n",
    "                task_dim=-1,\n",
    "            )\n",
    "        )\n",
    "\n",
    "        super().__init__(variational_strategy)\n",
    "\n",
    "        self.mean_module = gpytorch.means.ZeroMean(batch_shape=torch.Size([num_tasks]))\n",
    "\n",
    "        # self.covar_module = gpytorch.kernels.ScaleKernel(INSERT THE PERIODIC KERNEL HERE, batch_shape=torch.Size([num_tasks]))\n",
    "        # YOUR CODE HERE\n",
    "        raise NotImplementedError()\n",
    "\n",
    "    def forward(self, x):\n",
    "        mean_x = self.mean_module(x)\n",
    "        covar_x = self.covar_module(x)\n",
    "        return gpytorch.distributions.MultivariateNormal(mean_x, covar_x)"
   ]
  },
  {
   "cell_type": "markdown",
   "metadata": {
    "deletable": false,
    "editable": false,
    "nbgrader": {
     "cell_type": "markdown",
     "checksum": "c48624e7e3a2f4da5ab0452f0188fe2a",
     "grade": false,
     "grade_id": "cell-4fbd8c0908b925c6",
     "locked": true,
     "schema_version": 3,
     "solution": false,
     "task": false
    }
   },
   "source": [
    "### Define the GP and the likelihood inside the `ControllerModel` class (0.5p)"
   ]
  },
  {
   "cell_type": "code",
   "execution_count": null,
   "metadata": {
    "deletable": false,
    "nbgrader": {
     "cell_type": "code",
     "checksum": "400745f0a62e8d301b9136683d1ef97d",
     "grade": true,
     "grade_id": "cell-a185904ffbf1bc3b",
     "locked": false,
     "points": 0.5,
     "schema_version": 3,
     "solution": true,
     "task": false
    }
   },
   "outputs": [],
   "source": [
    "class ControllerModel:\n",
    "    def __init__(self, X, Y, n_ind=100, batch_size=256):\n",
    "        self.X = X\n",
    "        self.Y = Y\n",
    "        self.input_features = X.shape[1]\n",
    "        self.output_dim = Y.shape[1]\n",
    "        # number of inducing points\n",
    "        unique_random_indices = torch.randperm(len(X))[:n_ind]\n",
    "        inducing_points = X[unique_random_indices]\n",
    "        self.inducing_points = inducing_points\n",
    "        self.batch_size = batch_size\n",
    "        self.is_cuda = False\n",
    "        self.rmse_loss_vec = np.array([])\n",
    "\n",
    "        # self.gp =\n",
    "        # self.likelihood =\n",
    "        # YOUR CODE HERE\n",
    "        raise NotImplementedError()\n",
    "\n",
    "    def to_cuda(self):\n",
    "        if torch.cuda.is_available():\n",
    "            self.gp = self.gp.cuda()\n",
    "            self.likelihood = self.likelihood.cuda()\n",
    "            self.X = self.X.cuda()\n",
    "            self.Y = self.Y.cuda()\n",
    "            self.is_cuda = True\n",
    "        else:\n",
    "            raise EnvironmentError(\"Cuda not available\")\n",
    "\n",
    "    def predict(self, x):\n",
    "        if self.is_cuda:\n",
    "            x = x.cuda()\n",
    "        return self.likelihood(self.gp(x))\n",
    "\n",
    "    def variance(self, x):\n",
    "        predictions = self.gp(x)\n",
    "        return predictions.variance\n",
    "\n",
    "    def derivative_variance(self, x):\n",
    "        if self.is_cuda:\n",
    "            x = x.cuda()\n",
    "        jac = (\n",
    "            jacobian(self.variance, x)\n",
    "            .detach()[0]\n",
    "            .view(self.output_dim, self.input_features)\n",
    "        )  # shape: (num_outputs, num_features)\n",
    "        return jac\n",
    "\n",
    "    def train(self, num_epochs=400):\n",
    "        self.gp = self.gp.double()\n",
    "        self.likelihood = self.likelihood.double()\n",
    "        self.X = self.X.double()\n",
    "        self.Y = self.Y.double()\n",
    "        self.train_dataset = TensorDataset(self.X, self.Y)\n",
    "        self.train_loader = DataLoader(\n",
    "            self.train_dataset, batch_size=self.batch_size, shuffle=True\n",
    "        )\n",
    "        self.gp.train()\n",
    "        self.likelihood.train()\n",
    "\n",
    "        optimizer = torch.optim.Adam(\n",
    "            [\n",
    "                {\"params\": self.gp.parameters()},\n",
    "                {\"params\": self.likelihood.parameters()},\n",
    "            ],\n",
    "            lr=0.01,\n",
    "        )\n",
    "\n",
    "        # Our loss object. We're using the VariationalELBO\n",
    "        self.mll = gpytorch.mlls.VariationalELBO(\n",
    "            self.likelihood, self.gp, num_data=self.Y.size(0)\n",
    "        )\n",
    "\n",
    "        # to plot the loss function\n",
    "        self.rmse_loss_vec = np.zeros(num_epochs)\n",
    "\n",
    "        for i in tqdm(range(num_epochs)):\n",
    "            loss_sum = 0.0\n",
    "            for x_batch, y_batch in self.train_loader:\n",
    "                optimizer.zero_grad()\n",
    "                output = self.gp(x_batch)\n",
    "                loss = -self.mll(output, y_batch)\n",
    "                loss.backward()\n",
    "                optimizer.step()\n",
    "                loss_sum += loss.detach().cpu()\n",
    "            self.rmse_loss_vec[i] = (\n",
    "                torch.sqrt(loss_sum / len(self.train_loader)).detach().item()\n",
    "            )\n",
    "\n",
    "    def plot_convergence(self, filename: str):\n",
    "        fig = plt.figure()\n",
    "        ax = fig.add_subplot(111)\n",
    "        ax.plot(self.rmse_loss_vec, label=\"loss\")\n",
    "        ax.set_xlabel(\"Epochs\")\n",
    "        ax.set_ylabel(r\"Trainings RMSE for $\\hat{\\ddot{\\theta}}$ [rad/s^2]\")\n",
    "        plt.savefig(str(outputs_dir / filename))"
   ]
  },
  {
   "cell_type": "markdown",
   "metadata": {
    "deletable": false,
    "editable": false,
    "nbgrader": {
     "cell_type": "markdown",
     "checksum": "8d884d9af24c1fc71c83f53749a97a6e",
     "grade": false,
     "grade_id": "cell-4f8950a2144f16bc",
     "locked": true,
     "schema_version": 3,
     "solution": false,
     "task": false
    }
   },
   "source": [
    "## Task 3f.1.2 - Load the trajectory-following dataset (0p)\n",
    "Here, we load the dataset recorded in Task 3c.3. Namely, we extract the torques generated by the PD feedback controller when tracking the ellipse reference trajectory in conjunction with a gravity compensation feedforward term."
   ]
  },
  {
   "cell_type": "code",
   "execution_count": null,
   "metadata": {
    "deletable": false,
    "editable": false,
    "nbgrader": {
     "cell_type": "code",
     "checksum": "9b74122c6c48505dcb1c23fd6f48936d",
     "grade": false,
     "grade_id": "cell-cfb63d0fbaa329e8",
     "locked": true,
     "schema_version": 3,
     "solution": false,
     "task": false
    }
   },
   "outputs": [],
   "source": [
    "dataset_name = \"trajectory_high_gains_grav_comp\"\n",
    "df = pd.read_csv(datasets_dir / f\"{dataset_name}.csv\")\n",
    "\n",
    "input_columns = [\"th_ts_1\", \"th_ts_2_rel\"]\n",
    "output_columns = [\"tau_fb_ts_1\", \"tau_fb_ts_2\"]\n",
    "\n",
    "# plot the training data\n",
    "plot_data(\n",
    "    df,\n",
    "    input_columns,\n",
    "    output_columns,\n",
    "    filepath=str(outputs_dir / f\"task_3f-1-2_dataset_plot_{dataset_name}.pdf\"),\n",
    ")\n",
    "\n",
    "# assemble tensors for training\n",
    "X, Y = generate_training_data(df, input_columns, output_columns)"
   ]
  },
  {
   "cell_type": "markdown",
   "metadata": {
    "deletable": false,
    "editable": false,
    "nbgrader": {
     "cell_type": "markdown",
     "checksum": "0bf7618594e2d9123187c3d89c9b94a0",
     "grade": false,
     "grade_id": "cell-1d8c69b1bc07817c",
     "locked": true,
     "schema_version": 3,
     "solution": false,
     "task": false
    }
   },
   "source": [
    "## Task 3f.1.3 - Initialize the `ControllerModel` and train the GP (0.5p)"
   ]
  },
  {
   "cell_type": "code",
   "execution_count": null,
   "metadata": {
    "deletable": false,
    "nbgrader": {
     "cell_type": "code",
     "checksum": "319fbb343e509b9a96af22b922ab0701",
     "grade": true,
     "grade_id": "cell-46b955d92430ebec",
     "locked": false,
     "points": 0.5,
     "schema_version": 3,
     "solution": true,
     "task": false
    }
   },
   "outputs": [],
   "source": [
    "# set random seed\n",
    "torch.manual_seed(42)\n",
    "\n",
    "# controller_model =\n",
    "# YOUR CODE HERE\n",
    "raise NotImplementedError()\n",
    "\n",
    "# plot convergence of training loss\n",
    "controller_model.plot_convergence(\n",
    "    f\"task_3f-1-3_training_convergence_feedback_torques_configuration_input.pdf\"\n",
    ")"
   ]
  },
  {
   "cell_type": "markdown",
   "metadata": {
    "deletable": false,
    "editable": false,
    "nbgrader": {
     "cell_type": "markdown",
     "checksum": "b371561c36c5edb84dc5998044157e16",
     "grade": false,
     "grade_id": "cell-94c43c7c5c33d374",
     "locked": true,
     "schema_version": 3,
     "solution": false,
     "task": false
    }
   },
   "source": [
    "## Task 3f.1.4 - Analyse the trained GP and visualize the control policy (5p)\n",
    "### Period length of kernel (1p)\n",
    "Print the period length of the kernel and verify that it is close to $2 \\pi$."
   ]
  },
  {
   "cell_type": "code",
   "execution_count": null,
   "metadata": {
    "deletable": false,
    "nbgrader": {
     "cell_type": "code",
     "checksum": "4fbe57ac02fcb2f5718a54acf00ae2ad",
     "grade": true,
     "grade_id": "cell-6ef3030b15da1cd9",
     "locked": false,
     "points": 1,
     "schema_version": 3,
     "solution": true,
     "task": false
    }
   },
   "outputs": [],
   "source": [
    "# print(PERIOD_LENGTH_OF_KERNEL)\n",
    "# YOUR CODE HERE\n",
    "raise NotImplementedError()"
   ]
  },
  {
   "cell_type": "markdown",
   "metadata": {
    "deletable": false,
    "editable": false,
    "nbgrader": {
     "cell_type": "markdown",
     "checksum": "931b0a0dac4d7e63482898ee827c2a20",
     "grade": false,
     "grade_id": "cell-10ce51eaaa69b5f5",
     "locked": true,
     "schema_version": 3,
     "solution": false,
     "task": false
    }
   },
   "source": [
    "### Surface plot of GP-based control policy (1p)\n",
    "Visualize the predicted torque for each link as a function of the configuration."
   ]
  },
  {
   "cell_type": "code",
   "execution_count": null,
   "metadata": {
    "deletable": false,
    "nbgrader": {
     "cell_type": "code",
     "checksum": "a6122eb17f3f5830c81870ea653c2424",
     "grade": true,
     "grade_id": "cell-5077e51413fa6081",
     "locked": false,
     "points": 1,
     "schema_version": 3,
     "solution": true,
     "task": false
    }
   },
   "outputs": [],
   "source": [
    "# plot controller action as a function of inputs\n",
    "%matplotlib widget\n",
    "\n",
    "# define input ranges\n",
    "theta_1_range = np.linspace(-np.pi, np.pi, 100)\n",
    "theta_2_range = np.linspace(-np.pi, np.pi, 100)\n",
    "\n",
    "# Create a grid of input points for prediction\n",
    "theta_1_grid, theta_2_grid = np.meshgrid(theta_1_range, theta_2_range)\n",
    "\n",
    "# create input points\n",
    "input_points = np.column_stack((theta_1_grid.flatten(), theta_2_grid.flatten()))\n",
    "\n",
    "# define test inputs\n",
    "X_test = torch.tensor(input_points, dtype=torch.float32)\n",
    "# generate predictions on test inputs\n",
    "\n",
    "\n",
    "# extract torque predictions for the first and second link, respectively\n",
    "# Y_pred =\n",
    "# Y_pred_mean_grid_1 =\n",
    "# Y_pred_mean_grid_2 =\n",
    "# YOUR CODE HERE\n",
    "raise NotImplementedError()\n",
    "\n",
    "# Create a 3D surface plot\n",
    "fig = plt.figure(num=\"Configuration vs. cloned feedback torques\")\n",
    "ax = fig.add_subplot(121, projection=\"3d\")\n",
    "ax.plot_surface(theta_1_grid, theta_2_grid, Y_pred_mean_grid_1, cmap=\"viridis\")\n",
    "# Set axis labels\n",
    "ax.set_xlabel(r\"$\\theta_{\\mathrm{rel},1}$ [rad]\")\n",
    "ax.set_ylabel(r\"$\\theta_{\\mathrm{rel},2}$ [rad]\")\n",
    "ax.set_zlabel(r\"$\\tau_1$ [Nm]\")\n",
    "\n",
    "ax = fig.add_subplot(122, projection=\"3d\")\n",
    "ax.plot_surface(theta_1_grid, theta_2_grid, Y_pred_mean_grid_2, cmap=\"viridis\")\n",
    "# Set axis labels\n",
    "ax.set_xlabel(r\"$\\theta_{\\mathrm{rel},1}$ [rad]\")\n",
    "ax.set_ylabel(r\"$\\theta_{\\mathrm{rel},2}$ [rad]\")\n",
    "ax.set_zlabel(r\"$\\tau_2$ [Nm]\")\n",
    "\n",
    "# save figure\n",
    "plt.savefig(str(outputs_dir / \"task_3f-1-4_surface_plot_gp_feedback_torque_policy.pdf\"))"
   ]
  },
  {
   "cell_type": "markdown",
   "metadata": {
    "deletable": false,
    "editable": false,
    "nbgrader": {
     "cell_type": "markdown",
     "checksum": "698f129369246fe4b4eea605ae5ae235",
     "grade": false,
     "grade_id": "cell-08e83b4b664ef7e7",
     "locked": true,
     "schema_version": 3,
     "solution": false,
     "task": false
    }
   },
   "source": [
    "### Can you identify the effect of the periodic kernel in the surface plot? (2p)"
   ]
  },
  {
   "cell_type": "markdown",
   "metadata": {
    "deletable": false,
    "nbgrader": {
     "cell_type": "markdown",
     "checksum": "73caafe44b23137d18fa2162235e242d",
     "grade": true,
     "grade_id": "cell-0889e12fce8d5eeb",
     "locked": false,
     "points": 2,
     "schema_version": 3,
     "solution": true,
     "task": false
    }
   },
   "source": [
    "YOUR ANSWER HERE"
   ]
  },
  {
   "cell_type": "markdown",
   "metadata": {
    "deletable": false,
    "editable": false,
    "nbgrader": {
     "cell_type": "markdown",
     "checksum": "aa2d1b633ef833b2db50036faf33d9e7",
     "grade": false,
     "grade_id": "cell-6c286def13d729fc",
     "locked": true,
     "schema_version": 3,
     "solution": false,
     "task": false
    }
   },
   "source": [
    "### Surface plot of GP uncertainty (standard deviation)(1p)\n",
    "Visualize the predicted uncertainties for the torque on each link as a function of the configuration."
   ]
  },
  {
   "cell_type": "code",
   "execution_count": null,
   "metadata": {
    "deletable": false,
    "nbgrader": {
     "cell_type": "code",
     "checksum": "ac57767e8f78bca7b863f9d614489afb",
     "grade": true,
     "grade_id": "cell-8627fa006543ec6d",
     "locked": false,
     "points": 1,
     "schema_version": 3,
     "solution": true,
     "task": false
    }
   },
   "outputs": [],
   "source": [
    "%matplotlib widget\n",
    "# extract torque predictions for the first and second link, respectively\n",
    "# Y_pred_mean_grid_1 =\n",
    "# Y_pred_mean_grid_2 =\n",
    "# YOUR CODE HERE\n",
    "raise NotImplementedError()\n",
    "\n",
    "# Create a 3D surface plot\n",
    "fig = plt.figure(num=\"Configuration vs. uncertainty on feedback torques\")\n",
    "ax = fig.add_subplot(121, projection=\"3d\")\n",
    "ax.plot_surface(theta_1_grid, theta_2_grid, Y_pred_std_grid_1, cmap=\"viridis\")\n",
    "# Set axis labels\n",
    "ax.set_xlabel(r\"$\\theta_{\\mathrm{rel},1}$ [rad]\")\n",
    "ax.set_ylabel(r\"$\\theta_{\\mathrm{rel},2}$ [rad]\")\n",
    "ax.set_zlabel(r\"$\\tau_1$ [Nm]\")\n",
    "\n",
    "ax = fig.add_subplot(122, projection=\"3d\")\n",
    "ax.plot_surface(theta_1_grid, theta_2_grid, Y_pred_std_grid_2, cmap=\"viridis\")\n",
    "# Set axis labels\n",
    "ax.set_xlabel(r\"$\\theta_{\\mathrm{rel},1}$ [rad]\")\n",
    "ax.set_ylabel(r\"$\\theta_{\\mathrm{rel},2}$ [rad]\")\n",
    "ax.set_zlabel(r\"$\\tau_2$ [Nm]\")\n",
    "\n",
    "# save figure\n",
    "plt.savefig(\n",
    "    str(outputs_dir / \"task_3f-1-4_surface_plot_gp_feedback_torque_uncertainty.pdf\")\n",
    ")"
   ]
  },
  {
   "cell_type": "markdown",
   "metadata": {
    "deletable": false,
    "editable": false,
    "nbgrader": {
     "cell_type": "markdown",
     "checksum": "65e3251286c4c4493dc438ae004a4047",
     "grade": false,
     "grade_id": "cell-c88020e26754394f",
     "locked": true,
     "schema_version": 3,
     "solution": false,
     "task": false
    }
   },
   "source": [
    "## Task 3f.1.5 - Control the robot using the GP-based policy as the controller (3p)\n",
    "### Define the feedback control function (1p)\n",
    "Use the mean of the GP predictions as the feedback controller. Leverage gravity compensation as the feedforward term."
   ]
  },
  {
   "cell_type": "code",
   "execution_count": null,
   "metadata": {
    "deletable": false,
    "nbgrader": {
     "cell_type": "code",
     "checksum": "eb619e50cc9f35df2c7e6cc97680d980",
     "grade": true,
     "grade_id": "cell-85b65a38bceb282e",
     "locked": false,
     "points": 1,
     "schema_version": 3,
     "solution": true,
     "task": false
    }
   },
   "outputs": [],
   "source": [
    "# run the simulation with cloned PD controller\n",
    "\n",
    "# define feedforward gravity compensation controller\n",
    "ctrl_ff = partial(\n",
    "    ctrl_ff_gravity_compensation, partial(dynamical_matrices, ROBOT_PARAMS)\n",
    ")\n",
    "\n",
    "\n",
    "# define the feedback function that implements the GP-based controller\n",
    "def ctrl_fb(th: Array, th_d: Array, th_des: Array, th_d_des: Array) -> Array:\n",
    "    \"\"\"\n",
    "    Feedback controller that leverages the GP to compute the control action cloning the behavior of the PD controller\n",
    "    Args:\n",
    "        th: link angles. Shape: (2,)\n",
    "        th_d: link velocities. Shape: (2,)\n",
    "        th_des: desired link angles. Shape: (2,)\n",
    "        th_d_des: desired link velocities. Shape: (2,)\n",
    "    Returns:\n",
    "        tau_gp: link torques computed by the GP-based controller. Shape: (2,)\n",
    "    \"\"\"\n",
    "    # compute the normalized joint angles (i.e., relative angles) from the link angles\n",
    "    th_rel = normalize_link_angles(jnp.array([th[0], th[1] - th[0]]))\n",
    "\n",
    "    # construct input for GP\n",
    "    gp_input = torch.tensor(np.array(th_rel)).unsqueeze(0)\n",
    "\n",
    "    # evaluate GP output and use the mean as the controller action\n",
    "    # gp_output=\n",
    "    # tau_gp =\n",
    "    # YOUR CODE HERE\n",
    "    raise NotImplementedError()\n",
    "\n",
    "    return tau_gp\n",
    "\n",
    "\n",
    "# set the initial state to the start of the reference trajectory\n",
    "th_0 = traj_ts[\"th_ts\"][0]\n",
    "th_d_0 = traj_ts[\"th_d_ts\"][0]\n",
    "\n",
    "# simulate the robot together in closed loop with the GP-based controller\n",
    "print(\"starting simulation\")\n",
    "sim_ts = simulate_robot(\n",
    "    ROBOT_PARAMS,\n",
    "    t_ts=t_ts,\n",
    "    th_0=th_0,\n",
    "    th_d_0=th_d_0,\n",
    "    ctrl_ff=ctrl_ff,\n",
    "    ctrl_fb=ctrl_fb,\n",
    "    jit_compile=False,\n",
    ")\n",
    "print(\"finished simulation\")\n",
    "\n",
    "if not AUTOGRADING:\n",
    "    print(\"producing animation\")\n",
    "    ani = animate_robot(\n",
    "        ROBOT_PARAMS,\n",
    "        traj_ts=traj_ts,\n",
    "        sim_ts=sim_ts,\n",
    "        step_skip=5,\n",
    "        show=False,\n",
    "        filepath=str(\n",
    "            outputs_dir\n",
    "            / \"task_3f-1-5_robot_animation_behavioural_cloning_feedback_torques_configuration_input.mp4\"\n",
    "        ),\n",
    "    )\n",
    "    display(HTML(ani.to_html5_video()))"
   ]
  },
  {
   "cell_type": "markdown",
   "metadata": {
    "deletable": false,
    "editable": false,
    "nbgrader": {
     "cell_type": "markdown",
     "checksum": "b0efb4fe9afdda9cfb4bdcbec5256839",
     "grade": false,
     "grade_id": "cell-d6ba7f815dca4773",
     "locked": true,
     "schema_version": 3,
     "solution": false,
     "task": false
    }
   },
   "source": [
    "### Discuss the behavior of the closed-loop system (2p)\n",
    "The actual trajectory will quickly diverge from the reference trajectory. Why?"
   ]
  },
  {
   "cell_type": "markdown",
   "metadata": {
    "deletable": false,
    "nbgrader": {
     "cell_type": "markdown",
     "checksum": "5e194d7a5b0ce12031de9068b1cf6494",
     "grade": true,
     "grade_id": "cell-3524472557223cf2",
     "locked": false,
     "points": 2,
     "schema_version": 3,
     "solution": true,
     "task": false
    }
   },
   "source": [
    "YOUR ANSWER HERE"
   ]
  },
  {
   "cell_type": "markdown",
   "metadata": {
    "deletable": false,
    "editable": false,
    "nbgrader": {
     "cell_type": "markdown",
     "checksum": "4907dd5bc7d0ff96e8e71ecd805c30e5",
     "grade": false,
     "grade_id": "cell-15d50386cd80809b",
     "locked": true,
     "schema_version": 3,
     "solution": false,
     "task": false
    }
   },
   "source": [
    "## Task 3f.1.6 - Control the robot using the GP-based policy as the feedback controller while penalizing uncertainty (9.5p)\n",
    "\n",
    "### Tutorial on uncertainty derivation (0p)"
   ]
  },
  {
   "cell_type": "code",
   "execution_count": null,
   "metadata": {
    "deletable": false,
    "editable": false,
    "nbgrader": {
     "cell_type": "code",
     "checksum": "b5c0fdabfefc95160fe33bd80d5da527",
     "grade": false,
     "grade_id": "cell-6d55a469566bc8e8",
     "locked": true,
     "schema_version": 3,
     "solution": false,
     "task": false
    }
   },
   "outputs": [],
   "source": [
    "gp_input = torch.zeros(1, 2).unsqueeze(0)\n",
    "mean = controller_model.predict(gp_input).mean\n",
    "print(\"Mean\", mean)\n",
    "variance = controller_model.predict(gp_input).variance\n",
    "print(\"Variance\", variance)\n",
    "Jac = controller_model.derivative_variance(gp_input)\n",
    "print(\"Jacobian\", Jac)"
   ]
  },
  {
   "cell_type": "markdown",
   "metadata": {
    "deletable": false,
    "editable": false,
    "nbgrader": {
     "cell_type": "markdown",
     "checksum": "bec61625847df8af00a49feb3d2caa4d",
     "grade": false,
     "grade_id": "cell-c3dc9c3aac86f8d1",
     "locked": true,
     "schema_version": 3,
     "solution": false,
     "task": false
    }
   },
   "source": [
    "As you can see, the derivative of the variance is a matrix of dimension num_output x num_input. This is because the GP predicts `num_output` uncertainties, one for each output dimension. We have two output dimensions in our case, so the matrix is 2xnum_input. Hence, we can define it as: \n",
    "$$ J= \n",
    "\\begin{bmatrix}\n",
    "\\frac{\\partial \\sigma_{\\tau_1}}{\\partial q_1} & \\frac{\\partial \\sigma_{\\tau_1}}{\\partial q_2} \\\\\n",
    "\\frac{\\partial \\sigma_{\\tau_2}}{\\partial q_1} & \\frac{\\partial \\sigma_{\\tau_2}}{\\partial q_2}\\\\\n",
    "\\end{bmatrix} = \n",
    "\\begin{bmatrix}\n",
    "    \\nabla \\sigma_{\\tau_1} \\\\\n",
    "    \\nabla \\sigma_{\\tau_2} \\\\\n",
    "\\end{bmatrix}$$\n",
    "\n",
    "### Define the feedback control function that includes a variance minimization term (5p)\n",
    "\n",
    "In order to increase the performance of the learned control behavior, we will add another force field that pushes in the direction of minimizing the predicted epistemic uncertainty, i.e., the variance of the GP prediction. We also add a small dissipation term.\n",
    "\n",
    "For this, you need to:\n",
    "\n",
    "1. Extract the mean and standard deviation of the GP predictions\n",
    "2. Compute the gradient of the variance of the GP prediction with respect to the input $\\nabla \\sigma_\\mathrm{GP}$ (check the `ControllerModel` class to pick the right method; do not implement it yourself).\n",
    "3. Implement the control law that repels the system away from uncertainty. It should take the form $\\tau_{\\mathrm{var,repell}} = - k_\\mathrm{var} \\: \\sigma_\\mathrm{GP} \\: \\mathrm{sign}(\\nabla \\sigma_\\mathrm{GP})$.\n",
    "5. Tune the proportional gain that multiplies the gradient term, i.e., `k_var`. \n",
    "\n",
    "Please refer to the tutorial on uncertainty derivation above. Since both the uncertainties will decrease in the same direction and we are only interested in the sign of the gradient, in the next code, you can simply select the first or the second row of the Jacobian matrix."
   ]
  },
  {
   "cell_type": "code",
   "execution_count": null,
   "metadata": {
    "deletable": false,
    "nbgrader": {
     "cell_type": "code",
     "checksum": "ff7dee21a45bb1cbefd51338e8034991",
     "grade": true,
     "grade_id": "cell-e43d4e9e7619d1fc",
     "locked": false,
     "points": 5,
     "schema_version": 3,
     "solution": true,
     "task": false
    }
   },
   "outputs": [],
   "source": [
    "# simulate with the cloned PD controller, including a variance-repelling term\n",
    "\n",
    "# define feedforward gravity compensation controller\n",
    "ctrl_ff = partial(\n",
    "    ctrl_ff_gravity_compensation, partial(dynamical_matrices, ROBOT_PARAMS)\n",
    ")\n",
    "\n",
    "\n",
    "# define the feedback function that implements the GP-based controller\n",
    "def ctrl_fb(th: Array, th_d: Array, th_des: Array, th_d_des: Array) -> Array:\n",
    "    \"\"\"\n",
    "    Feedback controller that leverages the GP to compute the control action cloning the behavior of the PD controller\n",
    "    Args:\n",
    "        th: link angles. Shape: (2,)\n",
    "        th_d: link velocities. Shape: (2,)\n",
    "        th_des: desired link angles. Shape: (2,)\n",
    "        th_d_des: desired link velocities. Shape: (2,)\n",
    "    Returns:\n",
    "        tau_fb: link torques computed by the GP-based feedback controller. Shape: (2,)\n",
    "    \"\"\"\n",
    "    # compute the normalized joint angles (i.e., relative angles) from the link angles\n",
    "    th_rel = normalize_link_angles(jnp.array([th[0], th[1] - th[0]]))\n",
    "\n",
    "    # construct input for GP\n",
    "    gp_input = torch.tensor(np.array(th_rel)).unsqueeze(0)\n",
    "\n",
    "    # perform the prediction with the GP\n",
    "    # gp_output =\n",
    "    # tau_gp_mean =\n",
    "    # tau_gp_sigma =\n",
    "    # YOUR CODE HERE\n",
    "    raise NotImplementedError()\n",
    "\n",
    "    # derive the gradient of the variance\n",
    "    # grad_gp_var =\n",
    "    # YOUR CODE HERE\n",
    "    raise NotImplementedError()\n",
    "\n",
    "    # implement the control policy component that repels the system away from uncertainty\n",
    "    # proportional to k_var, tau_gp_sigma, and grad_gp_var\n",
    "    # k_var =\n",
    "    # tau_var_repel =\n",
    "    # Hint: k_var should be in the range [0, 20]\n",
    "    # YOUR CODE HERE\n",
    "    raise NotImplementedError()\n",
    "\n",
    "    # compute the total feedback torque\n",
    "    tau_fb = tau_gp_mean + tau_var_repel\n",
    "\n",
    "    return tau_fb\n",
    "\n",
    "\n",
    "# simulate the robot together in a closed loop with the GP-based controller\n",
    "print(\"starting simulation\")\n",
    "sim_ts = simulate_robot(\n",
    "    ROBOT_PARAMS,\n",
    "    t_ts=t_ts,\n",
    "    th_0=th_0,\n",
    "    th_d_0=th_d_0,\n",
    "    ctrl_ff=ctrl_ff,\n",
    "    ctrl_fb=ctrl_fb,\n",
    "    jit_compile=False,\n",
    ")\n",
    "print(\"finished simulation\")\n",
    "\n",
    "if not AUTOGRADING:\n",
    "    print(\"producing animation\")\n",
    "    ani = animate_robot(\n",
    "        ROBOT_PARAMS,\n",
    "        traj_ts=traj_ts,\n",
    "        sim_ts=sim_ts,\n",
    "        step_skip=5,\n",
    "        show=False,\n",
    "        filepath=str(\n",
    "            outputs_dir\n",
    "            / \"task_3f-1-6_robot_animation_behavioural_cloning_feedback_torques_variance_minimization.mp4\"\n",
    "        ),\n",
    "    )\n",
    "    display(HTML(ani.to_html5_video()))"
   ]
  },
  {
   "cell_type": "markdown",
   "metadata": {
    "deletable": false,
    "editable": false,
    "nbgrader": {
     "cell_type": "markdown",
     "checksum": "c5d60a7b1db0fbeac5979ebc7060bb85",
     "grade": false,
     "grade_id": "cell-0d32c880f4a7540c",
     "locked": true,
     "schema_version": 3,
     "solution": false,
     "task": false
    }
   },
   "source": [
    "### Discuss the behavior of the closed-loop system (2p)\n",
    "It looks like the performance improved a lot. Why? Explain! You can also use plots to motivate your theory. Feel free also to change the control parameters to validate your reasoning."
   ]
  },
  {
   "cell_type": "markdown",
   "metadata": {
    "deletable": false,
    "nbgrader": {
     "cell_type": "markdown",
     "checksum": "1121aa1a83f05a316f3e0c80c5671c82",
     "grade": true,
     "grade_id": "cell-afb7f27a57daec86",
     "locked": false,
     "points": 2,
     "schema_version": 3,
     "solution": true,
     "task": false
    }
   },
   "source": [
    "YOUR ANSWER HERE"
   ]
  },
  {
   "cell_type": "markdown",
   "metadata": {
    "deletable": false,
    "editable": false,
    "nbgrader": {
     "cell_type": "markdown",
     "checksum": "a6b96d3e7894377ebd2e018607835a1f",
     "grade": false,
     "grade_id": "cell-d2a21fc80f6d55ee",
     "locked": true,
     "schema_version": 3,
     "solution": false,
     "task": false
    }
   },
   "source": [
    "### Simulating the closed-loop system with perturbed initial conditions (0p)"
   ]
  },
  {
   "cell_type": "code",
   "execution_count": null,
   "metadata": {
    "deletable": false,
    "editable": false,
    "nbgrader": {
     "cell_type": "code",
     "checksum": "0176ae3d98351fe1203cf9b1d9514830",
     "grade": false,
     "grade_id": "cell-135b592ce2a2e0b9",
     "locked": true,
     "schema_version": 3,
     "solution": false,
     "task": false
    }
   },
   "outputs": [],
   "source": [
    "# initialize PRNG key\n",
    "rng = random.PRNGKey(seed=0)\n",
    "\n",
    "# sample perturbation and define initial condition\n",
    "rng, rng_sampling = random.split(rng, 2)\n",
    "perturb = random.normal(rng_sampling, (4,))\n",
    "th_0 = traj_ts[\"th_ts\"][0] + 0.1 * perturb[:2]\n",
    "th_d_0 = traj_ts[\"th_d_ts\"][0] * 0.5 * perturb[-2:]\n",
    "\n",
    "# simulate the robot together in a closed loop with the GP-based controller\n",
    "print(\"starting simulation\")\n",
    "sim_ts = simulate_robot(\n",
    "    ROBOT_PARAMS,\n",
    "    t_ts=t_ts,\n",
    "    th_0=th_0,\n",
    "    th_d_0=th_d_0,\n",
    "    ctrl_ff=ctrl_ff,\n",
    "    ctrl_fb=ctrl_fb,\n",
    "    jit_compile=False,\n",
    ")\n",
    "print(\"finished simulation\")\n",
    "\n",
    "if not AUTOGRADING:\n",
    "    print(\"producing animation\")\n",
    "    ani = animate_robot(\n",
    "        ROBOT_PARAMS,\n",
    "        traj_ts=traj_ts,\n",
    "        sim_ts=sim_ts,\n",
    "        step_skip=5,\n",
    "        show=False,\n",
    "        filepath=str(\n",
    "            outputs_dir\n",
    "            / \"task_3f-1-6_robot_animation_behavioural_cloning_feedback_torques_variance_minimization_configuration_input_perturbed_initial_condition.mp4\"\n",
    "        ),\n",
    "    )\n",
    "    display(HTML(ani.to_html5_video()))"
   ]
  },
  {
   "cell_type": "markdown",
   "metadata": {
    "deletable": false,
    "editable": false,
    "nbgrader": {
     "cell_type": "markdown",
     "checksum": "69537c42cfcd754cd8d965e881e6234b",
     "grade": false,
     "grade_id": "cell-6c96bdf28b6b36e0",
     "locked": true,
     "schema_version": 3,
     "solution": false,
     "task": false
    }
   },
   "source": [
    "### Discuss the behavior of the perturbed closed-loop system (2.5p)\n",
    "It looks like that by changing the initial condition, the performance is corrupted. Why? Explain! You can also use plots to motivate your theory. Feel free also to change the control parameters to validate your reasoning."
   ]
  },
  {
   "cell_type": "markdown",
   "metadata": {
    "deletable": false,
    "nbgrader": {
     "cell_type": "markdown",
     "checksum": "1d975887cf2f05ec207a207554cc5f83",
     "grade": true,
     "grade_id": "cell-9774dd9033f1bb1a",
     "locked": false,
     "points": 2.5,
     "schema_version": 3,
     "solution": true,
     "task": false
    }
   },
   "source": [
    "YOUR ANSWER HERE"
   ]
  }
 ],
 "metadata": {
  "kernelspec": {
   "display_name": "Python 3 (ipykernel)",
   "language": "python",
   "name": "python3"
  },
  "language_info": {
   "codemirror_mode": {
    "name": "ipython",
    "version": 3
   },
   "file_extension": ".py",
   "mimetype": "text/x-python",
   "name": "python",
   "nbconvert_exporter": "python",
   "pygments_lexer": "ipython3",
   "version": "3.11.7"
  }
 },
 "nbformat": 4,
 "nbformat_minor": 4
}
