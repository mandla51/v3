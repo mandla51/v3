{
 "cells": [
  {
   "cell_type": "markdown",
   "id": "ac408b5e",
   "metadata": {
    "deletable": false,
    "editable": false,
    "nbgrader": {
     "cell_type": "markdown",
     "checksum": "7619294def77410a539e618e2428f0d5",
     "grade": false,
     "grade_id": "cell-b00828259c8e42e8",
     "locked": true,
     "schema_version": 3,
     "solution": false,
     "task": false
    }
   },
   "source": [
    "# RO47019: Intelligent Control Systems Practical Assignment\n",
    "* Period: 2023-2024, Q3\n",
    "* Course homepage: https://brightspace.tudelft.nl/d2l/home/500969\n",
    "* Instructor: Cosimo Della Santina (C.DellaSantina@tudelft.nl)\n",
    "* Teaching assistant: Maria de Neves de Fonseca (M.deNevesdeFonseca-1@student.tudelft.nl)\n",
    "* (c) TU Delft, 2024\n",
    "\n",
    "Make sure you fill in any place that says `YOUR CODE HERE` or `YOUR ANSWER HERE`. Remove `raise NotImplementedError()` afterwards. Moreover, if you see an empty cell, please DO NOT delete it, instead run that cell as you would run all other cells. Please fill in your name(s) and other required details below:"
   ]
  },
  {
   "cell_type": "code",
   "execution_count": null,
   "id": "4f9e220c",
   "metadata": {},
   "outputs": [],
   "source": [
    "# Please fill in your names, student numbers, netID, and emails below.\n",
    "STUDENT_1_NAME = \"\"\n",
    "STUDENT_1_STUDENT_NUMBER = \"\"\n",
    "STUDENT_1_NETID = \"\"\n",
    "STUDENT_1_EMAIL = \"\""
   ]
  },
  {
   "cell_type": "code",
   "execution_count": null,
   "id": "8ba32571",
   "metadata": {
    "deletable": false,
    "editable": false,
    "nbgrader": {
     "cell_type": "code",
     "checksum": "042927213b84aa368aa3ea72caa4cb60",
     "grade": true,
     "grade_id": "cell-9f148ec62e0de49c",
     "locked": true,
     "points": 0,
     "schema_version": 3,
     "solution": false,
     "task": false
    }
   },
   "outputs": [],
   "source": [
    "# Note: this block is a check that you have filled in the above information.\n",
    "# It will throw an AssertionError until all fields are filled\n",
    "assert STUDENT_1_NAME != \"\"\n",
    "assert STUDENT_1_STUDENT_NUMBER != \"\"\n",
    "assert STUDENT_1_NETID != \"\"\n",
    "assert STUDENT_1_EMAIL != \"\""
   ]
  },
  {
   "cell_type": "markdown",
   "id": "af317a94",
   "metadata": {
    "deletable": false,
    "editable": false,
    "nbgrader": {
     "cell_type": "markdown",
     "checksum": "95c5b11f9ac3896252d342cabb38d867",
     "grade": false,
     "grade_id": "cell-4ea391677951116c",
     "locked": true,
     "schema_version": 3,
     "solution": false,
     "task": false
    }
   },
   "source": [
    "### General announcements\n",
    "\n",
    "* Do *not* share your solutions (also after the course is finished), and do *not* copy solutions from others. By submitting your solutions, you claim that you alone are responsible for this code.\n",
    "\n",
    "* Do *not* email questions directly, since we want to provide everybody with the same information and avoid repeating the same answers. Instead, please post your questions regarding this assignment in the correct support forum on Brightspace, this way everybody can benefit from the response. If you do have a particular question that you want to ask directly, please use the scheduled Q&A hours to ask the TA.\n",
    "\n",
    "* There is a strict deadline for each assignment. Students are responsible to ensure that they have uploaded their work in time. So, please double check that your upload succeeded to the Brightspace and avoid any late penalties.\n",
    "\n",
    "* This [Jupyter notebook](https://jupyter.org/) uses `nbgrader` to help us with automated tests. `nbgrader` will make various cells in this notebook \"uneditable\" or \"unremovable\" and gives them a special id in the cell metadata. This way, when we run our checks, the system will check the existence of the cell ids and verify the number of points and which checks must be run. While there are ways that you can edit the metadata and work around the restrictions to delete or modify these special cells, you should not do that since then our nbgrader backend will not be able to parse your notebook and give you points for the assignment. You are free to add additional cells, but if you find a cell that you cannot modify or remove, please know that this is on purpose.\n",
    "\n",
    "* This notebook will have in various places a line that throws a `NotImplementedError` exception. These are locations where the assignment requires you to adapt the code! These lines are just there as a reminder for you that you have not yet adapted that particular piece of code, especially when you execute all the cells. Once your solution code replaced these lines, it should accordingly *not* throw any exceptions anymore.\n",
    "\n",
    "Before you turn this problem in, make sure everything runs as expected. First, **restart the kernel** (in the menubar, select Kernel$\\rightarrow$Restart) and then **run all cells** (in the menubar, select Cell$\\rightarrow$Run All)."
   ]
  },
  {
   "cell_type": "code",
   "execution_count": null,
   "id": "3c956945",
   "metadata": {},
   "outputs": [],
   "source": []
  },
  {
   "cell_type": "markdown",
   "metadata": {
    "deletable": false,
    "editable": false,
    "nbgrader": {
     "cell_type": "markdown",
     "checksum": "ff00fbe762a5a5720204f3a5365a913b",
     "grade": false,
     "grade_id": "cell-f44afc58a646083f",
     "locked": true,
     "schema_version": 3,
     "solution": false,
     "task": false
    }
   },
   "source": [
    "# Task 3c - Generation of dataset with a simulated two-link robot (0p)\n",
    "**Authors:** Giovanni Franzese (G.Franzese@tudelft.nl), Lorenzo Lyons (L.Lyons@tudelft.nl), Maximilian Stölzle (M.W.Stolzle@tudelft.nl)"
   ]
  },
  {
   "cell_type": "code",
   "execution_count": null,
   "metadata": {
    "deletable": false,
    "editable": false,
    "nbgrader": {
     "cell_type": "code",
     "checksum": "c2a47e675e1deb30af60ef4d3a78064c",
     "grade": false,
     "grade_id": "cell-629348a28cf21a51",
     "locked": true,
     "schema_version": 3,
     "solution": false,
     "task": false
    }
   },
   "outputs": [],
   "source": [
    "# Reloads the python files outside of this notebook automatically\n",
    "%load_ext autoreload\n",
    "%autoreload 2\n",
    "\n",
    "# import all Python modules\n",
    "from distutils.util import strtobool\n",
    "from functools import partial\n",
    "from IPython.display import display, HTML  # For animations in the notebook\n",
    "from jax import config as jax_config\n",
    "\n",
    "jax_config.update(\"jax_platform_name\", \"cpu\")  # set default device to 'cpu'\n",
    "jax_config.update(\"jax_enable_x64\", True)  # double precision\n",
    "from jax import numpy as jnp\n",
    "from pathlib import Path\n",
    "\n",
    "from jax_double_pendulum.analysis import *\n",
    "from jax_double_pendulum.dynamics import dynamical_matrices\n",
    "from jax_double_pendulum.motion_planning import (\n",
    "    generate_ellipse_trajectory,\n",
    "    ELLIPSE_PARAMS,\n",
    ")\n",
    "from jax_double_pendulum.robot_parameters import ROBOT_PARAMS\n",
    "from jax_double_pendulum.robot_simulation import simulate_robot\n",
    "from jax_double_pendulum.visualization import animate_robot\n",
    "import numpy as np\n",
    "import os\n",
    "import pandas as pd\n",
    "import sys\n",
    "from utils import process_data, split_2d_columns\n",
    "\n",
    "# define boolean to check if the notebook is run for the purposes of autograding\n",
    "AUTOGRADING = strtobool(os.environ.get(\"AUTOGRADING\", \"false\"))\n",
    "\n",
    "# define folder where to save animations and plots\n",
    "outputs_dir = Path(\"outputs\")\n",
    "outputs_dir.mkdir(parents=True, exist_ok=True)\n",
    "# define path to datasets\n",
    "datasets_dir = Path(\"datasets\")\n",
    "datasets_dir.mkdir(parents=True, exist_ok=True)"
   ]
  },
  {
   "cell_type": "markdown",
   "metadata": {
    "deletable": false,
    "editable": false,
    "nbgrader": {
     "cell_type": "markdown",
     "checksum": "93e0b2f13dddd62d5c134d24f88d4b1f",
     "grade": false,
     "grade_id": "cell-d35e95ad0e9edacf",
     "locked": true,
     "schema_version": 3,
     "solution": false,
     "task": false
    }
   },
   "source": [
    "Import the PD feedback and the gravity compensation feedforward controller from Task 2a. **Make sure that you complete Task 2a.1 and 2a.2 first!**"
   ]
  },
  {
   "cell_type": "code",
   "execution_count": null,
   "metadata": {
    "deletable": false,
    "editable": false,
    "nbgrader": {
     "cell_type": "code",
     "checksum": "f6a0d3c693bdf611c5e15cff4028fc5d",
     "grade": false,
     "grade_id": "cell-35f41bcb26de4167",
     "locked": true,
     "schema_version": 3,
     "solution": false,
     "task": false
    }
   },
   "outputs": [],
   "source": [
    "# import feedback and feedforward controller from problem_2/controllers.ipynb\n",
    "sys.path.insert(0, Path.cwd().parent / \"problem_2\")\n",
    "from ipynb.fs.full.controllers import (\n",
    "    ctrl_fb_pd,\n",
    "    ctrl_fb_pd_rel,\n",
    "    ctrl_ff_gravity_compensation,\n",
    ")"
   ]
  },
  {
   "cell_type": "markdown",
   "metadata": {
    "deletable": false,
    "editable": false,
    "nbgrader": {
     "cell_type": "markdown",
     "checksum": "d8bc7767fc4e214c33523391644e04af",
     "grade": false,
     "grade_id": "cell-fa5b6d4d3a3a5251",
     "locked": true,
     "schema_version": 3,
     "solution": false,
     "task": false
    }
   },
   "source": [
    "## Task 3c.1 - Dataset based on autonomous double pendulum initialized in downward position (0p)"
   ]
  },
  {
   "cell_type": "code",
   "execution_count": null,
   "metadata": {
    "deletable": false,
    "editable": false,
    "nbgrader": {
     "cell_type": "code",
     "checksum": "b18534de6d7a15f69791e0ea175ea6e3",
     "grade": false,
     "grade_id": "cell-5acd131318758461",
     "locked": true,
     "schema_version": 3,
     "solution": false,
     "task": false
    }
   },
   "outputs": [],
   "source": [
    "# file name to save the data\n",
    "dataset_name = \"trajectory_zero_gains_small_osc\"\n",
    "\n",
    "# simulation parameters\n",
    "sim_duration = 15.0  # [s]\n",
    "sim_dt = 1e-2  # [s]\n",
    "\n",
    "# define time steps\n",
    "t_ts = sim_dt * jnp.arange(int(sim_duration / sim_dt))\n",
    "\n",
    "# initial state\n",
    "th_0 = jnp.array([-jnp.pi / 2 + 0.1, -jnp.pi / 2 + 0.1])\n",
    "th_d_0 = jnp.array([0.0, 0.0])\n",
    "\n",
    "sim_ts = simulate_robot(\n",
    "    rp=ROBOT_PARAMS,\n",
    "    t_ts=t_ts,\n",
    "    th_0=th_0,\n",
    "    th_d_0=th_d_0,\n",
    ")\n",
    "\n",
    "# save the trajectory\n",
    "# NOTE: we need to split the 2-column arrays in order to build a pandas data frame object\n",
    "sim_ts_split_columns = split_2d_columns(sim_ts)\n",
    "\n",
    "# convert data to a pandas dataframe\n",
    "df = pd.DataFrame(sim_ts_split_columns)\n",
    "\n",
    "# process the raw data\n",
    "df = process_data(df)\n",
    "\n",
    "# save the data\n",
    "df.to_csv(datasets_dir / f\"{dataset_name}.csv\")\n",
    "\n",
    "# produce robot animation\n",
    "if not AUTOGRADING:\n",
    "    print(\"producing animation\")\n",
    "    ani = animate_robot(\n",
    "        ROBOT_PARAMS,\n",
    "        sim_ts=sim_ts,\n",
    "        step_skip=10,\n",
    "        show=False,\n",
    "        filepath=str(outputs_dir / f\"task_3c-1_robot_animation_{dataset_name}.mp4\"),\n",
    "    )\n",
    "    display(HTML(ani.to_html5_video()))"
   ]
  },
  {
   "cell_type": "markdown",
   "metadata": {
    "deletable": false,
    "editable": false,
    "nbgrader": {
     "cell_type": "markdown",
     "checksum": "40e05a14672d65157118750afa8ba683",
     "grade": false,
     "grade_id": "cell-82856a70ed6a5952",
     "locked": true,
     "schema_version": 3,
     "solution": false,
     "task": false
    }
   },
   "source": [
    "## Task 3c.2 - Dataset based on autonomous double pendulum initialized in upward position (0p)"
   ]
  },
  {
   "cell_type": "code",
   "execution_count": null,
   "metadata": {
    "deletable": false,
    "editable": false,
    "nbgrader": {
     "cell_type": "code",
     "checksum": "af97b08ac59af43c72dd92bda74f4f0b",
     "grade": false,
     "grade_id": "cell-99bfbb604ceaeb64",
     "locked": true,
     "schema_version": 3,
     "solution": false,
     "task": false
    }
   },
   "outputs": [],
   "source": [
    "# file name to save the data\n",
    "dataset_name = \"trajectory_zero_gains_big_osc\"\n",
    "\n",
    "# simulation parameters\n",
    "sim_duration = 50.0  # [s]\n",
    "sim_dt = 1e-2  # [s]\n",
    "\n",
    "# define time steps\n",
    "t_ts = sim_dt * jnp.arange(int(sim_duration / sim_dt))\n",
    "\n",
    "# initial state\n",
    "th_0 = jnp.array([+0.5 * jnp.pi + 0.1, +0.5 * jnp.pi - 0.1])\n",
    "th_d_0 = jnp.array([0.0, 0.0])\n",
    "\n",
    "sim_ts = simulate_robot(\n",
    "    rp=ROBOT_PARAMS,\n",
    "    t_ts=t_ts,\n",
    "    th_0=th_0,\n",
    "    th_d_0=th_d_0,\n",
    ")\n",
    "\n",
    "# save the trajectory\n",
    "# NOTE: we need to split the 2-column arrays in order to build a pandas data frame object\n",
    "sim_ts_split_columns = split_2d_columns(sim_ts)\n",
    "\n",
    "# convert data to a pandas dataframe\n",
    "df = pd.DataFrame(sim_ts_split_columns)\n",
    "\n",
    "# process the raw data\n",
    "df = process_data(df)\n",
    "\n",
    "# save the data\n",
    "df.to_csv(datasets_dir / f\"{dataset_name}.csv\")\n",
    "\n",
    "# produce robot animation\n",
    "if not AUTOGRADING:\n",
    "    print(\"producing animation\")\n",
    "    ani = animate_robot(\n",
    "        ROBOT_PARAMS,\n",
    "        sim_ts=sim_ts,\n",
    "        step_skip=25,\n",
    "        show=False,\n",
    "        filepath=str(outputs_dir / f\"task_3c-2_robot_animation_{dataset_name}.mp4\"),\n",
    "    )\n",
    "    display(HTML(ani.to_html5_video()))"
   ]
  },
  {
   "cell_type": "markdown",
   "metadata": {
    "deletable": false,
    "editable": false,
    "nbgrader": {
     "cell_type": "markdown",
     "checksum": "fe083745fecf7b56c88f782cf0f4e8ab",
     "grade": false,
     "grade_id": "cell-0c43decd70db9f63",
     "locked": true,
     "schema_version": 3,
     "solution": false,
     "task": false
    }
   },
   "source": [
    "## Task 3c.3 - Dataset based on following a trajectory with high PD gains and with gravity compensation (0p)"
   ]
  },
  {
   "cell_type": "code",
   "execution_count": null,
   "metadata": {
    "deletable": false,
    "editable": false,
    "nbgrader": {
     "cell_type": "code",
     "checksum": "4bf84daf77819581cc348c659fe5e823",
     "grade": false,
     "grade_id": "cell-d962fb477f797f55",
     "locked": true,
     "schema_version": 3,
     "solution": false,
     "task": false
    }
   },
   "outputs": [],
   "source": [
    "# file name to save the data\n",
    "dataset_name = \"trajectory_high_gains_grav_comp\"\n",
    "\n",
    "# simulation parameters\n",
    "sim_duration = 15.0  # [s]\n",
    "sim_dt = 1e-2  # [s]\n",
    "\n",
    "# define time steps\n",
    "t_ts = sim_dt * jnp.arange(int(sim_duration / sim_dt))\n",
    "\n",
    "# generate reference trajectory\n",
    "traj_ts = generate_ellipse_trajectory(\n",
    "    rp=ROBOT_PARAMS,\n",
    "    t_ts=t_ts,\n",
    "    **ELLIPSE_PARAMS,\n",
    ")\n",
    "\n",
    "# set parameters according to the selected scenario\n",
    "# fb controller parameters\n",
    "kp = 2000 * jnp.eye(2)  # [Nm/rad]    1000\n",
    "kd = 100 * jnp.eye(2)  # [Nm s/rad]  400\n",
    "\n",
    "# initialize controllers\n",
    "ctrl_ff = partial(\n",
    "    ctrl_ff_gravity_compensation, partial(dynamical_matrices, ROBOT_PARAMS)\n",
    ")\n",
    "ctrl_fb = partial(ctrl_fb_pd_rel, kp=kp, kd=kd)\n",
    "\n",
    "# initial state\n",
    "th_0 = traj_ts[\"th_ts\"][0]\n",
    "th_d_0 = traj_ts[\"th_d_ts\"][0]\n",
    "\n",
    "sim_ts = simulate_robot(\n",
    "    rp=ROBOT_PARAMS,\n",
    "    t_ts=t_ts,\n",
    "    th_0=th_0,\n",
    "    th_d_0=th_d_0,\n",
    "    th_des_ts=traj_ts[\"th_ts\"],\n",
    "    th_d_des_ts=traj_ts[\"th_d_ts\"],\n",
    "    th_dd_des_ts=traj_ts[\"th_dd_ts\"],\n",
    "    ctrl_ff=ctrl_ff,\n",
    "    ctrl_fb=ctrl_fb,\n",
    ")\n",
    "\n",
    "# save the trajectory\n",
    "# NOTE: we need to split the 2-column arrays in order to build a pandas data frame object\n",
    "sim_ts_split_columns = split_2d_columns(sim_ts)\n",
    "\n",
    "# add information about the reference trajectory\n",
    "traj_ts_split_columns = split_2d_columns(traj_ts)\n",
    "\n",
    "# convert data to a pandas dataframe\n",
    "df = pd.DataFrame(sim_ts_split_columns)\n",
    "df_reference_traj = pd.DataFrame(traj_ts_split_columns)\n",
    "\n",
    "# add reference theta and theta dot to data\n",
    "df[\"ref_th_d_1\"] = df_reference_traj[\"th_d_ts_1\"]\n",
    "df[\"ref_th_d_2\"] = df_reference_traj[\"th_d_ts_2\"]\n",
    "df[\"ref_th_1\"] = df_reference_traj[\"th_ts_1\"]\n",
    "df[\"ref_th_2\"] = df_reference_traj[\"th_ts_2\"]\n",
    "\n",
    "# process the raw data\n",
    "df = process_data(df)\n",
    "\n",
    "# save the data\n",
    "df.to_csv(datasets_dir / f\"{dataset_name}.csv\")\n",
    "\n",
    "# produce robot animation\n",
    "if not AUTOGRADING:\n",
    "    print(\"producing animation\")\n",
    "    ani = animate_robot(\n",
    "        ROBOT_PARAMS,\n",
    "        traj_ts=traj_ts,\n",
    "        sim_ts=sim_ts,\n",
    "        step_skip=10,\n",
    "        show=False,\n",
    "        filepath=str(outputs_dir / f\"task_3c-3_robot_animation_{dataset_name}.mp4\"),\n",
    "    )\n",
    "    display(HTML(ani.to_html5_video()))"
   ]
  },
  {
   "cell_type": "code",
   "execution_count": null,
   "metadata": {},
   "outputs": [],
   "source": []
  }
 ],
 "metadata": {
  "kernelspec": {
   "display_name": "Python 3 (ipykernel)",
   "language": "python",
   "name": "python3"
  },
  "language_info": {
   "codemirror_mode": {
    "name": "ipython",
    "version": 3
   },
   "file_extension": ".py",
   "mimetype": "text/x-python",
   "name": "python",
   "nbconvert_exporter": "python",
   "pygments_lexer": "ipython3",
   "version": "3.11.7"
  }
 },
 "nbformat": 4,
 "nbformat_minor": 4
}
