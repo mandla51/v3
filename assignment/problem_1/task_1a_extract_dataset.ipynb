{
 "cells": [
  {
   "cell_type": "markdown",
   "id": "ac408b5e",
   "metadata": {
    "deletable": false,
    "editable": false,
    "nbgrader": {
     "cell_type": "markdown",
     "checksum": "7619294def77410a539e618e2428f0d5",
     "grade": false,
     "grade_id": "cell-b00828259c8e42e8",
     "locked": true,
     "schema_version": 3,
     "solution": false,
     "task": false
    }
   },
   "source": [
    "# RO47019: Intelligent Control Systems Practical Assignment\n",
    "* Period: 2023-2024, Q3\n",
    "* Course homepage: https://brightspace.tudelft.nl/d2l/home/500969\n",
    "* Instructor: Cosimo Della Santina (C.DellaSantina@tudelft.nl)\n",
    "* Teaching assistant: Maria de Neves de Fonseca (M.deNevesdeFonseca-1@student.tudelft.nl)\n",
    "* (c) TU Delft, 2024\n",
    "\n",
    "Make sure you fill in any place that says `YOUR CODE HERE` or `YOUR ANSWER HERE`. Remove `raise NotImplementedError()` afterwards. Moreover, if you see an empty cell, please DO NOT delete it, instead run that cell as you would run all other cells. Please fill in your name(s) and other required details below:"
   ]
  },
  {
   "cell_type": "code",
   "execution_count": null,
   "id": "4f9e220c",
   "metadata": {},
   "outputs": [],
   "source": [
    "# Please fill in your names, student numbers, netID, and emails below.\n",
    "STUDENT_1_NAME = \"\"\n",
    "STUDENT_1_STUDENT_NUMBER = \"\"\n",
    "STUDENT_1_NETID = \"\"\n",
    "STUDENT_1_EMAIL = \"\""
   ]
  },
  {
   "cell_type": "code",
   "execution_count": null,
   "id": "8ba32571",
   "metadata": {
    "deletable": false,
    "editable": false,
    "nbgrader": {
     "cell_type": "code",
     "checksum": "042927213b84aa368aa3ea72caa4cb60",
     "grade": true,
     "grade_id": "cell-9f148ec62e0de49c",
     "locked": true,
     "points": 0,
     "schema_version": 3,
     "solution": false,
     "task": false
    }
   },
   "outputs": [],
   "source": [
    "# Note: this block is a check that you have filled in the above information.\n",
    "# It will throw an AssertionError until all fields are filled\n",
    "assert STUDENT_1_NAME != \"\"\n",
    "assert STUDENT_1_STUDENT_NUMBER != \"\"\n",
    "assert STUDENT_1_NETID != \"\"\n",
    "assert STUDENT_1_EMAIL != \"\""
   ]
  },
  {
   "cell_type": "markdown",
   "id": "af317a94",
   "metadata": {
    "deletable": false,
    "editable": false,
    "nbgrader": {
     "cell_type": "markdown",
     "checksum": "95c5b11f9ac3896252d342cabb38d867",
     "grade": false,
     "grade_id": "cell-4ea391677951116c",
     "locked": true,
     "schema_version": 3,
     "solution": false,
     "task": false
    }
   },
   "source": [
    "### General announcements\n",
    "\n",
    "* Do *not* share your solutions (also after the course is finished), and do *not* copy solutions from others. By submitting your solutions, you claim that you alone are responsible for this code.\n",
    "\n",
    "* Do *not* email questions directly, since we want to provide everybody with the same information and avoid repeating the same answers. Instead, please post your questions regarding this assignment in the correct support forum on Brightspace, this way everybody can benefit from the response. If you do have a particular question that you want to ask directly, please use the scheduled Q&A hours to ask the TA.\n",
    "\n",
    "* There is a strict deadline for each assignment. Students are responsible to ensure that they have uploaded their work in time. So, please double check that your upload succeeded to the Brightspace and avoid any late penalties.\n",
    "\n",
    "* This [Jupyter notebook](https://jupyter.org/) uses `nbgrader` to help us with automated tests. `nbgrader` will make various cells in this notebook \"uneditable\" or \"unremovable\" and gives them a special id in the cell metadata. This way, when we run our checks, the system will check the existence of the cell ids and verify the number of points and which checks must be run. While there are ways that you can edit the metadata and work around the restrictions to delete or modify these special cells, you should not do that since then our nbgrader backend will not be able to parse your notebook and give you points for the assignment. You are free to add additional cells, but if you find a cell that you cannot modify or remove, please know that this is on purpose.\n",
    "\n",
    "* This notebook will have in various places a line that throws a `NotImplementedError` exception. These are locations where the assignment requires you to adapt the code! These lines are just there as a reminder for you that you have not yet adapted that particular piece of code, especially when you execute all the cells. Once your solution code replaced these lines, it should accordingly *not* throw any exceptions anymore.\n",
    "\n",
    "Before you turn this problem in, make sure everything runs as expected. First, **restart the kernel** (in the menubar, select Kernel$\\rightarrow$Restart) and then **run all cells** (in the menubar, select Cell$\\rightarrow$Run All)."
   ]
  },
  {
   "cell_type": "code",
   "execution_count": null,
   "id": "3c956945",
   "metadata": {},
   "outputs": [],
   "source": []
  },
  {
   "cell_type": "markdown",
   "id": "dbf8b043",
   "metadata": {
    "deletable": false,
    "editable": false,
    "nbgrader": {
     "cell_type": "markdown",
     "checksum": "12ed09d7625ef52bcf53b6eb0a2fe9ee",
     "grade": false,
     "grade_id": "cell-817ac677fdbf5f38",
     "locked": true,
     "schema_version": 3,
     "solution": false,
     "task": false
    }
   },
   "source": [
    "# Task 1a - Extract the datasets (0p)\n",
    "\n",
    "**Authors:** Chuhan Zhang (C.Zhang-8@tudelft.nl), Tomás Coleman\n"
   ]
  },
  {
   "cell_type": "markdown",
   "id": "22c4a982",
   "metadata": {
    "deletable": false,
    "editable": false,
    "nbgrader": {
     "cell_type": "markdown",
     "checksum": "aca0b083d479d9a5bece137e80649dbb",
     "grade": false,
     "grade_id": "cell-310f243cc64fa643",
     "locked": true,
     "schema_version": 3,
     "solution": false,
     "task": false
    }
   },
   "source": [
    "## Task 1a.1 - Extracting the dataset from the provided ZIP archive\n",
    "\n",
    "To train the model, we require data. Therefore, we generate images of the robot at various positions in its state space. \n",
    "At every position chosen in the state space, an RGB image with dimensions `500x500x3` is generated as observation data $x$ together with the corresponding robot configuration $s=\\theta$, where $\\theta$ is the link angle of the robot. \n",
    "The angle $\\theta$ is in radians and ranges from $[-\\pi, \\pi]$. When the pendulum is pointing straight up, it is 0. A positive angle corresponds to a right-handed rotation around the z-axis (i.e., counter-clockwise).\n",
    "\n",
    "In this task, we use the OpenAI Gym environment to generate the image of a single pendulum with its corresponding angle. This dataset is already generated and provided in the zip archive `source/problem_1/datasets/pendulum_dataset.zip`. Therefore, you do not need any knowledge about OpenAI Gym. During the dataset generation process, we sampled the pendulum position with an interval of 0.1 degrees and then rendered the pendulum at the given configuration. Therefore, we generated a total of 3,600 samples of data, equally covering the robot's configuration space.\n",
    "\n",
    "Run the cells below to generate the dataset needed for the problems in Task 1b.\n",
    "\n",
    "**This notebook is not graded, but running the code in this notebook is required for all subsequent tasks in problem 1.**\n",
    "\n",
    "**Please do __not__ include the datasets of Problem 1 in your final submission!**, i.e., exclude the `source/problem_1/datasets` folder from your ZIP archive."
   ]
  },
  {
   "cell_type": "code",
   "execution_count": null,
   "id": "c3c52a0c-bd72-48ab-9b33-69a1ae94ce5a",
   "metadata": {
    "deletable": false,
    "editable": false,
    "nbgrader": {
     "cell_type": "code",
     "checksum": "66812e070784f79235c18b57f1838f11",
     "grade": false,
     "grade_id": "cell-5ef64adbd2217253",
     "locked": true,
     "schema_version": 3,
     "solution": false,
     "task": false
    }
   },
   "outputs": [],
   "source": [
    "# import the necessary dependencies\n",
    "import imageio\n",
    "from IPython.display import display, Image\n",
    "import numpy as np\n",
    "from os import PathLike\n",
    "from pathlib import Path\n",
    "from typing import List"
   ]
  },
  {
   "cell_type": "markdown",
   "id": "e0ddb8c3",
   "metadata": {
    "deletable": false,
    "editable": false,
    "nbgrader": {
     "cell_type": "markdown",
     "checksum": "bb9907403cc40faa1e47e37d5f0c585b",
     "grade": false,
     "grade_id": "cell-be84d4675659dc2a",
     "locked": true,
     "schema_version": 3,
     "solution": false,
     "task": false
    }
   },
   "source": [
    "The data is already generated and you don't need to learn anything about OpenAI Gym environment. First of all, we will unzip the dataset folder:"
   ]
  },
  {
   "cell_type": "code",
   "execution_count": null,
   "id": "89c5afaf",
   "metadata": {
    "deletable": false,
    "editable": false,
    "nbgrader": {
     "cell_type": "code",
     "checksum": "ad3a256ba5f121e64630c7ea1d3b5c26",
     "grade": false,
     "grade_id": "cell-fcb62dcfcbc2105a",
     "locked": true,
     "schema_version": 3,
     "solution": false,
     "task": false
    }
   },
   "outputs": [],
   "source": [
    "from shutil import rmtree\n",
    "from zipfile import ZipFile\n",
    "\n",
    "datasets_folder = Path(\"datasets\")\n",
    "# specify the path to the pendulum dataset folder\n",
    "dataset_path = Path(\"datasets\") / \"pendulum_dataset\"\n",
    "\n",
    "# remove datasets/pendulum_dataset folder if it already exists\n",
    "if dataset_path.exists():\n",
    "    rmtree(dataset_path)\n",
    "\n",
    "# unzip the dataset into datatsets/pendulum_datasets\n",
    "with ZipFile(datasets_folder / \"pendulum_dataset.zip\", \"r\") as zip:\n",
    "    # extracting all the files\n",
    "    print(\"Extracting the pendulum dataset files now...\")\n",
    "    zip.printdir()\n",
    "    zip.extractall(path=datasets_folder)\n",
    "    print(\"Done!\")"
   ]
  },
  {
   "cell_type": "markdown",
   "id": "dbc89b10",
   "metadata": {
    "deletable": false,
    "editable": false,
    "nbgrader": {
     "cell_type": "markdown",
     "checksum": "e67df9a6d420b1a0a8ae2f5c69a8952d",
     "grade": false,
     "grade_id": "cell-72c416f12f85f1dd",
     "locked": true,
     "schema_version": 3,
     "solution": false,
     "task": false
    }
   },
   "source": [
    "A folder called `pendulum_dataset` should be in the `datasets` directory. Please do NOT submit this `datasets` folder with your answers! In the `datasets/pendulum_dataset` folder, the image data is saved in the format of `image{number}.npz,` with serial numbers from 0 to 3,599. The `label{number}.npz` files also contain position information in the same order as the image data. In the following section, we call it label data."
   ]
  },
  {
   "cell_type": "markdown",
   "id": "496aad91-8869-41b6-b23c-f94acffada40",
   "metadata": {
    "deletable": false,
    "editable": false,
    "nbgrader": {
     "cell_type": "markdown",
     "checksum": "3108d58dde031c8552c1767f12d14fe4",
     "grade": false,
     "grade_id": "cell-ecec9d7e2ac26b21",
     "locked": true,
     "schema_version": 3,
     "solution": false,
     "task": false
    }
   },
   "source": [
    "## Task 1a.2 - Visualizing the dataset"
   ]
  },
  {
   "cell_type": "markdown",
   "id": "ae7f7df0-a18d-42ff-b638-14076a26260a",
   "metadata": {
    "deletable": false,
    "editable": false,
    "nbgrader": {
     "cell_type": "markdown",
     "checksum": "c2a9d123c70242cf027179c49ea1d635",
     "grade": false,
     "grade_id": "cell-3fa8eec3701d65da",
     "locked": true,
     "schema_version": 3,
     "solution": false,
     "task": false
    }
   },
   "source": [
    "We also provide the code for generating a GIF to visualize the data distribution. This visualization program samples every 100 images and generates a GIF. At the end, you should get a dynamic picture in which the pendulum is rotating uniformly in a two-dimensional plane around its central axis.\n",
    "\n",
    "We prepared some helper methods to visualize the dataset. We want to sample 36 images in an average way in the dataset to show the movement trend of the pendulum. The method `load_img` reads the image data from the dataset, and the method `create_gif` will create a gif animation to show the data."
   ]
  },
  {
   "cell_type": "code",
   "execution_count": null,
   "id": "7f922c21-8830-4b61-9c04-0f88c61c77d7",
   "metadata": {
    "deletable": false,
    "editable": false,
    "nbgrader": {
     "cell_type": "code",
     "checksum": "51e76d86a8ad9b4e67771e5f8723c9bb",
     "grade": false,
     "grade_id": "cell-822cda980f474bb0",
     "locked": true,
     "schema_version": 3,
     "solution": false,
     "task": false
    }
   },
   "outputs": [],
   "source": [
    "# Function to read the images\n",
    "def load_img(path: PathLike) -> List[np.ndarray]:\n",
    "    \"\"\"\n",
    "    Load the generated images from the given dataset path.\n",
    "\n",
    "    Args:\n",
    "        path: Path to the dataset containing the images.\n",
    "    Returns:\n",
    "        images: A list of numpy arrays, each representing an image.\n",
    "    \"\"\"\n",
    "    images = []\n",
    "    i = 0\n",
    "    while (Path(path) / f\"image{i}.npz\").exists():\n",
    "        img = np.load(Path(path) / f\"image{i}.npz\")[\"arr_0\"]\n",
    "        images.append(img)\n",
    "        i += 100\n",
    "    return images\n",
    "\n",
    "\n",
    "# Function to create a GIF from images\n",
    "def create_gif(\n",
    "    images: List[np.ndarray], filepath: PathLike, fps: float = 500.0\n",
    ") -> None:\n",
    "    \"\"\"\n",
    "    Create a GIF from a list of images.\n",
    "\n",
    "    Args:\n",
    "        images: A list of images, each as a numpy array.\n",
    "        filepath: The filepath where the GIF should be saved.\n",
    "        fps: The number of frames per second in the GIF.\n",
    "    Returns:\n",
    "    \"\"\"\n",
    "    with imageio.get_writer(filepath, mode=\"I\", fps=fps, loop=0) as writer:\n",
    "        for img in images:\n",
    "            writer.append_data(np.uint8(img))"
   ]
  },
  {
   "cell_type": "markdown",
   "id": "cbb810e0-e814-482b-804a-6bb3baf079a8",
   "metadata": {
    "deletable": false,
    "editable": false,
    "nbgrader": {
     "cell_type": "markdown",
     "checksum": "9683f5afae27fa1277f2d9ce93bc19ea",
     "grade": false,
     "grade_id": "cell-932ea2ae59c9dcf0",
     "locked": true,
     "schema_version": 3,
     "solution": false,
     "task": false
    }
   },
   "source": [
    "We load the saved gif and display it here."
   ]
  },
  {
   "cell_type": "code",
   "execution_count": null,
   "id": "7f66785e-1c25-42fb-9ce3-7f1f99af0915",
   "metadata": {
    "deletable": false,
    "editable": false,
    "nbgrader": {
     "cell_type": "code",
     "checksum": "c26fadcf555ee389539482b7411cadf8",
     "grade": false,
     "grade_id": "cell-c7a425d3a4e9ca52",
     "locked": true,
     "schema_version": 3,
     "solution": false,
     "task": false
    }
   },
   "outputs": [],
   "source": [
    "# specify the path to the GIF file with the dataset animation\n",
    "gif_path = Path(\"datasets\") / \"pendulum_dataset.gif\"\n",
    "\n",
    "# create the gif\n",
    "create_gif(load_img(dataset_path), gif_path)\n",
    "\n",
    "# display the gif\n",
    "display(Image(filename=gif_path))"
   ]
  },
  {
   "cell_type": "code",
   "execution_count": null,
   "id": "459c86d9-c8c3-4cdf-8c8a-f101b941c90c",
   "metadata": {},
   "outputs": [],
   "source": []
  }
 ],
 "metadata": {
  "kernelspec": {
   "display_name": "Python 3 (ipykernel)",
   "language": "python",
   "name": "python3"
  },
  "language_info": {
   "codemirror_mode": {
    "name": "ipython",
    "version": 3
   },
   "file_extension": ".py",
   "mimetype": "text/x-python",
   "name": "python",
   "nbconvert_exporter": "python",
   "pygments_lexer": "ipython3",
   "version": "3.11.7"
  }
 },
 "nbformat": 4,
 "nbformat_minor": 5
}
